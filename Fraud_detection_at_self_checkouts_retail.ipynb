{
  "nbformat": 4,
  "nbformat_minor": 0,
  "metadata": {
    "colab": {
      "name": "Fraud detection at self-checkouts retail.ipynb",
      "provenance": [],
      "collapsed_sections": [],
      "toc_visible": true
    },
    "kernelspec": {
      "name": "python3",
      "display_name": "Python 3"
    }
  },
  "cells": [
    {
      "cell_type": "markdown",
      "metadata": {
        "id": "YLtqC71T-f-i"
      },
      "source": [
        "The objective is to create a model to classify the scans as fraudulent or non-fraudulent. The classification does not take into account whether the fraud was committed intentionally or inadvertently."
      ]
    },
    {
      "cell_type": "code",
      "metadata": {
        "id": "83r_KFBeadK1"
      },
      "source": [
        "import numpy as np\n",
        "import pandas as pd\n",
        "from sklearn.model_selection import train_test_split\n",
        "from sklearn.preprocessing import StandardScaler\n",
        "#Import model library\n",
        "from sklearn.ensemble import RandomForestClassifier\n",
        "from sklearn.tree import DecisionTreeClassifier\n",
        "from sklearn.naive_bayes import GaussianNB\n",
        "from sklearn.linear_model import LogisticRegression\n",
        "from sklearn.ensemble import AdaBoostClassifier\n",
        "#Import scikit-learn metrics module for accuracy calculation\n",
        "from sklearn import metrics\n",
        "from sklearn.metrics import confusion_matrix, f1_score, classification_report\n",
        "from sklearn.metrics import precision_score\n",
        "#Import library for plotting\n",
        "import matplotlib.pyplot as plt\n",
        "import seaborn as sns"
      ],
      "execution_count": null,
      "outputs": []
    },
    {
      "cell_type": "code",
      "metadata": {
        "colab": {
          "base_uri": "https://localhost:8080/"
        },
        "id": "kOXiMINiYnSg",
        "outputId": "3aa0ae73-a371-479b-c4da-cb98155893cf"
      },
      "source": [
        "!unzip \"/content/DMC_2019_task.zip\" -d  \"/content\" "
      ],
      "execution_count": null,
      "outputs": [
        {
          "output_type": "stream",
          "text": [
            "Archive:  /content/DMC_2019_task.zip\n",
            "replace /content/DMC_2019_task/DATA-MINING-CUP-2019-features.pdf? [y]es, [n]o, [A]ll, [N]one, [r]ename: A\n",
            "  inflating: /content/DMC_2019_task/DATA-MINING-CUP-2019-features.pdf  \n",
            "  inflating: /content/DMC_2019_task/DATA-MINING-CUP-2019-task.pdf  \n",
            "  inflating: /content/DMC_2019_task/test.csv  \n",
            "  inflating: /content/DMC_2019_task/train.csv  \n"
          ],
          "name": "stdout"
        }
      ]
    },
    {
      "cell_type": "code",
      "metadata": {
        "colab": {
          "base_uri": "https://localhost:8080/",
          "height": 439
        },
        "id": "X3VaOt6Cak8B",
        "outputId": "65f1785e-2ae6-4367-c6b9-93ba23d3f9ac"
      },
      "source": [
        "df = pd.read_csv('/content/DMC_2019_task/train.csv',sep='|')\n",
        "df"
      ],
      "execution_count": null,
      "outputs": [
        {
          "output_type": "execute_result",
          "data": {
            "text/html": [
              "<div>\n",
              "<style scoped>\n",
              "    .dataframe tbody tr th:only-of-type {\n",
              "        vertical-align: middle;\n",
              "    }\n",
              "\n",
              "    .dataframe tbody tr th {\n",
              "        vertical-align: top;\n",
              "    }\n",
              "\n",
              "    .dataframe thead th {\n",
              "        text-align: right;\n",
              "    }\n",
              "</style>\n",
              "<table border=\"1\" class=\"dataframe\">\n",
              "  <thead>\n",
              "    <tr style=\"text-align: right;\">\n",
              "      <th></th>\n",
              "      <th>trustLevel</th>\n",
              "      <th>totalScanTimeInSeconds</th>\n",
              "      <th>grandTotal</th>\n",
              "      <th>lineItemVoids</th>\n",
              "      <th>scansWithoutRegistration</th>\n",
              "      <th>quantityModifications</th>\n",
              "      <th>scannedLineItemsPerSecond</th>\n",
              "      <th>valuePerSecond</th>\n",
              "      <th>lineItemVoidsPerPosition</th>\n",
              "      <th>fraud</th>\n",
              "    </tr>\n",
              "  </thead>\n",
              "  <tbody>\n",
              "    <tr>\n",
              "      <th>0</th>\n",
              "      <td>5</td>\n",
              "      <td>1054</td>\n",
              "      <td>54.70</td>\n",
              "      <td>7</td>\n",
              "      <td>0</td>\n",
              "      <td>3</td>\n",
              "      <td>0.027514</td>\n",
              "      <td>0.051898</td>\n",
              "      <td>0.241379</td>\n",
              "      <td>0</td>\n",
              "    </tr>\n",
              "    <tr>\n",
              "      <th>1</th>\n",
              "      <td>3</td>\n",
              "      <td>108</td>\n",
              "      <td>27.36</td>\n",
              "      <td>5</td>\n",
              "      <td>2</td>\n",
              "      <td>4</td>\n",
              "      <td>0.129630</td>\n",
              "      <td>0.253333</td>\n",
              "      <td>0.357143</td>\n",
              "      <td>0</td>\n",
              "    </tr>\n",
              "    <tr>\n",
              "      <th>2</th>\n",
              "      <td>3</td>\n",
              "      <td>1516</td>\n",
              "      <td>62.16</td>\n",
              "      <td>3</td>\n",
              "      <td>10</td>\n",
              "      <td>5</td>\n",
              "      <td>0.008575</td>\n",
              "      <td>0.041003</td>\n",
              "      <td>0.230769</td>\n",
              "      <td>0</td>\n",
              "    </tr>\n",
              "    <tr>\n",
              "      <th>3</th>\n",
              "      <td>6</td>\n",
              "      <td>1791</td>\n",
              "      <td>92.31</td>\n",
              "      <td>8</td>\n",
              "      <td>4</td>\n",
              "      <td>4</td>\n",
              "      <td>0.016192</td>\n",
              "      <td>0.051541</td>\n",
              "      <td>0.275862</td>\n",
              "      <td>0</td>\n",
              "    </tr>\n",
              "    <tr>\n",
              "      <th>4</th>\n",
              "      <td>5</td>\n",
              "      <td>430</td>\n",
              "      <td>81.53</td>\n",
              "      <td>3</td>\n",
              "      <td>7</td>\n",
              "      <td>2</td>\n",
              "      <td>0.062791</td>\n",
              "      <td>0.189605</td>\n",
              "      <td>0.111111</td>\n",
              "      <td>0</td>\n",
              "    </tr>\n",
              "    <tr>\n",
              "      <th>...</th>\n",
              "      <td>...</td>\n",
              "      <td>...</td>\n",
              "      <td>...</td>\n",
              "      <td>...</td>\n",
              "      <td>...</td>\n",
              "      <td>...</td>\n",
              "      <td>...</td>\n",
              "      <td>...</td>\n",
              "      <td>...</td>\n",
              "      <td>...</td>\n",
              "    </tr>\n",
              "    <tr>\n",
              "      <th>1874</th>\n",
              "      <td>1</td>\n",
              "      <td>321</td>\n",
              "      <td>76.03</td>\n",
              "      <td>8</td>\n",
              "      <td>7</td>\n",
              "      <td>2</td>\n",
              "      <td>0.071651</td>\n",
              "      <td>0.236854</td>\n",
              "      <td>0.347826</td>\n",
              "      <td>0</td>\n",
              "    </tr>\n",
              "    <tr>\n",
              "      <th>1875</th>\n",
              "      <td>1</td>\n",
              "      <td>397</td>\n",
              "      <td>41.89</td>\n",
              "      <td>5</td>\n",
              "      <td>5</td>\n",
              "      <td>0</td>\n",
              "      <td>0.065491</td>\n",
              "      <td>0.105516</td>\n",
              "      <td>0.192308</td>\n",
              "      <td>1</td>\n",
              "    </tr>\n",
              "    <tr>\n",
              "      <th>1876</th>\n",
              "      <td>4</td>\n",
              "      <td>316</td>\n",
              "      <td>41.83</td>\n",
              "      <td>5</td>\n",
              "      <td>8</td>\n",
              "      <td>1</td>\n",
              "      <td>0.094937</td>\n",
              "      <td>0.132373</td>\n",
              "      <td>0.166667</td>\n",
              "      <td>0</td>\n",
              "    </tr>\n",
              "    <tr>\n",
              "      <th>1877</th>\n",
              "      <td>2</td>\n",
              "      <td>685</td>\n",
              "      <td>62.68</td>\n",
              "      <td>1</td>\n",
              "      <td>6</td>\n",
              "      <td>2</td>\n",
              "      <td>0.035036</td>\n",
              "      <td>0.091504</td>\n",
              "      <td>0.041667</td>\n",
              "      <td>0</td>\n",
              "    </tr>\n",
              "    <tr>\n",
              "      <th>1878</th>\n",
              "      <td>4</td>\n",
              "      <td>1140</td>\n",
              "      <td>38.03</td>\n",
              "      <td>2</td>\n",
              "      <td>2</td>\n",
              "      <td>3</td>\n",
              "      <td>0.016667</td>\n",
              "      <td>0.033360</td>\n",
              "      <td>0.105263</td>\n",
              "      <td>0</td>\n",
              "    </tr>\n",
              "  </tbody>\n",
              "</table>\n",
              "<p>1879 rows × 10 columns</p>\n",
              "</div>"
            ],
            "text/plain": [
              "      trustLevel  totalScanTimeInSeconds  ...  lineItemVoidsPerPosition  fraud\n",
              "0              5                    1054  ...                  0.241379      0\n",
              "1              3                     108  ...                  0.357143      0\n",
              "2              3                    1516  ...                  0.230769      0\n",
              "3              6                    1791  ...                  0.275862      0\n",
              "4              5                     430  ...                  0.111111      0\n",
              "...          ...                     ...  ...                       ...    ...\n",
              "1874           1                     321  ...                  0.347826      0\n",
              "1875           1                     397  ...                  0.192308      1\n",
              "1876           4                     316  ...                  0.166667      0\n",
              "1877           2                     685  ...                  0.041667      0\n",
              "1878           4                    1140  ...                  0.105263      0\n",
              "\n",
              "[1879 rows x 10 columns]"
            ]
          },
          "metadata": {
            "tags": []
          },
          "execution_count": 3
        }
      ]
    },
    {
      "cell_type": "markdown",
      "metadata": {
        "id": "QFAasorHPU8_"
      },
      "source": [
        "##Exploration"
      ]
    },
    {
      "cell_type": "markdown",
      "metadata": {
        "id": "Sd7OjHLGlTX2"
      },
      "source": [
        "###Check missing values"
      ]
    },
    {
      "cell_type": "code",
      "metadata": {
        "colab": {
          "base_uri": "https://localhost:8080/",
          "height": 317
        },
        "id": "oRIh0kCgiI6B",
        "outputId": "cd68f5c1-6453-472f-8818-78ce8b560528"
      },
      "source": [
        "df.describe()"
      ],
      "execution_count": null,
      "outputs": [
        {
          "output_type": "execute_result",
          "data": {
            "text/html": [
              "<div>\n",
              "<style scoped>\n",
              "    .dataframe tbody tr th:only-of-type {\n",
              "        vertical-align: middle;\n",
              "    }\n",
              "\n",
              "    .dataframe tbody tr th {\n",
              "        vertical-align: top;\n",
              "    }\n",
              "\n",
              "    .dataframe thead th {\n",
              "        text-align: right;\n",
              "    }\n",
              "</style>\n",
              "<table border=\"1\" class=\"dataframe\">\n",
              "  <thead>\n",
              "    <tr style=\"text-align: right;\">\n",
              "      <th></th>\n",
              "      <th>trustLevel</th>\n",
              "      <th>totalScanTimeInSeconds</th>\n",
              "      <th>grandTotal</th>\n",
              "      <th>lineItemVoids</th>\n",
              "      <th>scansWithoutRegistration</th>\n",
              "      <th>quantityModifications</th>\n",
              "      <th>scannedLineItemsPerSecond</th>\n",
              "      <th>valuePerSecond</th>\n",
              "      <th>lineItemVoidsPerPosition</th>\n",
              "      <th>fraud</th>\n",
              "    </tr>\n",
              "  </thead>\n",
              "  <tbody>\n",
              "    <tr>\n",
              "      <th>count</th>\n",
              "      <td>1879.000000</td>\n",
              "      <td>1879.000000</td>\n",
              "      <td>1879.000000</td>\n",
              "      <td>1879.000000</td>\n",
              "      <td>1879.000000</td>\n",
              "      <td>1879.000000</td>\n",
              "      <td>1879.000000</td>\n",
              "      <td>1879.000000</td>\n",
              "      <td>1879.000000</td>\n",
              "      <td>1879.000000</td>\n",
              "    </tr>\n",
              "    <tr>\n",
              "      <th>mean</th>\n",
              "      <td>3.401809</td>\n",
              "      <td>932.153273</td>\n",
              "      <td>50.864492</td>\n",
              "      <td>5.469931</td>\n",
              "      <td>4.904204</td>\n",
              "      <td>2.525279</td>\n",
              "      <td>0.058138</td>\n",
              "      <td>0.201746</td>\n",
              "      <td>0.745404</td>\n",
              "      <td>0.055349</td>\n",
              "    </tr>\n",
              "    <tr>\n",
              "      <th>std</th>\n",
              "      <td>1.709404</td>\n",
              "      <td>530.144640</td>\n",
              "      <td>28.940202</td>\n",
              "      <td>3.451169</td>\n",
              "      <td>3.139697</td>\n",
              "      <td>1.695472</td>\n",
              "      <td>0.278512</td>\n",
              "      <td>1.242135</td>\n",
              "      <td>1.327241</td>\n",
              "      <td>0.228720</td>\n",
              "    </tr>\n",
              "    <tr>\n",
              "      <th>min</th>\n",
              "      <td>1.000000</td>\n",
              "      <td>2.000000</td>\n",
              "      <td>0.010000</td>\n",
              "      <td>0.000000</td>\n",
              "      <td>0.000000</td>\n",
              "      <td>0.000000</td>\n",
              "      <td>0.000548</td>\n",
              "      <td>0.000007</td>\n",
              "      <td>0.000000</td>\n",
              "      <td>0.000000</td>\n",
              "    </tr>\n",
              "    <tr>\n",
              "      <th>25%</th>\n",
              "      <td>2.000000</td>\n",
              "      <td>474.500000</td>\n",
              "      <td>25.965000</td>\n",
              "      <td>2.000000</td>\n",
              "      <td>2.000000</td>\n",
              "      <td>1.000000</td>\n",
              "      <td>0.008384</td>\n",
              "      <td>0.027787</td>\n",
              "      <td>0.160000</td>\n",
              "      <td>0.000000</td>\n",
              "    </tr>\n",
              "    <tr>\n",
              "      <th>50%</th>\n",
              "      <td>3.000000</td>\n",
              "      <td>932.000000</td>\n",
              "      <td>51.210000</td>\n",
              "      <td>5.000000</td>\n",
              "      <td>5.000000</td>\n",
              "      <td>3.000000</td>\n",
              "      <td>0.016317</td>\n",
              "      <td>0.054498</td>\n",
              "      <td>0.350000</td>\n",
              "      <td>0.000000</td>\n",
              "    </tr>\n",
              "    <tr>\n",
              "      <th>75%</th>\n",
              "      <td>5.000000</td>\n",
              "      <td>1397.000000</td>\n",
              "      <td>77.285000</td>\n",
              "      <td>8.000000</td>\n",
              "      <td>8.000000</td>\n",
              "      <td>4.000000</td>\n",
              "      <td>0.032594</td>\n",
              "      <td>0.107313</td>\n",
              "      <td>0.666667</td>\n",
              "      <td>0.000000</td>\n",
              "    </tr>\n",
              "    <tr>\n",
              "      <th>max</th>\n",
              "      <td>6.000000</td>\n",
              "      <td>1831.000000</td>\n",
              "      <td>99.960000</td>\n",
              "      <td>11.000000</td>\n",
              "      <td>10.000000</td>\n",
              "      <td>5.000000</td>\n",
              "      <td>6.666667</td>\n",
              "      <td>37.870000</td>\n",
              "      <td>11.000000</td>\n",
              "      <td>1.000000</td>\n",
              "    </tr>\n",
              "  </tbody>\n",
              "</table>\n",
              "</div>"
            ],
            "text/plain": [
              "        trustLevel  ...        fraud\n",
              "count  1879.000000  ...  1879.000000\n",
              "mean      3.401809  ...     0.055349\n",
              "std       1.709404  ...     0.228720\n",
              "min       1.000000  ...     0.000000\n",
              "25%       2.000000  ...     0.000000\n",
              "50%       3.000000  ...     0.000000\n",
              "75%       5.000000  ...     0.000000\n",
              "max       6.000000  ...     1.000000\n",
              "\n",
              "[8 rows x 10 columns]"
            ]
          },
          "metadata": {
            "tags": []
          },
          "execution_count": 4
        }
      ]
    },
    {
      "cell_type": "markdown",
      "metadata": {
        "id": "OiQPZ74P8Kat"
      },
      "source": [
        "Dengan menggunakan describe function pada pandas, kita dapat melihat jumlah data dan nilai minimum data untuk melihat apakah ada missing value. Dapat dilihat bahwa count data setiap kolom jumlahnya sesuai dengan jumlah data train yaitu sebanyak 1879 baris. Pada nilai minimum tiap kolom ada beberapa yang memiliki nilai 0, namun itu bukanlah missing value karena pada deskripsi data\n",
        "dijelaskan bahwa kolom tersebut memang dapat berisi nilai 0. Setelah dilakukan eksplorasi pada data, tidak terdapat missing value pada data. Sehingga tidak perlu dilakukan imputation. \n"
      ]
    },
    {
      "cell_type": "code",
      "metadata": {
        "colab": {
          "base_uri": "https://localhost:8080/"
        },
        "id": "WUFbHDvhiLvZ",
        "outputId": "2988a695-44f1-416a-e906-895b0648b4e3"
      },
      "source": [
        "#datatype for each column\n",
        "df.dtypes"
      ],
      "execution_count": null,
      "outputs": [
        {
          "output_type": "execute_result",
          "data": {
            "text/plain": [
              "trustLevel                     int64\n",
              "totalScanTimeInSeconds         int64\n",
              "grandTotal                   float64\n",
              "lineItemVoids                  int64\n",
              "scansWithoutRegistration       int64\n",
              "quantityModifications          int64\n",
              "scannedLineItemsPerSecond    float64\n",
              "valuePerSecond               float64\n",
              "lineItemVoidsPerPosition     float64\n",
              "fraud                          int64\n",
              "dtype: object"
            ]
          },
          "metadata": {
            "tags": []
          },
          "execution_count": 5
        }
      ]
    },
    {
      "cell_type": "markdown",
      "metadata": {
        "id": "y3pRG1BylZq9"
      },
      "source": [
        "###Check distribution"
      ]
    },
    {
      "cell_type": "code",
      "metadata": {
        "colab": {
          "base_uri": "https://localhost:8080/",
          "height": 296
        },
        "id": "EzpKBs0GcPK5",
        "outputId": "ab15969e-f9ba-426f-8cf3-d75273a3459f"
      },
      "source": [
        "sns.countplot(x = 'fraud', data = df)"
      ],
      "execution_count": null,
      "outputs": [
        {
          "output_type": "execute_result",
          "data": {
            "text/plain": [
              "<matplotlib.axes._subplots.AxesSubplot at 0x7fb8bc398860>"
            ]
          },
          "metadata": {
            "tags": []
          },
          "execution_count": 7
        },
        {
          "output_type": "display_data",
          "data": {
            "image/png": "[encoded data removed]",
            "text/plain": [
              "<Figure size 432x288 with 1 Axes>"
            ]
          },
          "metadata": {
            "tags": [],
            "needs_background": "light"
          }
        }
      ]
    },
    {
      "cell_type": "markdown",
      "metadata": {
        "id": "rePExcKa8gae"
      },
      "source": [
        "Distribusi kelas pada fraud sangat tidak seimbang (imbalance data). Sehingga untuk pengukuran matrik evaluasi nanti perlu diperhatikan, sebaiknya tidak menggunakan akurasi."
      ]
    },
    {
      "cell_type": "code",
      "metadata": {
        "colab": {
          "base_uri": "https://localhost:8080/",
          "height": 296
        },
        "id": "x48LCADJcW2M",
        "outputId": "6935cea8-d926-4515-819a-9212f801a3cc"
      },
      "source": [
        "sns.countplot(x = 'trustLevel', data = df[df.fraud == 1])"
      ],
      "execution_count": null,
      "outputs": [
        {
          "output_type": "execute_result",
          "data": {
            "text/plain": [
              "<matplotlib.axes._subplots.AxesSubplot at 0x7fb8bbef0438>"
            ]
          },
          "metadata": {
            "tags": []
          },
          "execution_count": 8
        },
        {
          "output_type": "display_data",
          "data": {
            "image/png": "[encoded data removed]",
            "text/plain": [
              "<Figure size 432x288 with 1 Axes>"
            ]
          },
          "metadata": {
            "tags": [],
            "needs_background": "light"
          }
        }
      ]
    },
    {
      "cell_type": "markdown",
      "metadata": {
        "id": "KZrFFXV78phO"
      },
      "source": [
        "Dari data dapat dilihat bahwa data pembelian yang dikategorikan sebagai fraud merupakan data dengan trustLevel 0 dan 1."
      ]
    },
    {
      "cell_type": "code",
      "metadata": {
        "colab": {
          "base_uri": "https://localhost:8080/",
          "height": 296
        },
        "id": "Qy0WEncCewzi",
        "outputId": "bdb41846-c0de-4c54-a15d-7790ce5eabea"
      },
      "source": [
        "sns.countplot(x = 'totalScanTimeInSeconds', data = df)"
      ],
      "execution_count": null,
      "outputs": [
        {
          "output_type": "execute_result",
          "data": {
            "text/plain": [
              "<matplotlib.axes._subplots.AxesSubplot at 0x7fb8b99b9860>"
            ]
          },
          "metadata": {
            "tags": []
          },
          "execution_count": 9
        },
        {
          "output_type": "display_data",
          "data": {
            "image/png": "[encoded data removed]",
            "text/plain": [
              "<Figure size 432x288 with 1 Axes>"
            ]
          },
          "metadata": {
            "tags": [],
            "needs_background": "light"
          }
        }
      ]
    },
    {
      "cell_type": "code",
      "metadata": {
        "colab": {
          "base_uri": "https://localhost:8080/",
          "height": 296
        },
        "id": "RXpsNR3beyC7",
        "outputId": "374baf64-4c25-482d-dc2c-2a6899a6ec8f"
      },
      "source": [
        "sns.countplot(x = 'grandTotal', data = df)"
      ],
      "execution_count": null,
      "outputs": [
        {
          "output_type": "execute_result",
          "data": {
            "text/plain": [
              "<matplotlib.axes._subplots.AxesSubplot at 0x7fb8b7eaa588>"
            ]
          },
          "metadata": {
            "tags": []
          },
          "execution_count": 10
        },
        {
          "output_type": "display_data",
          "data": {
            "image/png": "[encoded data removed]",
            "text/plain": [
              "<Figure size 432x288 with 1 Axes>"
            ]
          },
          "metadata": {
            "tags": [],
            "needs_background": "light"
          }
        }
      ]
    },
    {
      "cell_type": "code",
      "metadata": {
        "colab": {
          "base_uri": "https://localhost:8080/",
          "height": 296
        },
        "id": "Pp5Ftto9e0BY",
        "outputId": "503eeb53-ce70-4d74-c20b-e70b1e21e8ed"
      },
      "source": [
        "sns.countplot(x = 'lineItemVoids', data = df)"
      ],
      "execution_count": null,
      "outputs": [
        {
          "output_type": "execute_result",
          "data": {
            "text/plain": [
              "<matplotlib.axes._subplots.AxesSubplot at 0x7fb8b6ed5080>"
            ]
          },
          "metadata": {
            "tags": []
          },
          "execution_count": 11
        },
        {
          "output_type": "display_data",
          "data": {
            "image/png": "[encoded data removed]",
            "text/plain": [
              "<Figure size 432x288 with 1 Axes>"
            ]
          },
          "metadata": {
            "tags": [],
            "needs_background": "light"
          }
        }
      ]
    },
    {
      "cell_type": "code",
      "metadata": {
        "colab": {
          "base_uri": "https://localhost:8080/",
          "height": 296
        },
        "id": "xjXk4C8bezxa",
        "outputId": "e8cb1a7b-436a-46c3-f1a8-1c56b0d506fc"
      },
      "source": [
        "sns.countplot(x = 'scansWithoutRegistration', data = df)"
      ],
      "execution_count": null,
      "outputs": [
        {
          "output_type": "execute_result",
          "data": {
            "text/plain": [
              "<matplotlib.axes._subplots.AxesSubplot at 0x7fb8b6c9da90>"
            ]
          },
          "metadata": {
            "tags": []
          },
          "execution_count": 12
        },
        {
          "output_type": "display_data",
          "data": {
            "image/png": "[encoded data removed]",
            "text/plain": [
              "<Figure size 432x288 with 1 Axes>"
            ]
          },
          "metadata": {
            "tags": [],
            "needs_background": "light"
          }
        }
      ]
    },
    {
      "cell_type": "code",
      "metadata": {
        "colab": {
          "base_uri": "https://localhost:8080/",
          "height": 296
        },
        "id": "JrZfxkveezVL",
        "outputId": "4bc42a44-35f5-429e-b2e7-25ba40422641"
      },
      "source": [
        "sns.countplot(x = 'quantityModifications', data = df)"
      ],
      "execution_count": null,
      "outputs": [
        {
          "output_type": "execute_result",
          "data": {
            "text/plain": [
              "<matplotlib.axes._subplots.AxesSubplot at 0x7fb8b7f0c208>"
            ]
          },
          "metadata": {
            "tags": []
          },
          "execution_count": 13
        },
        {
          "output_type": "display_data",
          "data": {
            "image/png": "[encoded data removed]",
            "text/plain": [
              "<Figure size 432x288 with 1 Axes>"
            ]
          },
          "metadata": {
            "tags": [],
            "needs_background": "light"
          }
        }
      ]
    },
    {
      "cell_type": "code",
      "metadata": {
        "colab": {
          "base_uri": "https://localhost:8080/",
          "height": 296
        },
        "id": "d2RtLqBJfBGb",
        "outputId": "2fa1977b-6608-4c32-f9e4-82bcda371f6e"
      },
      "source": [
        "sns.countplot(x = 'scannedLineItemsPerSecond', data = df)"
      ],
      "execution_count": null,
      "outputs": [
        {
          "output_type": "execute_result",
          "data": {
            "text/plain": [
              "<matplotlib.axes._subplots.AxesSubplot at 0x7fb8b5828550>"
            ]
          },
          "metadata": {
            "tags": []
          },
          "execution_count": 14
        },
        {
          "output_type": "display_data",
          "data": {
            "image/png": "[encoded data removed]",
            "text/plain": [
              "<Figure size 432x288 with 1 Axes>"
            ]
          },
          "metadata": {
            "tags": [],
            "needs_background": "light"
          }
        }
      ]
    },
    {
      "cell_type": "code",
      "metadata": {
        "colab": {
          "base_uri": "https://localhost:8080/",
          "height": 296
        },
        "id": "kE_aSRkBfAnL",
        "outputId": "b233169b-ac33-4eac-d65e-a718aa261739"
      },
      "source": [
        "sns.countplot(x = 'valuePerSecond', data = df)"
      ],
      "execution_count": null,
      "outputs": [
        {
          "output_type": "execute_result",
          "data": {
            "text/plain": [
              "<matplotlib.axes._subplots.AxesSubplot at 0x7fb8b316d5c0>"
            ]
          },
          "metadata": {
            "tags": []
          },
          "execution_count": 15
        },
        {
          "output_type": "display_data",
          "data": {
            "image/png": "[encoded data removed]",
            "text/plain": [
              "<Figure size 432x288 with 1 Axes>"
            ]
          },
          "metadata": {
            "tags": [],
            "needs_background": "light"
          }
        }
      ]
    },
    {
      "cell_type": "code",
      "metadata": {
        "colab": {
          "base_uri": "https://localhost:8080/",
          "height": 296
        },
        "id": "hoUvyxWofAW_",
        "outputId": "08f6983b-3bbc-4d07-c6f3-7aa337cae9c6"
      },
      "source": [
        "sns.countplot(x = 'lineItemVoidsPerPosition', data = df)"
      ],
      "execution_count": null,
      "outputs": [
        {
          "output_type": "execute_result",
          "data": {
            "text/plain": [
              "<matplotlib.axes._subplots.AxesSubplot at 0x7fb8b1f6b400>"
            ]
          },
          "metadata": {
            "tags": []
          },
          "execution_count": 16
        },
        {
          "output_type": "display_data",
          "data": {
            "image/png": "[encoded data removed]",
            "text/plain": [
              "<Figure size 432x288 with 1 Axes>"
            ]
          },
          "metadata": {
            "tags": [],
            "needs_background": "light"
          }
        }
      ]
    },
    {
      "cell_type": "code",
      "metadata": {
        "colab": {
          "base_uri": "https://localhost:8080/",
          "height": 475
        },
        "id": "r7p8Tuz_iNWK",
        "outputId": "0aba98cc-5fbe-417d-9b37-655e20fcfb44"
      },
      "source": [
        "plt.figure(figsize=(6,6))\n",
        "plt.title(\"Distribution of trustLevel feature\")\n",
        "sns.distplot(df.trustLevel, kde=False)"
      ],
      "execution_count": null,
      "outputs": [
        {
          "output_type": "stream",
          "text": [
            "/usr/local/lib/python3.6/dist-packages/seaborn/distributions.py:2557: FutureWarning: `distplot` is a deprecated function and will be removed in a future version. Please adapt your code to use either `displot` (a figure-level function with similar flexibility) or `histplot` (an axes-level function for histograms).\n",
            "  warnings.warn(msg, FutureWarning)\n"
          ],
          "name": "stderr"
        },
        {
          "output_type": "execute_result",
          "data": {
            "text/plain": [
              "<matplotlib.axes._subplots.AxesSubplot at 0x7fb8b07f3668>"
            ]
          },
          "metadata": {
            "tags": []
          },
          "execution_count": 17
        },
        {
          "output_type": "display_data",
          "data": {
            "image/png": "[encoded data removed]",
            "text/plain": [
              "<Figure size 432x432 with 1 Axes>"
            ]
          },
          "metadata": {
            "tags": [],
            "needs_background": "light"
          }
        }
      ]
    },
    {
      "cell_type": "code",
      "metadata": {
        "colab": {
          "base_uri": "https://localhost:8080/",
          "height": 475
        },
        "id": "b62-RMBQiOQP",
        "outputId": "2bae218b-19cb-4f75-cf56-b1a1ff83784a"
      },
      "source": [
        "plt.figure(figsize=(6,6))\n",
        "plt.title(\"Distribution of totalScanTimeInSeconds feature\")\n",
        "sns.distplot(df.totalScanTimeInSeconds, kde=False)"
      ],
      "execution_count": null,
      "outputs": [
        {
          "output_type": "stream",
          "text": [
            "/usr/local/lib/python3.6/dist-packages/seaborn/distributions.py:2557: FutureWarning: `distplot` is a deprecated function and will be removed in a future version. Please adapt your code to use either `displot` (a figure-level function with similar flexibility) or `histplot` (an axes-level function for histograms).\n",
            "  warnings.warn(msg, FutureWarning)\n"
          ],
          "name": "stderr"
        },
        {
          "output_type": "execute_result",
          "data": {
            "text/plain": [
              "<matplotlib.axes._subplots.AxesSubplot at 0x7fb8b0776780>"
            ]
          },
          "metadata": {
            "tags": []
          },
          "execution_count": 18
        },
        {
          "output_type": "display_data",
          "data": {
            "image/png": "[encoded data removed]",
            "text/plain": [
              "<Figure size 432x432 with 1 Axes>"
            ]
          },
          "metadata": {
            "tags": [],
            "needs_background": "light"
          }
        }
      ]
    },
    {
      "cell_type": "code",
      "metadata": {
        "colab": {
          "base_uri": "https://localhost:8080/",
          "height": 475
        },
        "id": "ZRv9TMJ6iUAb",
        "outputId": "bdafa1cc-edbc-4ac9-a60d-b8bd55ebc7a7"
      },
      "source": [
        "plt.figure(figsize=(6,6))\n",
        "plt.title(\"Distribution of grandTotal feature\")\n",
        "sns.distplot(df.grandTotal, kde=False)"
      ],
      "execution_count": null,
      "outputs": [
        {
          "output_type": "stream",
          "text": [
            "/usr/local/lib/python3.6/dist-packages/seaborn/distributions.py:2557: FutureWarning: `distplot` is a deprecated function and will be removed in a future version. Please adapt your code to use either `displot` (a figure-level function with similar flexibility) or `histplot` (an axes-level function for histograms).\n",
            "  warnings.warn(msg, FutureWarning)\n"
          ],
          "name": "stderr"
        },
        {
          "output_type": "execute_result",
          "data": {
            "text/plain": [
              "<matplotlib.axes._subplots.AxesSubplot at 0x7fb8b0810668>"
            ]
          },
          "metadata": {
            "tags": []
          },
          "execution_count": 19
        },
        {
          "output_type": "display_data",
          "data": {
            "image/png": "[encoded data removed]",
            "text/plain": [
              "<Figure size 432x432 with 1 Axes>"
            ]
          },
          "metadata": {
            "tags": [],
            "needs_background": "light"
          }
        }
      ]
    },
    {
      "cell_type": "code",
      "metadata": {
        "colab": {
          "base_uri": "https://localhost:8080/",
          "height": 475
        },
        "id": "AvYtDj9diUDN",
        "outputId": "6e96c91e-bbab-4721-fe1f-b3c0486ea583"
      },
      "source": [
        "plt.figure(figsize=(6,6))\n",
        "plt.title(\"Distribution of lineItemVoids feature\")\n",
        "sns.distplot(df.lineItemVoids, kde=False)"
      ],
      "execution_count": null,
      "outputs": [
        {
          "output_type": "stream",
          "text": [
            "/usr/local/lib/python3.6/dist-packages/seaborn/distributions.py:2557: FutureWarning: `distplot` is a deprecated function and will be removed in a future version. Please adapt your code to use either `displot` (a figure-level function with similar flexibility) or `histplot` (an axes-level function for histograms).\n",
            "  warnings.warn(msg, FutureWarning)\n"
          ],
          "name": "stderr"
        },
        {
          "output_type": "execute_result",
          "data": {
            "text/plain": [
              "<matplotlib.axes._subplots.AxesSubplot at 0x7fb8b0728710>"
            ]
          },
          "metadata": {
            "tags": []
          },
          "execution_count": 20
        },
        {
          "output_type": "display_data",
          "data": {
            "image/png": "[encoded data removed]",
            "text/plain": [
              "<Figure size 432x432 with 1 Axes>"
            ]
          },
          "metadata": {
            "tags": [],
            "needs_background": "light"
          }
        }
      ]
    },
    {
      "cell_type": "code",
      "metadata": {
        "colab": {
          "base_uri": "https://localhost:8080/",
          "height": 475
        },
        "id": "QWsKidy9iUGX",
        "outputId": "8f6c1371-18dd-4ef0-c844-5d6e23235f34"
      },
      "source": [
        "plt.figure(figsize=(6,6))\n",
        "plt.title(\"Distribution of scansWithoutRegistration feature\")\n",
        "sns.distplot(df.scansWithoutRegistration, kde=False)"
      ],
      "execution_count": null,
      "outputs": [
        {
          "output_type": "stream",
          "text": [
            "/usr/local/lib/python3.6/dist-packages/seaborn/distributions.py:2557: FutureWarning: `distplot` is a deprecated function and will be removed in a future version. Please adapt your code to use either `displot` (a figure-level function with similar flexibility) or `histplot` (an axes-level function for histograms).\n",
            "  warnings.warn(msg, FutureWarning)\n"
          ],
          "name": "stderr"
        },
        {
          "output_type": "execute_result",
          "data": {
            "text/plain": [
              "<matplotlib.axes._subplots.AxesSubplot at 0x7fb8b05d0550>"
            ]
          },
          "metadata": {
            "tags": []
          },
          "execution_count": 21
        },
        {
          "output_type": "display_data",
          "data": {
            "image/png": "[encoded data removed]",
            "text/plain": [
              "<Figure size 432x432 with 1 Axes>"
            ]
          },
          "metadata": {
            "tags": [],
            "needs_background": "light"
          }
        }
      ]
    },
    {
      "cell_type": "code",
      "metadata": {
        "colab": {
          "base_uri": "https://localhost:8080/",
          "height": 475
        },
        "id": "EOsPzh5yiUI8",
        "outputId": "97b9d624-7420-4747-895c-2ecbf47f0940"
      },
      "source": [
        "plt.figure(figsize=(6,6))\n",
        "plt.title(\"Distribution of quantityModifications feature\")\n",
        "sns.distplot(df.quantityModifications, kde=False)"
      ],
      "execution_count": null,
      "outputs": [
        {
          "output_type": "stream",
          "text": [
            "/usr/local/lib/python3.6/dist-packages/seaborn/distributions.py:2557: FutureWarning: `distplot` is a deprecated function and will be removed in a future version. Please adapt your code to use either `displot` (a figure-level function with similar flexibility) or `histplot` (an axes-level function for histograms).\n",
            "  warnings.warn(msg, FutureWarning)\n"
          ],
          "name": "stderr"
        },
        {
          "output_type": "execute_result",
          "data": {
            "text/plain": [
              "<matplotlib.axes._subplots.AxesSubplot at 0x7fb8b0f21710>"
            ]
          },
          "metadata": {
            "tags": []
          },
          "execution_count": 22
        },
        {
          "output_type": "display_data",
          "data": {
            "image/png": "[encoded data removed]",
            "text/plain": [
              "<Figure size 432x432 with 1 Axes>"
            ]
          },
          "metadata": {
            "tags": [],
            "needs_background": "light"
          }
        }
      ]
    },
    {
      "cell_type": "code",
      "metadata": {
        "colab": {
          "base_uri": "https://localhost:8080/",
          "height": 509
        },
        "id": "FPGujQKBiULS",
        "outputId": "505b11e0-e008-4ba1-ce15-9b8a5fb978bd"
      },
      "source": [
        "plt.figure(figsize=(6,6))\n",
        "plt.title(\"Distribution of scannedLineItemsPerSecond feature\")\n",
        "sns.distplot(df.scannedLineItemsPerSecond, kde=False, rug=True)"
      ],
      "execution_count": null,
      "outputs": [
        {
          "output_type": "stream",
          "text": [
            "/usr/local/lib/python3.6/dist-packages/seaborn/distributions.py:2557: FutureWarning: `distplot` is a deprecated function and will be removed in a future version. Please adapt your code to use either `displot` (a figure-level function with similar flexibility) or `histplot` (an axes-level function for histograms).\n",
            "  warnings.warn(msg, FutureWarning)\n",
            "/usr/local/lib/python3.6/dist-packages/seaborn/distributions.py:2056: FutureWarning: The `axis` variable is no longer used and will be removed. Instead, assign variables directly to `x` or `y`.\n",
            "  warnings.warn(msg, FutureWarning)\n"
          ],
          "name": "stderr"
        },
        {
          "output_type": "execute_result",
          "data": {
            "text/plain": [
              "<matplotlib.axes._subplots.AxesSubplot at 0x7fb8b0e13ba8>"
            ]
          },
          "metadata": {
            "tags": []
          },
          "execution_count": 23
        },
        {
          "output_type": "display_data",
          "data": {
            "image/png": "[encoded data removed]",
            "text/plain": [
              "<Figure size 432x432 with 1 Axes>"
            ]
          },
          "metadata": {
            "tags": [],
            "needs_background": "light"
          }
        }
      ]
    },
    {
      "cell_type": "code",
      "metadata": {
        "colab": {
          "base_uri": "https://localhost:8080/",
          "height": 509
        },
        "id": "wJhGJgj5iUOt",
        "outputId": "6d01b7e2-be50-499d-ff23-9aacb8a49e46"
      },
      "source": [
        "plt.figure(figsize=(6,6))\n",
        "plt.title(\"Distribution of valuePerSecond feature\")\n",
        "sns.distplot(df.valuePerSecond, kde=False, rug=True)"
      ],
      "execution_count": null,
      "outputs": [
        {
          "output_type": "stream",
          "text": [
            "/usr/local/lib/python3.6/dist-packages/seaborn/distributions.py:2557: FutureWarning: `distplot` is a deprecated function and will be removed in a future version. Please adapt your code to use either `displot` (a figure-level function with similar flexibility) or `histplot` (an axes-level function for histograms).\n",
            "  warnings.warn(msg, FutureWarning)\n",
            "/usr/local/lib/python3.6/dist-packages/seaborn/distributions.py:2056: FutureWarning: The `axis` variable is no longer used and will be removed. Instead, assign variables directly to `x` or `y`.\n",
            "  warnings.warn(msg, FutureWarning)\n"
          ],
          "name": "stderr"
        },
        {
          "output_type": "execute_result",
          "data": {
            "text/plain": [
              "<matplotlib.axes._subplots.AxesSubplot at 0x7fb8afad1a20>"
            ]
          },
          "metadata": {
            "tags": []
          },
          "execution_count": 24
        },
        {
          "output_type": "display_data",
          "data": {
            "image/png": "[encoded data removed]",
            "text/plain": [
              "<Figure size 432x432 with 1 Axes>"
            ]
          },
          "metadata": {
            "tags": [],
            "needs_background": "light"
          }
        }
      ]
    },
    {
      "cell_type": "code",
      "metadata": {
        "colab": {
          "base_uri": "https://localhost:8080/",
          "height": 475
        },
        "id": "CeBPj_iBfKlu",
        "outputId": "76376c0f-ce7f-4b7e-9ed7-dc5e03e90d73"
      },
      "source": [
        "plt.figure(figsize=(6,6))\n",
        "plt.title(\"Distribution of lineItemVoidsPerPosition feature\")\n",
        "sns.distplot(df.lineItemVoidsPerPosition, kde=False, rug=False)"
      ],
      "execution_count": null,
      "outputs": [
        {
          "output_type": "stream",
          "text": [
            "/usr/local/lib/python3.6/dist-packages/seaborn/distributions.py:2557: FutureWarning: `distplot` is a deprecated function and will be removed in a future version. Please adapt your code to use either `displot` (a figure-level function with similar flexibility) or `histplot` (an axes-level function for histograms).\n",
            "  warnings.warn(msg, FutureWarning)\n"
          ],
          "name": "stderr"
        },
        {
          "output_type": "execute_result",
          "data": {
            "text/plain": [
              "<matplotlib.axes._subplots.AxesSubplot at 0x7fb8afa85828>"
            ]
          },
          "metadata": {
            "tags": []
          },
          "execution_count": 25
        },
        {
          "output_type": "display_data",
          "data": {
            "image/png": "[encoded data removed]",
            "text/plain": [
              "<Figure size 432x432 with 1 Axes>"
            ]
          },
          "metadata": {
            "tags": [],
            "needs_background": "light"
          }
        }
      ]
    },
    {
      "cell_type": "code",
      "metadata": {
        "colab": {
          "base_uri": "https://localhost:8080/",
          "height": 391
        },
        "id": "qd320J0rgi3Y",
        "outputId": "e52d3f49-457c-4e03-88ed-50a313ed0c45"
      },
      "source": [
        "#correlation between  trustlevel and fraud\n",
        "\n",
        "plt.figure(figsize=(100, 100))\n",
        "df_train_nona= df[df['fraud'].notnull()]\n",
        "g = sns.pairplot(df_train_nona[['trustLevel', 'fraud']] )"
      ],
      "execution_count": null,
      "outputs": [
        {
          "output_type": "display_data",
          "data": {
            "text/plain": [
              "<Figure size 7200x7200 with 0 Axes>"
            ]
          },
          "metadata": {
            "tags": []
          }
        },
        {
          "output_type": "display_data",
          "data": {
            "image/png": "[encoded data removed]",
            "text/plain": [
              "<Figure size 360x360 with 6 Axes>"
            ]
          },
          "metadata": {
            "tags": [],
            "needs_background": "light"
          }
        }
      ]
    },
    {
      "cell_type": "markdown",
      "metadata": {
        "id": "niMEhaFMkENE"
      },
      "source": [
        "###Check outliers"
      ]
    },
    {
      "cell_type": "code",
      "metadata": {
        "colab": {
          "base_uri": "https://localhost:8080/",
          "height": 269
        },
        "id": "C0PDDKRst8UF",
        "outputId": "ed551fb4-e8a2-4a3d-d278-afc02ce7a650"
      },
      "source": [
        "sns.boxplot(y=df[\"totalScanTimeInSeconds\"])"
      ],
      "execution_count": null,
      "outputs": [
        {
          "output_type": "execute_result",
          "data": {
            "text/plain": [
              "<matplotlib.axes._subplots.AxesSubplot at 0x7fb8af62f2e8>"
            ]
          },
          "metadata": {
            "tags": []
          },
          "execution_count": 27
        },
        {
          "output_type": "display_data",
          "data": {
            "image/png": "[encoded data removed]",
            "text/plain": [
              "<Figure size 432x288 with 1 Axes>"
            ]
          },
          "metadata": {
            "tags": [],
            "needs_background": "light"
          }
        }
      ]
    },
    {
      "cell_type": "code",
      "metadata": {
        "colab": {
          "base_uri": "https://localhost:8080/",
          "height": 269
        },
        "id": "FVbeb-qou4LE",
        "outputId": "6e50660f-7b33-43e5-d1dd-4763c788e625"
      },
      "source": [
        "sns.boxplot(y=df[\"grandTotal\"])"
      ],
      "execution_count": null,
      "outputs": [
        {
          "output_type": "execute_result",
          "data": {
            "text/plain": [
              "<matplotlib.axes._subplots.AxesSubplot at 0x7fb8af5bcbe0>"
            ]
          },
          "metadata": {
            "tags": []
          },
          "execution_count": 28
        },
        {
          "output_type": "display_data",
          "data": {
            "image/png": "[encoded data removed]",
            "text/plain": [
              "<Figure size 432x288 with 1 Axes>"
            ]
          },
          "metadata": {
            "tags": [],
            "needs_background": "light"
          }
        }
      ]
    },
    {
      "cell_type": "code",
      "metadata": {
        "colab": {
          "base_uri": "https://localhost:8080/",
          "height": 269
        },
        "id": "f18pjJkIvErL",
        "outputId": "0b8f0147-337d-4bd1-86af-ef58409fc561"
      },
      "source": [
        "sns.boxplot(y=df[\"lineItemVoids\"])"
      ],
      "execution_count": null,
      "outputs": [
        {
          "output_type": "execute_result",
          "data": {
            "text/plain": [
              "<matplotlib.axes._subplots.AxesSubplot at 0x7fb8af580e48>"
            ]
          },
          "metadata": {
            "tags": []
          },
          "execution_count": 29
        },
        {
          "output_type": "display_data",
          "data": {
            "image/png": "[encoded data removed]",
            "text/plain": [
              "<Figure size 432x288 with 1 Axes>"
            ]
          },
          "metadata": {
            "tags": [],
            "needs_background": "light"
          }
        }
      ]
    },
    {
      "cell_type": "code",
      "metadata": {
        "colab": {
          "base_uri": "https://localhost:8080/",
          "height": 269
        },
        "id": "VToWBGSruaDR",
        "outputId": "c80c7d48-fa2b-46a8-a888-a574c4726ae0"
      },
      "source": [
        "sns.boxplot(y=df[\"scansWithoutRegistration\"])"
      ],
      "execution_count": null,
      "outputs": [
        {
          "output_type": "execute_result",
          "data": {
            "text/plain": [
              "<matplotlib.axes._subplots.AxesSubplot at 0x7fb8af4e0978>"
            ]
          },
          "metadata": {
            "tags": []
          },
          "execution_count": 30
        },
        {
          "output_type": "display_data",
          "data": {
            "image/png": "[encoded data removed]",
            "text/plain": [
              "<Figure size 432x288 with 1 Axes>"
            ]
          },
          "metadata": {
            "tags": [],
            "needs_background": "light"
          }
        }
      ]
    },
    {
      "cell_type": "code",
      "metadata": {
        "colab": {
          "base_uri": "https://localhost:8080/",
          "height": 269
        },
        "id": "SGLnXuV1uw5n",
        "outputId": "57ad8e85-495e-4088-fd9e-67cf91315e63"
      },
      "source": [
        "sns.boxplot(y=df[\"quantityModifications\"])"
      ],
      "execution_count": null,
      "outputs": [
        {
          "output_type": "execute_result",
          "data": {
            "text/plain": [
              "<matplotlib.axes._subplots.AxesSubplot at 0x7fb8af4bb588>"
            ]
          },
          "metadata": {
            "tags": []
          },
          "execution_count": 31
        },
        {
          "output_type": "display_data",
          "data": {
            "image/png": "[encoded data removed]",
            "text/plain": [
              "<Figure size 432x288 with 1 Axes>"
            ]
          },
          "metadata": {
            "tags": [],
            "needs_background": "light"
          }
        }
      ]
    },
    {
      "cell_type": "code",
      "metadata": {
        "colab": {
          "base_uri": "https://localhost:8080/",
          "height": 269
        },
        "id": "bxyU8c3PuRTc",
        "outputId": "c9138431-5515-44f0-fa34-1d5a222c9621"
      },
      "source": [
        "sns.boxplot(y=df[\"scannedLineItemsPerSecond\"])"
      ],
      "execution_count": null,
      "outputs": [
        {
          "output_type": "execute_result",
          "data": {
            "text/plain": [
              "<matplotlib.axes._subplots.AxesSubplot at 0x7fb8af5bc240>"
            ]
          },
          "metadata": {
            "tags": []
          },
          "execution_count": 32
        },
        {
          "output_type": "display_data",
          "data": {
            "image/png": "[encoded data removed]",
            "text/plain": [
              "<Figure size 432x288 with 1 Axes>"
            ]
          },
          "metadata": {
            "tags": [],
            "needs_background": "light"
          }
        }
      ]
    },
    {
      "cell_type": "code",
      "metadata": {
        "colab": {
          "base_uri": "https://localhost:8080/",
          "height": 269
        },
        "id": "WL4hqMmBvP7v",
        "outputId": "59a54bc8-56d0-4cf7-f63b-49250e7639ac"
      },
      "source": [
        "sns.boxplot(y=df[\"valuePerSecond\"])"
      ],
      "execution_count": null,
      "outputs": [
        {
          "output_type": "execute_result",
          "data": {
            "text/plain": [
              "<matplotlib.axes._subplots.AxesSubplot at 0x7fb8af3f6198>"
            ]
          },
          "metadata": {
            "tags": []
          },
          "execution_count": 33
        },
        {
          "output_type": "display_data",
          "data": {
            "image/png": "[encoded data removed]",
            "text/plain": [
              "<Figure size 432x288 with 1 Axes>"
            ]
          },
          "metadata": {
            "tags": [],
            "needs_background": "light"
          }
        }
      ]
    },
    {
      "cell_type": "code",
      "metadata": {
        "colab": {
          "base_uri": "https://localhost:8080/",
          "height": 269
        },
        "id": "wkmhHFDKuekt",
        "outputId": "0547b5a6-cccd-447a-da82-98adc3b286d1"
      },
      "source": [
        "sns.boxplot(y=df[\"lineItemVoidsPerPosition\"])"
      ],
      "execution_count": null,
      "outputs": [
        {
          "output_type": "execute_result",
          "data": {
            "text/plain": [
              "<matplotlib.axes._subplots.AxesSubplot at 0x7fb8af372a90>"
            ]
          },
          "metadata": {
            "tags": []
          },
          "execution_count": 34
        },
        {
          "output_type": "display_data",
          "data": {
            "image/png": "[encoded data removed]",
            "text/plain": [
              "<Figure size 432x288 with 1 Axes>"
            ]
          },
          "metadata": {
            "tags": [],
            "needs_background": "light"
          }
        }
      ]
    },
    {
      "cell_type": "markdown",
      "metadata": {
        "id": "xoKg-UMT8Yrf"
      },
      "source": [
        "Outliers merupakan titik data yang nilainya sangat ekstrim atau berbeda dengan nilai data lainnya. Untuk mendeteksi outlier dapat menggunakan boxplot. Terdapat outliers pada 3 kolom, yaitu scannedLineItemsPerSecond, valuePerSecond, lineItemVoidsPerPosition. \n",
        "\n",
        "Namun karena ini adalah permasalahan untuk mendeteksi transaksi mana yang merupakan fraud (penggelapan), outliers merupakan data yang penting karena ketika ada titik data yang memiliki nilai ekstrim tersebut bisa saja merupakan fraud tersebut. Misalnya ketika pembeli rata-rata melakukan scanning sebanyak 2-5 menit, maka ketika ada seorang pembeli yang melakukan scanning dalam 15 menit kemungkinan transaksi itu fraud sangatlah tinggi. Untuk itu outliers tetap dibiarkan saja dan tidak dihilangkan.\n"
      ]
    },
    {
      "cell_type": "markdown",
      "metadata": {
        "id": "GXr9NQQDPY5d"
      },
      "source": [
        "##Feature Engineering"
      ]
    },
    {
      "cell_type": "code",
      "metadata": {
        "colab": {
          "base_uri": "https://localhost:8080/"
        },
        "id": "h5QJhGIHVn6n",
        "outputId": "115be8ba-74b2-4c77-98a5-02a491ecb998"
      },
      "source": [
        "df[df.fraud == 1]['trustLevel'].value_counts()"
      ],
      "execution_count": null,
      "outputs": [
        {
          "output_type": "execute_result",
          "data": {
            "text/plain": [
              "1    89\n",
              "2    15\n",
              "Name: trustLevel, dtype: int64"
            ]
          },
          "metadata": {
            "tags": []
          },
          "execution_count": 35
        }
      ]
    },
    {
      "cell_type": "code",
      "metadata": {
        "colab": {
          "base_uri": "https://localhost:8080/",
          "height": 439
        },
        "id": "MufWicenUehH",
        "outputId": "c42fc3a7-a2c2-4098-e4b8-f0df1d4a01e7"
      },
      "source": [
        "df[df.fraud == 1]"
      ],
      "execution_count": null,
      "outputs": [
        {
          "output_type": "execute_result",
          "data": {
            "text/html": [
              "<div>\n",
              "<style scoped>\n",
              "    .dataframe tbody tr th:only-of-type {\n",
              "        vertical-align: middle;\n",
              "    }\n",
              "\n",
              "    .dataframe tbody tr th {\n",
              "        vertical-align: top;\n",
              "    }\n",
              "\n",
              "    .dataframe thead th {\n",
              "        text-align: right;\n",
              "    }\n",
              "</style>\n",
              "<table border=\"1\" class=\"dataframe\">\n",
              "  <thead>\n",
              "    <tr style=\"text-align: right;\">\n",
              "      <th></th>\n",
              "      <th>trustLevel</th>\n",
              "      <th>totalScanTimeInSeconds</th>\n",
              "      <th>grandTotal</th>\n",
              "      <th>lineItemVoids</th>\n",
              "      <th>scansWithoutRegistration</th>\n",
              "      <th>quantityModifications</th>\n",
              "      <th>scannedLineItemsPerSecond</th>\n",
              "      <th>valuePerSecond</th>\n",
              "      <th>lineItemVoidsPerPosition</th>\n",
              "      <th>fraud</th>\n",
              "    </tr>\n",
              "  </thead>\n",
              "  <tbody>\n",
              "    <tr>\n",
              "      <th>5</th>\n",
              "      <td>1</td>\n",
              "      <td>770</td>\n",
              "      <td>11.09</td>\n",
              "      <td>11</td>\n",
              "      <td>5</td>\n",
              "      <td>2</td>\n",
              "      <td>0.033766</td>\n",
              "      <td>0.014403</td>\n",
              "      <td>0.423077</td>\n",
              "      <td>1</td>\n",
              "    </tr>\n",
              "    <tr>\n",
              "      <th>37</th>\n",
              "      <td>2</td>\n",
              "      <td>1397</td>\n",
              "      <td>62.59</td>\n",
              "      <td>7</td>\n",
              "      <td>9</td>\n",
              "      <td>4</td>\n",
              "      <td>0.017895</td>\n",
              "      <td>0.044803</td>\n",
              "      <td>0.280000</td>\n",
              "      <td>1</td>\n",
              "    </tr>\n",
              "    <tr>\n",
              "      <th>53</th>\n",
              "      <td>1</td>\n",
              "      <td>1385</td>\n",
              "      <td>34.68</td>\n",
              "      <td>5</td>\n",
              "      <td>8</td>\n",
              "      <td>4</td>\n",
              "      <td>0.019495</td>\n",
              "      <td>0.025040</td>\n",
              "      <td>0.185185</td>\n",
              "      <td>1</td>\n",
              "    </tr>\n",
              "    <tr>\n",
              "      <th>91</th>\n",
              "      <td>1</td>\n",
              "      <td>996</td>\n",
              "      <td>71.94</td>\n",
              "      <td>7</td>\n",
              "      <td>0</td>\n",
              "      <td>1</td>\n",
              "      <td>0.027108</td>\n",
              "      <td>0.072229</td>\n",
              "      <td>0.259259</td>\n",
              "      <td>1</td>\n",
              "    </tr>\n",
              "    <tr>\n",
              "      <th>97</th>\n",
              "      <td>2</td>\n",
              "      <td>1305</td>\n",
              "      <td>87.65</td>\n",
              "      <td>7</td>\n",
              "      <td>8</td>\n",
              "      <td>4</td>\n",
              "      <td>0.021456</td>\n",
              "      <td>0.067165</td>\n",
              "      <td>0.250000</td>\n",
              "      <td>1</td>\n",
              "    </tr>\n",
              "    <tr>\n",
              "      <th>...</th>\n",
              "      <td>...</td>\n",
              "      <td>...</td>\n",
              "      <td>...</td>\n",
              "      <td>...</td>\n",
              "      <td>...</td>\n",
              "      <td>...</td>\n",
              "      <td>...</td>\n",
              "      <td>...</td>\n",
              "      <td>...</td>\n",
              "      <td>...</td>\n",
              "    </tr>\n",
              "    <tr>\n",
              "      <th>1822</th>\n",
              "      <td>2</td>\n",
              "      <td>1689</td>\n",
              "      <td>13.70</td>\n",
              "      <td>8</td>\n",
              "      <td>1</td>\n",
              "      <td>1</td>\n",
              "      <td>0.017762</td>\n",
              "      <td>0.008111</td>\n",
              "      <td>0.266667</td>\n",
              "      <td>1</td>\n",
              "    </tr>\n",
              "    <tr>\n",
              "      <th>1838</th>\n",
              "      <td>1</td>\n",
              "      <td>1465</td>\n",
              "      <td>58.95</td>\n",
              "      <td>10</td>\n",
              "      <td>0</td>\n",
              "      <td>2</td>\n",
              "      <td>0.017065</td>\n",
              "      <td>0.040239</td>\n",
              "      <td>0.400000</td>\n",
              "      <td>1</td>\n",
              "    </tr>\n",
              "    <tr>\n",
              "      <th>1852</th>\n",
              "      <td>1</td>\n",
              "      <td>801</td>\n",
              "      <td>73.63</td>\n",
              "      <td>6</td>\n",
              "      <td>1</td>\n",
              "      <td>4</td>\n",
              "      <td>0.034956</td>\n",
              "      <td>0.091923</td>\n",
              "      <td>0.214286</td>\n",
              "      <td>1</td>\n",
              "    </tr>\n",
              "    <tr>\n",
              "      <th>1857</th>\n",
              "      <td>1</td>\n",
              "      <td>1400</td>\n",
              "      <td>59.43</td>\n",
              "      <td>3</td>\n",
              "      <td>6</td>\n",
              "      <td>2</td>\n",
              "      <td>0.016429</td>\n",
              "      <td>0.042450</td>\n",
              "      <td>0.130435</td>\n",
              "      <td>1</td>\n",
              "    </tr>\n",
              "    <tr>\n",
              "      <th>1875</th>\n",
              "      <td>1</td>\n",
              "      <td>397</td>\n",
              "      <td>41.89</td>\n",
              "      <td>5</td>\n",
              "      <td>5</td>\n",
              "      <td>0</td>\n",
              "      <td>0.065491</td>\n",
              "      <td>0.105516</td>\n",
              "      <td>0.192308</td>\n",
              "      <td>1</td>\n",
              "    </tr>\n",
              "  </tbody>\n",
              "</table>\n",
              "<p>104 rows × 10 columns</p>\n",
              "</div>"
            ],
            "text/plain": [
              "      trustLevel  totalScanTimeInSeconds  ...  lineItemVoidsPerPosition  fraud\n",
              "5              1                     770  ...                  0.423077      1\n",
              "37             2                    1397  ...                  0.280000      1\n",
              "53             1                    1385  ...                  0.185185      1\n",
              "91             1                     996  ...                  0.259259      1\n",
              "97             2                    1305  ...                  0.250000      1\n",
              "...          ...                     ...  ...                       ...    ...\n",
              "1822           2                    1689  ...                  0.266667      1\n",
              "1838           1                    1465  ...                  0.400000      1\n",
              "1852           1                     801  ...                  0.214286      1\n",
              "1857           1                    1400  ...                  0.130435      1\n",
              "1875           1                     397  ...                  0.192308      1\n",
              "\n",
              "[104 rows x 10 columns]"
            ]
          },
          "metadata": {
            "tags": []
          },
          "execution_count": 36
        }
      ]
    },
    {
      "cell_type": "code",
      "metadata": {
        "id": "i3UeZlZRkaff"
      },
      "source": [
        "X = df.iloc[:,:9]\n",
        "y = df.iloc[:,9:]"
      ],
      "execution_count": null,
      "outputs": []
    },
    {
      "cell_type": "markdown",
      "metadata": {
        "id": "dvyF7n5NlhbR"
      },
      "source": [
        "###Feature creation"
      ]
    },
    {
      "cell_type": "markdown",
      "metadata": {
        "id": "C46YI4spkiXS"
      },
      "source": [
        "We will create new feature to know how many total item customer get."
      ]
    },
    {
      "cell_type": "code",
      "metadata": {
        "id": "euqQcR2GkehU"
      },
      "source": [
        "#feature creation\n",
        "\n",
        "X['totalItem'] = X['totalScanTimeInSeconds']*X['scannedLineItemsPerSecond']"
      ],
      "execution_count": null,
      "outputs": []
    },
    {
      "cell_type": "code",
      "metadata": {
        "colab": {
          "base_uri": "https://localhost:8080/",
          "height": 691
        },
        "id": "fo-Mb0DDidvK",
        "outputId": "52fef531-2238-4e2a-b4ff-75f42b5a5285"
      },
      "source": [
        "#correlation matrix\n",
        "\n",
        "corrmat = df.corr()\n",
        "f, ax = plt.subplots(figsize=(12, 9))\n",
        "sns.heatmap(corrmat, annot=True, square=True)"
      ],
      "execution_count": null,
      "outputs": [
        {
          "output_type": "execute_result",
          "data": {
            "text/plain": [
              "<matplotlib.axes._subplots.AxesSubplot at 0x7fb8c457d908>"
            ]
          },
          "metadata": {
            "tags": []
          },
          "execution_count": 6
        },
        {
          "output_type": "display_data",
          "data": {
            "image/png": "[encoded data removed]",
            "text/plain": [
              "<Figure size 864x648 with 2 Axes>"
            ]
          },
          "metadata": {
            "tags": [],
            "needs_background": "light"
          }
        }
      ]
    },
    {
      "cell_type": "markdown",
      "metadata": {
        "id": "tlAcQQxH9V7a"
      },
      "source": [
        "Untuk melihat korelasi antar fitur digunakan perhitungan pearson correlation. Pearson correlation akan menghitung apakah antar fitur memiliki korelasi dengan kelas sehingga nanti memudahkan untuk memilih fitur untuk dimasukkan ke dalam model. Nilai pearson correlation berkisar dari -1 hingga 1. Jika nilai mendekati 0 maka hampir tidak ada korelasi. Jika nilai mendekati -1 adanya korelasi yang berkebalikan. Jika nilainya mendekati satu maka sangat berkorelasi."
      ]
    },
    {
      "cell_type": "code",
      "metadata": {
        "id": "SmfQZMWfkkiN"
      },
      "source": [
        "#choose feature to input to the algorithm\n",
        "X = X[['trustLevel','totalItem','lineItemVoids',\n",
        "       'scansWithoutRegistration','totalScanTimeInSeconds']]"
      ],
      "execution_count": null,
      "outputs": []
    },
    {
      "cell_type": "code",
      "metadata": {
        "colab": {
          "base_uri": "https://localhost:8080/",
          "height": 204
        },
        "id": "_xL3qDK4kmN_",
        "outputId": "218c8d75-2f24-49e7-e412-503c9a4bb7c4"
      },
      "source": [
        "X.head()"
      ],
      "execution_count": null,
      "outputs": [
        {
          "output_type": "execute_result",
          "data": {
            "text/html": [
              "<div>\n",
              "<style scoped>\n",
              "    .dataframe tbody tr th:only-of-type {\n",
              "        vertical-align: middle;\n",
              "    }\n",
              "\n",
              "    .dataframe tbody tr th {\n",
              "        vertical-align: top;\n",
              "    }\n",
              "\n",
              "    .dataframe thead th {\n",
              "        text-align: right;\n",
              "    }\n",
              "</style>\n",
              "<table border=\"1\" class=\"dataframe\">\n",
              "  <thead>\n",
              "    <tr style=\"text-align: right;\">\n",
              "      <th></th>\n",
              "      <th>trustLevel</th>\n",
              "      <th>totalItem</th>\n",
              "      <th>lineItemVoids</th>\n",
              "      <th>scansWithoutRegistration</th>\n",
              "      <th>totalScanTimeInSeconds</th>\n",
              "    </tr>\n",
              "  </thead>\n",
              "  <tbody>\n",
              "    <tr>\n",
              "      <th>0</th>\n",
              "      <td>5</td>\n",
              "      <td>29.0</td>\n",
              "      <td>7</td>\n",
              "      <td>0</td>\n",
              "      <td>1054</td>\n",
              "    </tr>\n",
              "    <tr>\n",
              "      <th>1</th>\n",
              "      <td>3</td>\n",
              "      <td>14.0</td>\n",
              "      <td>5</td>\n",
              "      <td>2</td>\n",
              "      <td>108</td>\n",
              "    </tr>\n",
              "    <tr>\n",
              "      <th>2</th>\n",
              "      <td>3</td>\n",
              "      <td>13.0</td>\n",
              "      <td>3</td>\n",
              "      <td>10</td>\n",
              "      <td>1516</td>\n",
              "    </tr>\n",
              "    <tr>\n",
              "      <th>3</th>\n",
              "      <td>6</td>\n",
              "      <td>29.0</td>\n",
              "      <td>8</td>\n",
              "      <td>4</td>\n",
              "      <td>1791</td>\n",
              "    </tr>\n",
              "    <tr>\n",
              "      <th>4</th>\n",
              "      <td>5</td>\n",
              "      <td>27.0</td>\n",
              "      <td>3</td>\n",
              "      <td>7</td>\n",
              "      <td>430</td>\n",
              "    </tr>\n",
              "  </tbody>\n",
              "</table>\n",
              "</div>"
            ],
            "text/plain": [
              "   trustLevel  totalItem  ...  scansWithoutRegistration  totalScanTimeInSeconds\n",
              "0           5       29.0  ...                         0                    1054\n",
              "1           3       14.0  ...                         2                     108\n",
              "2           3       13.0  ...                        10                    1516\n",
              "3           6       29.0  ...                         4                    1791\n",
              "4           5       27.0  ...                         7                     430\n",
              "\n",
              "[5 rows x 5 columns]"
            ]
          },
          "metadata": {
            "tags": []
          },
          "execution_count": 40
        }
      ]
    },
    {
      "cell_type": "markdown",
      "metadata": {
        "id": "98ZX76mLlkHt"
      },
      "source": [
        "###Train test split"
      ]
    },
    {
      "cell_type": "code",
      "metadata": {
        "id": "0ftu2KFvkszJ"
      },
      "source": [
        "X_train, X_val, y_train, y_val = train_test_split(X, y, test_size=0.2, random_state=0)"
      ],
      "execution_count": null,
      "outputs": []
    },
    {
      "cell_type": "markdown",
      "metadata": {
        "id": "eeV5vXVXlqMr"
      },
      "source": [
        "###Standarization"
      ]
    },
    {
      "cell_type": "code",
      "metadata": {
        "colab": {
          "base_uri": "https://localhost:8080/",
          "height": 204
        },
        "id": "Umv-TI3jku-L",
        "outputId": "bd37b59e-a964-4e79-bb2c-6ed678b77686"
      },
      "source": [
        "sc = StandardScaler()\n",
        "X_train_sc = sc.fit_transform(X_train)\n",
        "X_val_sc = sc.transform(X_val)\n",
        "X_train = pd.DataFrame(X_train_sc, columns=X_train.columns)\n",
        "X_val = pd.DataFrame(X_val_sc, columns=X_val.columns)\n",
        "X_train.head()"
      ],
      "execution_count": null,
      "outputs": [
        {
          "output_type": "execute_result",
          "data": {
            "text/html": [
              "<div>\n",
              "<style scoped>\n",
              "    .dataframe tbody tr th:only-of-type {\n",
              "        vertical-align: middle;\n",
              "    }\n",
              "\n",
              "    .dataframe tbody tr th {\n",
              "        vertical-align: top;\n",
              "    }\n",
              "\n",
              "    .dataframe thead th {\n",
              "        text-align: right;\n",
              "    }\n",
              "</style>\n",
              "<table border=\"1\" class=\"dataframe\">\n",
              "  <thead>\n",
              "    <tr style=\"text-align: right;\">\n",
              "      <th></th>\n",
              "      <th>trustLevel</th>\n",
              "      <th>totalItem</th>\n",
              "      <th>lineItemVoids</th>\n",
              "      <th>scansWithoutRegistration</th>\n",
              "      <th>totalScanTimeInSeconds</th>\n",
              "    </tr>\n",
              "  </thead>\n",
              "  <tbody>\n",
              "    <tr>\n",
              "      <th>0</th>\n",
              "      <td>1.535330</td>\n",
              "      <td>-0.277636</td>\n",
              "      <td>-0.144050</td>\n",
              "      <td>-1.243991</td>\n",
              "      <td>1.609732</td>\n",
              "    </tr>\n",
              "    <tr>\n",
              "      <th>1</th>\n",
              "      <td>-0.238383</td>\n",
              "      <td>-1.546334</td>\n",
              "      <td>0.724295</td>\n",
              "      <td>0.675309</td>\n",
              "      <td>0.914537</td>\n",
              "    </tr>\n",
              "    <tr>\n",
              "      <th>2</th>\n",
              "      <td>0.352854</td>\n",
              "      <td>-1.084989</td>\n",
              "      <td>0.724295</td>\n",
              "      <td>1.634959</td>\n",
              "      <td>-0.919795</td>\n",
              "    </tr>\n",
              "    <tr>\n",
              "      <th>3</th>\n",
              "      <td>-0.829621</td>\n",
              "      <td>-1.315661</td>\n",
              "      <td>-0.433499</td>\n",
              "      <td>1.315076</td>\n",
              "      <td>1.451046</td>\n",
              "    </tr>\n",
              "    <tr>\n",
              "      <th>4</th>\n",
              "      <td>1.535330</td>\n",
              "      <td>0.991063</td>\n",
              "      <td>0.434847</td>\n",
              "      <td>1.315076</td>\n",
              "      <td>-0.124477</td>\n",
              "    </tr>\n",
              "  </tbody>\n",
              "</table>\n",
              "</div>"
            ],
            "text/plain": [
              "   trustLevel  totalItem  ...  scansWithoutRegistration  totalScanTimeInSeconds\n",
              "0    1.535330  -0.277636  ...                 -1.243991                1.609732\n",
              "1   -0.238383  -1.546334  ...                  0.675309                0.914537\n",
              "2    0.352854  -1.084989  ...                  1.634959               -0.919795\n",
              "3   -0.829621  -1.315661  ...                  1.315076                1.451046\n",
              "4    1.535330   0.991063  ...                  1.315076               -0.124477\n",
              "\n",
              "[5 rows x 5 columns]"
            ]
          },
          "metadata": {
            "tags": []
          },
          "execution_count": 42
        }
      ]
    },
    {
      "cell_type": "markdown",
      "metadata": {
        "id": "wBrlRKuh8_aL"
      },
      "source": [
        "Standarisasi menskalakan setiap variabel input secara terpisah dengan mengurangi mean dan membaginya dengan deviasi standar untuk menggeser distribusi agar memiliki mean nol dan deviasi standar satu. StandardScaler digunakan dalam proses ini."
      ]
    },
    {
      "cell_type": "code",
      "metadata": {
        "colab": {
          "base_uri": "https://localhost:8080/",
          "height": 204
        },
        "id": "Feotv3Ankxn-",
        "outputId": "34c30f1b-5be3-4430-cba4-777ef95c5c31"
      },
      "source": [
        "X_test = pd.read_csv('/content/DMC_2019_task/test.csv',sep='|')\n",
        "\n",
        "#feature creation\n",
        "X_test['totalItem'] = X_test['totalScanTimeInSeconds']*X_test['scannedLineItemsPerSecond']\n",
        "X_test = X_test[['trustLevel','totalItem','lineItemVoids',\n",
        "       'scansWithoutRegistration','totalScanTimeInSeconds']]\n",
        "X_test.head()"
      ],
      "execution_count": null,
      "outputs": [
        {
          "output_type": "execute_result",
          "data": {
            "text/html": [
              "<div>\n",
              "<style scoped>\n",
              "    .dataframe tbody tr th:only-of-type {\n",
              "        vertical-align: middle;\n",
              "    }\n",
              "\n",
              "    .dataframe tbody tr th {\n",
              "        vertical-align: top;\n",
              "    }\n",
              "\n",
              "    .dataframe thead th {\n",
              "        text-align: right;\n",
              "    }\n",
              "</style>\n",
              "<table border=\"1\" class=\"dataframe\">\n",
              "  <thead>\n",
              "    <tr style=\"text-align: right;\">\n",
              "      <th></th>\n",
              "      <th>trustLevel</th>\n",
              "      <th>totalItem</th>\n",
              "      <th>lineItemVoids</th>\n",
              "      <th>scansWithoutRegistration</th>\n",
              "      <th>totalScanTimeInSeconds</th>\n",
              "    </tr>\n",
              "  </thead>\n",
              "  <tbody>\n",
              "    <tr>\n",
              "      <th>0</th>\n",
              "      <td>4</td>\n",
              "      <td>7.0</td>\n",
              "      <td>4</td>\n",
              "      <td>8</td>\n",
              "      <td>467</td>\n",
              "    </tr>\n",
              "    <tr>\n",
              "      <th>1</th>\n",
              "      <td>3</td>\n",
              "      <td>27.0</td>\n",
              "      <td>7</td>\n",
              "      <td>6</td>\n",
              "      <td>1004</td>\n",
              "    </tr>\n",
              "    <tr>\n",
              "      <th>2</th>\n",
              "      <td>1</td>\n",
              "      <td>1.0</td>\n",
              "      <td>4</td>\n",
              "      <td>5</td>\n",
              "      <td>162</td>\n",
              "    </tr>\n",
              "    <tr>\n",
              "      <th>3</th>\n",
              "      <td>5</td>\n",
              "      <td>14.0</td>\n",
              "      <td>9</td>\n",
              "      <td>3</td>\n",
              "      <td>532</td>\n",
              "    </tr>\n",
              "    <tr>\n",
              "      <th>4</th>\n",
              "      <td>5</td>\n",
              "      <td>19.0</td>\n",
              "      <td>4</td>\n",
              "      <td>0</td>\n",
              "      <td>890</td>\n",
              "    </tr>\n",
              "  </tbody>\n",
              "</table>\n",
              "</div>"
            ],
            "text/plain": [
              "   trustLevel  totalItem  ...  scansWithoutRegistration  totalScanTimeInSeconds\n",
              "0           4        7.0  ...                         8                     467\n",
              "1           3       27.0  ...                         6                    1004\n",
              "2           1        1.0  ...                         5                     162\n",
              "3           5       14.0  ...                         3                     532\n",
              "4           5       19.0  ...                         0                     890\n",
              "\n",
              "[5 rows x 5 columns]"
            ]
          },
          "metadata": {
            "tags": []
          },
          "execution_count": 43
        }
      ]
    },
    {
      "cell_type": "code",
      "metadata": {
        "colab": {
          "base_uri": "https://localhost:8080/"
        },
        "id": "wW3BGuKvkxq4",
        "outputId": "4ac0bc8c-c460-4561-a9a8-2daed4c11cbc"
      },
      "source": [
        "X_test.shape"
      ],
      "execution_count": null,
      "outputs": [
        {
          "output_type": "execute_result",
          "data": {
            "text/plain": [
              "(498121, 5)"
            ]
          },
          "metadata": {
            "tags": []
          },
          "execution_count": 44
        }
      ]
    },
    {
      "cell_type": "code",
      "metadata": {
        "colab": {
          "base_uri": "https://localhost:8080/",
          "height": 204
        },
        "id": "pT2YX5jpk1nT",
        "outputId": "b6b3369b-5e9a-4e47-f1db-296fad16e973"
      },
      "source": [
        "y_test = pd.read_csv('/content/DMC-2019-realclass.csv')\n",
        "y_test.head()"
      ],
      "execution_count": null,
      "outputs": [
        {
          "output_type": "execute_result",
          "data": {
            "text/html": [
              "<div>\n",
              "<style scoped>\n",
              "    .dataframe tbody tr th:only-of-type {\n",
              "        vertical-align: middle;\n",
              "    }\n",
              "\n",
              "    .dataframe tbody tr th {\n",
              "        vertical-align: top;\n",
              "    }\n",
              "\n",
              "    .dataframe thead th {\n",
              "        text-align: right;\n",
              "    }\n",
              "</style>\n",
              "<table border=\"1\" class=\"dataframe\">\n",
              "  <thead>\n",
              "    <tr style=\"text-align: right;\">\n",
              "      <th></th>\n",
              "      <th>fraud</th>\n",
              "    </tr>\n",
              "  </thead>\n",
              "  <tbody>\n",
              "    <tr>\n",
              "      <th>0</th>\n",
              "      <td>0</td>\n",
              "    </tr>\n",
              "    <tr>\n",
              "      <th>1</th>\n",
              "      <td>0</td>\n",
              "    </tr>\n",
              "    <tr>\n",
              "      <th>2</th>\n",
              "      <td>0</td>\n",
              "    </tr>\n",
              "    <tr>\n",
              "      <th>3</th>\n",
              "      <td>0</td>\n",
              "    </tr>\n",
              "    <tr>\n",
              "      <th>4</th>\n",
              "      <td>0</td>\n",
              "    </tr>\n",
              "  </tbody>\n",
              "</table>\n",
              "</div>"
            ],
            "text/plain": [
              "   fraud\n",
              "0      0\n",
              "1      0\n",
              "2      0\n",
              "3      0\n",
              "4      0"
            ]
          },
          "metadata": {
            "tags": []
          },
          "execution_count": 45
        }
      ]
    },
    {
      "cell_type": "markdown",
      "metadata": {
        "id": "_bcoo5sglzxw"
      },
      "source": [
        "#Modelling"
      ]
    },
    {
      "cell_type": "code",
      "metadata": {
        "colab": {
          "base_uri": "https://localhost:8080/"
        },
        "id": "nvvRJQ7DkxvY",
        "outputId": "c67f2cbe-c8d1-4189-87fd-b41264d50426"
      },
      "source": [
        "print('Logistic Regression\\n')\n",
        "\n",
        "#Create Logistic Regression and Train the model using the training sets\n",
        "lrc = LogisticRegression(random_state=0).fit(X, y.values.ravel())\n",
        "\n",
        "#Predict the response for test dataset\n",
        "lrc_pred = lrc.predict(X_test)\n",
        "\n",
        "results = confusion_matrix(y_test, lrc_pred)\n",
        "print('Confusion Matrix :')\n",
        "print(results) \n",
        "print('Report : ')\n",
        "print(classification_report(y_test, lrc_pred))\n",
        "tn, fp, fn, tp = confusion_matrix(y_test, lrc_pred).ravel()\n",
        "print('True Negative: ',tn)\n",
        "print('False Positive: ',fp)\n",
        "print('True Positive: ',tp)\n",
        "print('False Negative: ',fn)\n",
        "print()\n",
        "print('Precision Score: ',precision_score(y_test, lrc_pred))\n",
        "print()\n",
        "print('Profit: ',(tp*5)+(tn*0)+(fp*-25)+(fn*-5))"
      ],
      "execution_count": null,
      "outputs": [
        {
          "output_type": "stream",
          "text": [
            "Logistic Regression\n",
            "\n"
          ],
          "name": "stdout"
        },
        {
          "output_type": "stream",
          "text": [
            "/usr/local/lib/python3.6/dist-packages/sklearn/linear_model/_logistic.py:940: ConvergenceWarning: lbfgs failed to converge (status=1):\n",
            "STOP: TOTAL NO. of ITERATIONS REACHED LIMIT.\n",
            "\n",
            "Increase the number of iterations (max_iter) or scale the data as shown in:\n",
            "    https://scikit-learn.org/stable/modules/preprocessing.html\n",
            "Please also refer to the documentation for alternative solver options:\n",
            "    https://scikit-learn.org/stable/modules/linear_model.html#logistic-regression\n",
            "  extra_warning_msg=_LOGISTIC_SOLVER_CONVERGENCE_MSG)\n"
          ],
          "name": "stderr"
        },
        {
          "output_type": "stream",
          "text": [
            "Confusion Matrix :\n",
            "[[472255   2139]\n",
            " [  2486  21241]]\n",
            "Report : \n",
            "              precision    recall  f1-score   support\n",
            "\n",
            "           0       0.99      1.00      1.00    474394\n",
            "           1       0.91      0.90      0.90     23727\n",
            "\n",
            "    accuracy                           0.99    498121\n",
            "   macro avg       0.95      0.95      0.95    498121\n",
            "weighted avg       0.99      0.99      0.99    498121\n",
            "\n",
            "True Negative:  472255\n",
            "False Positive:  2139\n",
            "True Positive:  21241\n",
            "False Negative:  2486\n",
            "\n",
            "Precision Score:  0.9085115483319076\n",
            "\n",
            "Profit:  40300\n"
          ],
          "name": "stdout"
        }
      ]
    },
    {
      "cell_type": "code",
      "metadata": {
        "colab": {
          "base_uri": "https://localhost:8080/"
        },
        "id": "ejmHJuW1kxyu",
        "outputId": "f470d842-05eb-4a6f-fb3e-2b09d7972c43"
      },
      "source": [
        "print('Adaboost\\n')\n",
        "# Create Adaboost Classifier with neighbours = 4\n",
        "adb = AdaBoostClassifier(n_estimators=100, random_state=0).fit(X, y)\n",
        "\n",
        "#Predict the response for test dataset\n",
        "adb_pred = adb.predict(X_test)\n",
        "\n",
        "results = confusion_matrix(y_test, adb_pred)\n",
        "print('Confusion Matrix :')\n",
        "print(results) \n",
        "print('Report : ')\n",
        "print(classification_report(y_test, adb_pred))\n",
        "# print('F1 Score: ',f1_score(y_test, adb_pred, average='macro'))\n",
        "tn, fp, fn, tp = confusion_matrix(y_test, adb_pred).ravel()\n",
        "print('TN: ',tn)\n",
        "print('FP: ',fp)\n",
        "print('TP: ',tp)\n",
        "print('FN: ',fn)\n",
        "print('Profit: ',(tp*5)+(tn*0)+(fp*-25)+(fn*-5))"
      ],
      "execution_count": null,
      "outputs": [
        {
          "output_type": "stream",
          "text": [
            "Adaboost\n",
            "\n"
          ],
          "name": "stdout"
        },
        {
          "output_type": "stream",
          "text": [
            "/usr/local/lib/python3.6/dist-packages/sklearn/utils/validation.py:760: DataConversionWarning: A column-vector y was passed when a 1d array was expected. Please change the shape of y to (n_samples, ), for example using ravel().\n",
            "  y = column_or_1d(y, warn=True)\n"
          ],
          "name": "stderr"
        },
        {
          "output_type": "stream",
          "text": [
            "Confusion Matrix :\n",
            "[[471742   2652]\n",
            " [  2473  21254]]\n",
            "Report : \n",
            "              precision    recall  f1-score   support\n",
            "\n",
            "           0       0.99      0.99      0.99    474394\n",
            "           1       0.89      0.90      0.89     23727\n",
            "\n",
            "    accuracy                           0.99    498121\n",
            "   macro avg       0.94      0.95      0.94    498121\n",
            "weighted avg       0.99      0.99      0.99    498121\n",
            "\n",
            "TN:  471742\n",
            "FP:  2652\n",
            "TP:  21254\n",
            "FN:  2473\n",
            "Profit:  27605\n"
          ],
          "name": "stdout"
        }
      ]
    },
    {
      "cell_type": "code",
      "metadata": {
        "colab": {
          "base_uri": "https://localhost:8080/"
        },
        "id": "irr6_VFKkx1n",
        "outputId": "c1c26fa3-8bda-4f63-e85e-aa729206aa43"
      },
      "source": [
        "print('Random Forest Classifier\\n')\n",
        "\n",
        "#Create Random Forest Classifier and Train the model using the training sets\n",
        "rfc = RandomForestClassifier(n_estimators=20).fit(X, y)\n",
        "\n",
        "#Predict the response for test dataset\n",
        "rfc_pred = rfc.predict(X_test)\n",
        "\n",
        "results = confusion_matrix(y_test, rfc_pred)\n",
        "print('Confusion Matrix :')\n",
        "print(results) \n",
        "print('Report : ')\n",
        "print(classification_report(y_test, rfc_pred))\n",
        "print('F1 Score: ',f1_score(y_test, rfc_pred, average='macro'))\n",
        "tn, fp, fn, tp = confusion_matrix(y_test, rfc_pred).ravel()\n",
        "print('TN: ',tn)\n",
        "print('FP: ',fp)\n",
        "print('TP: ',tp)\n",
        "print('FN: ',fn)\n",
        "print('Profit: ',(tp*5)+(tn*0)+(fp*-25)+(fn*-5))"
      ],
      "execution_count": null,
      "outputs": [
        {
          "output_type": "stream",
          "text": [
            "Random Forest Classifier\n",
            "\n"
          ],
          "name": "stdout"
        },
        {
          "output_type": "stream",
          "text": [
            "/usr/local/lib/python3.6/dist-packages/ipykernel_launcher.py:4: DataConversionWarning: A column-vector y was passed when a 1d array was expected. Please change the shape of y to (n_samples,), for example using ravel().\n",
            "  after removing the cwd from sys.path.\n"
          ],
          "name": "stderr"
        },
        {
          "output_type": "stream",
          "text": [
            "Confusion Matrix :\n",
            "[[471908   2486]\n",
            " [  5883  17844]]\n",
            "Report : \n",
            "              precision    recall  f1-score   support\n",
            "\n",
            "           0       0.99      0.99      0.99    474394\n",
            "           1       0.88      0.75      0.81     23727\n",
            "\n",
            "    accuracy                           0.98    498121\n",
            "   macro avg       0.93      0.87      0.90    498121\n",
            "weighted avg       0.98      0.98      0.98    498121\n",
            "\n",
            "F1 Score:  0.9006261393548762\n",
            "TN:  471908\n",
            "FP:  2486\n",
            "TP:  17844\n",
            "FN:  5883\n",
            "Profit:  -2345\n"
          ],
          "name": "stdout"
        }
      ]
    },
    {
      "cell_type": "markdown",
      "metadata": {
        "id": "ye8O12oB98vV"
      },
      "source": [
        "Setelah melakukan beberapa percobaan menggunakan algoritma Logistic Regression, Random Forest dan AdaBoost ternyata algoritma Logistic Regression  dapat mengklasifikasikan data dengan tepat. Sehingga dipilih model yang menggunakan Logistic Regression. Logistic Regression biasanya digunakan untuk klasifikasi  biner dengan 2 output. Fungsi sigmoid digunakan dalam Logistic Regression untuk menentukan kelas pada data. Logistic Regression merupakan algoritma yang sering digunakan dan simple. Probabilitas digunakan dalam Logistic Regression untuk menentukan suatu data termasuk ke kelas mana. Fungsi sigmoid akan digunakan untuk menghitung probabilitas data yang berkisar antara 0 hingga 1. Jika probabilitas data tersebut > 50% maka akan dimasukkan ke kelas positif (1) begitu juga sebaliknya.\n"
      ]
    },
    {
      "cell_type": "code",
      "metadata": {
        "id": "tPA1eeg0kyFn"
      },
      "source": [
        ""
      ],
      "execution_count": null,
      "outputs": []
    }
  ]
}