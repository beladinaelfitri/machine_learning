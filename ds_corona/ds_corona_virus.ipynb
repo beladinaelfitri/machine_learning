{
  "nbformat": 4,
  "nbformat_minor": 0,
  "metadata": {
    "colab": {
      "name": "ds-corona-virus.ipynb",
      "provenance": [],
      "collapsed_sections": []
    },
    "kernelspec": {
      "name": "python3",
      "display_name": "Python 3"
    }
  },
  "cells": [
    {
      "cell_type": "code",
      "metadata": {
        "id": "3NBayaPbJV8D",
        "colab_type": "code",
        "outputId": "f71202b2-1e77-4a35-f5a8-1c50ab2addbc",
        "colab": {
          "base_uri": "https://localhost:8080/",
          "height": 122
        }
      },
      "source": [
        "from google.colab import drive\n",
        "drive.mount('/content/drive')"
      ],
      "execution_count": 5,
      "outputs": [
        {
          "output_type": "stream",
          "text": [
            "Go to this URL in a browser: https://accounts.google.com/o/oauth2/auth?client_id=947318989803-6bn6qk8qdgf4n4g3pfee6491hc0brc4i.apps.googleusercontent.com&redirect_uri=urn%3aietf%3awg%3aoauth%3a2.0%3aoob&response_type=code&scope=email%20https%3a%2f%2fwww.googleapis.com%2fauth%2fdocs.test%20https%3a%2f%2fwww.googleapis.com%2fauth%2fdrive%20https%3a%2f%2fwww.googleapis.com%2fauth%2fdrive.photos.readonly%20https%3a%2f%2fwww.googleapis.com%2fauth%2fpeopleapi.readonly\n",
            "\n",
            "Enter your authorization code:\n",
            "··········\n",
            "Mounted at /content/drive\n"
          ],
          "name": "stdout"
        }
      ]
    },
    {
      "cell_type": "code",
      "metadata": {
        "id": "NIVrZDVSP3JY",
        "colab_type": "code",
        "colab": {
          "base_uri": "https://localhost:8080/",
          "height": 34
        },
        "outputId": "ac614dd1-767f-46c4-a4be-65c79c7a1576"
      },
      "source": [
        "!ls '/content/drive/My Drive/Colab Notebooks/corona-vs/twitter.properties'\n",
        "twt_prop = '/content/drive/My Drive/Colab Notebooks/corona-vs/twitter.properties'"
      ],
      "execution_count": 49,
      "outputs": [
        {
          "output_type": "stream",
          "text": [
            "'/content/drive/My Drive/Colab Notebooks/corona-vs/twitter.properties'\n"
          ],
          "name": "stdout"
        }
      ]
    },
    {
      "cell_type": "code",
      "metadata": {
        "id": "7BqYxvzIQNq2",
        "colab_type": "code",
        "outputId": "2b4e5f96-2f1c-448b-ed0d-04d8e5729276",
        "colab": {
          "base_uri": "https://localhost:8080/",
          "height": 34
        }
      },
      "source": [
        "!pip install ConfigParser"
      ],
      "execution_count": 50,
      "outputs": [
        {
          "output_type": "stream",
          "text": [
            "Requirement already satisfied: ConfigParser in /usr/local/lib/python3.6/dist-packages (4.0.2)\n"
          ],
          "name": "stdout"
        }
      ]
    },
    {
      "cell_type": "code",
      "metadata": {
        "id": "-q6IhXjsQ9pQ",
        "colab_type": "code",
        "outputId": "5139b061-83e5-4af2-cb06-c4234a050892",
        "colab": {
          "base_uri": "https://localhost:8080/",
          "height": 34
        }
      },
      "source": [
        "import configparser\n",
        "config = configparser.RawConfigParser()\n",
        "config.read(twt_prop)\n",
        "\n",
        "print(config.sections())"
      ],
      "execution_count": 51,
      "outputs": [
        {
          "output_type": "stream",
          "text": [
            "['twitter']\n"
          ],
          "name": "stdout"
        }
      ]
    },
    {
      "cell_type": "code",
      "metadata": {
        "id": "EW8seQETRaG8",
        "colab_type": "code",
        "colab": {}
      },
      "source": [
        "import os\n",
        "import tweepy as tw"
      ],
      "execution_count": 0,
      "outputs": []
    },
    {
      "cell_type": "code",
      "metadata": {
        "id": "fYVABjV-LpCg",
        "colab_type": "code",
        "colab": {}
      },
      "source": [
        ""
      ],
      "execution_count": 0,
      "outputs": []
    },
    {
      "cell_type": "code",
      "metadata": {
        "id": "p3uwqi3m_G7J",
        "colab_type": "code",
        "colab": {}
      },
      "source": [
        "accesstoken = config.get('twitter','accesstoken')\n",
        "accesstokensecret = config.get('twitter','accesstokensecret')\n",
        "apikey = config.get('twitter','apikey')\n",
        "apisecretkey = config.get('twitter','apisecretkey')"
      ],
      "execution_count": 0,
      "outputs": []
    },
    {
      "cell_type": "code",
      "metadata": {
        "id": "Q_XSGsC6_ZQL",
        "colab_type": "code",
        "colab": {}
      },
      "source": [
        "auth = tw.OAuthHandler(apikey, apisecretkey)\n",
        "auth.set_access_token(accesstoken, accesstokensecret)\n",
        "api = tw.API(auth, wait_on_rate_limit = True)"
      ],
      "execution_count": 0,
      "outputs": []
    },
    {
      "cell_type": "code",
      "metadata": {
        "id": "jfT4NcbR_9Tb",
        "colab_type": "code",
        "colab": {}
      },
      "source": [
        "search_words = \"corona\"\n",
        "date_since = \"2020-03-23\""
      ],
      "execution_count": 0,
      "outputs": []
    },
    {
      "cell_type": "code",
      "metadata": {
        "id": "m9BhzGYjAHk8",
        "colab_type": "code",
        "colab": {}
      },
      "source": [
        "tweets = tw.Cursor(api.search,\n",
        "                   q = search_words,\n",
        "                   lang = \"in\",\n",
        "                   since = date_since).items(100)"
      ],
      "execution_count": 0,
      "outputs": []
    },
    {
      "cell_type": "code",
      "metadata": {
        "id": "aoo1XPW6AS47",
        "colab_type": "code",
        "colab": {
          "base_uri": "https://localhost:8080/",
          "height": 1000
        },
        "outputId": "d942dfe9-d006-4d82-a5a2-188879d0efe4"
      },
      "source": [
        "tweet_details = [[tweet.geo, tweet.text, tweet.user.screen_name, tweet.user.location] for tweet in tweets]\n",
        "tweet_details"
      ],
      "execution_count": 78,
      "outputs": [
        {
          "output_type": "execute_result",
          "data": {
            "text/plain": [
              "[[None,\n",
              "  'corona pas tau un gaada, be like :\\n\\n\"yah anjing padahal gue dateng kesini niatnya buat merugikan orang², ini malah… https://t.co/neILDa7YmZ',\n",
              "  'sisillll03',\n",
              "  'Bandung, Indonesia'],\n",
              " [None,\n",
              "  '#JogoWargoJogoNegoro\\n#AyoJogoJeporo\\n#BersamaKitaBisa \\n\\nBhabinkamtibmas dan Babinsa Ds.Tegalsambi melaksanakan sosia… https://t.co/8bX1mGR7qG',\n",
              "  'TahunanPolsek',\n",
              "  ''],\n",
              " [None,\n",
              "  'RT @radenmasdimas__: Selamat jalan Prof. Iwan yg sabar dn murah senyum.\\n\\nTrma ksih sdh mwarnai PPSMB kami dulu. Dn maaf klau smpat kami dem…',\n",
              "  'listeningtoday6',\n",
              "  ''],\n",
              " [None,\n",
              "  'RT @detikcom: Ria Ricis diprotes oleh tetangganya karena syuting dengan banyak orang di tengah pandemi corona. Namun pihak sang YouTuber me…',\n",
              "  'santimoi13',\n",
              "  'Kudus '],\n",
              " [None,\n",
              "  'RT @nantibersama: Dirumah aja : \\nNegatif Corona, Positif depresi.',\n",
              "  'khairunnisamhd',\n",
              "  ''],\n",
              " [None,\n",
              "  '@SumardiRezki Pas corona aja biayanya lebih sedikit bisa ngirit sisanya buat honeymoon ke bulan',\n",
              "  'ehhsiapatadi',\n",
              "  'di hati Icham'],\n",
              " [None,\n",
              "  'RT @Chisca80029762: Video ajakan menangkal virus corona ini lucu dan mendidik, dan juga penuh sindiran, sisi lain dari kehidupan umat Hindu…',\n",
              "  'dinifajrikaaa',\n",
              "  'Moyudan, Sleman, Yogyakarta'],\n",
              " [None,\n",
              "  'RT @detikcom: Perhatian! Tokopedia menutup permanen ribuan toko online yang menjual produk kesehatan untuk pengobatan corona dengan harga g…',\n",
              "  'Rain_sound95',\n",
              "  ''],\n",
              " [None,\n",
              "  'RT @NEELESHKRajak: @agrwal_akhil @ImSid__ Na mane to salo ke upar corona virus dalo',\n",
              "  'ghanshy62285276',\n",
              "  'Prayag Raj'],\n",
              " [None,\n",
              "  'RT @Greschinov: yang paling berhak dapat rapid test kit corona, berdasarkan urutan prioritas:\\n1) Tenaga medis\\n2) Keluarga tenaga medis\\n3) K…',\n",
              "  'realmadridindo1',\n",
              "  ''],\n",
              " [None,\n",
              "  'Monggo gais, antisipasi Corona #GaAdaAkhlak #GaraGaraCorona btw, mutualan kuy, gabut bgt asli https://t.co/UfGg0FxJij',\n",
              "  'jennyrhenacia',\n",
              "  'Sidoarjo'],\n",
              " [None,\n",
              "  'RT @Fahrihamzah: CORONA datang karena pola fitnah kayak gini:\\n1. Pemilik akun berkasus akunnya dibajak/dirampas.\\n2. Lalu akun itu dikelola…',\n",
              "  'negoroandi1988',\n",
              "  'Kota Surabaya, Jawa Timur'],\n",
              " [None,\n",
              "  'Ditengah merabaknya virus Corona, siang ini masih melanjutkan tugas nguji skripsi mahasiswi komunikasi dan penyiara… https://t.co/ElngMwaU8l',\n",
              "  'DutaZuhdi',\n",
              "  ''],\n",
              " [None,\n",
              "  'RT @CNNIndonesia: #BREAKINGNEWS\\nJokowi Resmi Tiadakan UN 2020 Dampak Wabah Corona\\nhttps://t.co/NM1yvTdesA',\n",
              "  'vviergozx',\n",
              "  'dihatimu'],\n",
              " [None,\n",
              "  'RT @podoradong: Terganggunya aplikasi medsos seperti twitter ataupun WAG disebabkan oleh \"kesengajaan\" TSM untuk membatasi sebaran agitasi…',\n",
              "  'ummutalitha',\n",
              "  'East Borneo, Indonesia'],\n",
              " [None,\n",
              "  'Hili janga lisingekuwa worldwide Tz tungebaki sisi walala hoi aise!! Vigogo wangefly zao abroad mpaka ile sekunde i… https://t.co/wSwJbRijgl',\n",
              "  'goldenboysean',\n",
              "  'TZA'],\n",
              " [None,\n",
              "  'Jangan cuma lihat pemda pak @mohmahfudmd pusat aja kemarin abai. \\n\\nMalah parawisata di tengah wabah yg melanda nega… https://t.co/w8QHT5qsxA',\n",
              "  'AkunKey',\n",
              "  ''],\n",
              " [None,\n",
              "  '@ranggawr lah jangkan bali rang... di kampung2 di kabupaten masih ada kok yang ngadain nikahan sampe malem dangduta… https://t.co/p8tsk4wVhW',\n",
              "  'frianamran',\n",
              "  'Barcelona, Spain'],\n",
              " [None,\n",
              "  'RT @TirtoID: Guru Besar UGM Yogyakarta Iwan Dwiprahasto yang telah dirawat beberapa hari karena positif terinfeksi virus Corona meninggal d…',\n",
              "  'vistiarisa',\n",
              "  'in your orbit'],\n",
              " [None,\n",
              "  'RT @CNNIndonesia: Guru Besar UGM Meninggal Dunia Usai Positif Virus Corona https://t.co/6NXVRgfGEd',\n",
              "  'Egisyhd',\n",
              "  'DKI Jakarta, Indonesia'],\n",
              " [None,\n",
              "  'RT @merapi_news: Efek virus corona kini sudah hampir merata di yogyakarta, termasuk Pasar Beringharjo yang sudah mulai menutup toko-toko da…',\n",
              "  'mario109516',\n",
              "  'Jogja lantai 2'],\n",
              " [None,\n",
              "  'RT @CNNIndonesia: Warga AS Tewas Usai Tenggak Chloroquine untuk Cegah Corona https://t.co/gNSJEgBCid',\n",
              "  'keisyanurafiah',\n",
              "  ''],\n",
              " [None,\n",
              "  'RT @aniesbaswedan: Alhamdulillah, malam ini tiba 100 ribu alat rapid-testing corona dan 50 ribu masker untuk digunakan di Jakarta.\\n\\nTerima…',\n",
              "  'akultramen',\n",
              "  'SUROBOYO'],\n",
              " [None,\n",
              "  'RT @nantibersama: Dirumah aja : \\nNegatif Corona, Positif depresi.',\n",
              "  'februareee',\n",
              "  'Malaysia'],\n",
              " [None,\n",
              "  'RT @jansen_jsp: Pagi barusan saya di WA teman saya Angga dr Gunung Kidul. Dari percakapan pendek ini semoga kita semakin memahami \"arti pen…',\n",
              "  'radsadajiwa',\n",
              "  ''],\n",
              " [None,\n",
              "  'RT @mahendra_mdk: Kalo di jakarta ada bintangemon yg ngebahas corona dari sisi komedi, mari kita sambut versi jowone alias enak banget mas…',\n",
              "  'Nanang_aminu',\n",
              "  'Gondang Pusung Village'],\n",
              " [None,\n",
              "  'Pasien Positif Corona yang Sembuh Tak Akan Terinfeksi Lagi, Namun Ada Bagian Tubuh yang Bermasalah https://t.co/cfcR9gPotc via @tribunnews',\n",
              "  'tribunnews',\n",
              "  'Indonesia'],\n",
              " [None,\n",
              "  'RT @kaptenAmercia: Anggota dpr dites corona malah positif korupsi',\n",
              "  'noviambarl',\n",
              "  ''],\n",
              " [None,\n",
              "  'RT @Greschinov: yang paling berhak dapat rapid test kit corona, berdasarkan urutan prioritas:\\n1) Tenaga medis\\n2) Keluarga tenaga medis\\n3) K…',\n",
              "  'Blooblegum',\n",
              "  'In your mind'],\n",
              " [None,\n",
              "  'RT @L_Nico: READ THIS, please kalau ga penting-penting amat, mending #dirumahaja , kecuali memang yg gbs #wfh biar kita semua negatif coron…',\n",
              "  'vittochen',\n",
              "  'Indonesia'],\n",
              " [None,\n",
              "  'RT @CNNIndonesia: Guru Besar UGM Meninggal Dunia Usai Positif Virus Corona https://t.co/6NXVRgfGEd',\n",
              "  'urblvdshin',\n",
              "  \"04's\"],\n",
              " [None,\n",
              "  'RT @rrrrrruto: ㅤㅤ\\nㅤ\\nVirus corona akan musnah, \\nKemudian datanglah ramadhan dengan segala kebaikan di dalamnya dengan izin Allah \\n\\nAmiin…',\n",
              "  'alvindaeee131',\n",
              "  'Planet Vulcan '],\n",
              " [None,\n",
              "  'RT @CNNIndonesia: Erick Thohir Bakal Duplikasi RS Darurat Corona Wisma Atlet https://t.co/eIkoX6E729',\n",
              "  'sarimeylinda',\n",
              "  'Jakarta Selatan, DKI Jakarta'],\n",
              " [None,\n",
              "  'RT @DrTaufan1: Mereka\\nDIAM saat wabah muncul\\nDIAM saat masker langka\\nDIAM saat dokter jd korban\\nDIAM saat test Corona tak terjangkau rakyat…',\n",
              "  'soem_art',\n",
              "  'the jungle'],\n",
              " [None,\n",
              "  'RT @detikcom: #BreakingNews Presiden Jokowi memutuskan untuk meniadakan pelaksanaan ujian nasional (UN) tahun 2020. Keputusan ini untuk men…',\n",
              "  'biebmezlish',\n",
              "  'New York, England'],\n",
              " [None,\n",
              "  'RT @YosaTanpahurufN: @nathanaelmu @cilorconnoistre Kalo bole usul, saya setuju mereka didahulukan untuk tes vaksin corona. Bukan test kit c…',\n",
              "  'ggukhyung',\n",
              "  'ateez bts day6 seventeen x1'],\n",
              " [None,\n",
              "  'RT @detikcom: Wanita ini berbagi cerita sedih soal ayah dan ibunya yang meninggal karena virus Corona hingga ketika dikuburkan tak ada pela…',\n",
              "  'melianadr1',\n",
              "  'Tuban, Jawa Timur'],\n",
              " [None,\n",
              "  'RT @CNNIndonesia: Guru Besar UGM Meninggal Dunia Usai Positif Virus Corona https://t.co/6NXVRgfGEd',\n",
              "  'claristabc_',\n",
              "  'Indonesia'],\n",
              " [None,\n",
              "  'RT @mbahndi: Kesehatan jiwa saat Corona juga butuh dijaga.\\n\\nInfo dari Perhimpunan Dokter Spesialis Kedokteran Jiwa Indonesia (PDSKJI) https…',\n",
              "  'lenypn',\n",
              "  ''],\n",
              " [None,\n",
              "  'RT @kumparan: Prosedur ketat dilakukan dalam penanganan jenazah Guru Besar Farmakologi UGM, Prof Iwan Dwiprahasto yang meninggal di RSUP Dr…',\n",
              "  'puredayone',\n",
              "  ''],\n",
              " [None,\n",
              "  'RT @nathanaelmu: Pak @jokowi , kenapa mereka didahulukan?\\n\\nOrang2 ini resiko rendah. Mereka gak pernah berdesakan di kereta.\\n\\nMeskipun bagi…',\n",
              "  'kecanduanrindu',\n",
              "  'Jakarta🔁Wonosobo'],\n",
              " [None,\n",
              "  'RT @arhcamt: Tambahan:\\n5. Ga enak badan? TETAP DIAM DI RUMAH (liat lagi nomor 2). Coba cek risiko dan gejalanya di https://t.co/H2UcSz4XVe,…',\n",
              "  'cupjimine',\n",
              "  'Indonesia'],\n",
              " [None,\n",
              "  'RT @Chisca80029762: Video ajakan menangkal virus corona ini lucu dan mendidik, dan juga penuh sindiran, sisi lain dari kehidupan umat Hindu…',\n",
              "  'elaaeloo_',\n",
              "  'kadang di sana, kadang di situ'],\n",
              " [None,\n",
              "  'RT @Greschinov: yang paling berhak dapat rapid test kit corona, berdasarkan urutan prioritas:\\n1) Tenaga medis\\n2) Keluarga tenaga medis\\n3) K…',\n",
              "  'xnxsehunaa',\n",
              "  ''],\n",
              " [None,\n",
              "  'Ini orang rumah so gila deng Corona, masa di kamar dia suruh pake masker olo.',\n",
              "  'naytizen',\n",
              "  ''],\n",
              " [None, 'Kapankah Corona ini akan berakhir😣😣', 'AnisaoktaaaV_02', ''],\n",
              " [None,\n",
              "  'Dear Corona,\\nMaaf, kita Udahan yahh!',\n",
              "  'Official_trisna',\n",
              "  'Indonesia 🇲🇨'],\n",
              " [None,\n",
              "  'RT @tempodotco: Pertamina kembali menyerahkan bantuan untuk pencegahan penyebaran Virus Corona di Jayapura berupa tandon air cuci tangan da…',\n",
              "  'Watrasri',\n",
              "  ''],\n",
              " [None,\n",
              "  'Cie, lu masuk berita @bintangemon 😄 https://t.co/Uws4MMLHv7',\n",
              "  'corona_cbg_bdg',\n",
              "  ''],\n",
              " [None,\n",
              "  'RT @detikcom: Ria Ricis diprotes oleh tetangganya karena syuting dengan banyak orang di tengah pandemi corona. Namun pihak sang YouTuber me…',\n",
              "  'kendisdolong1',\n",
              "  'DKI Jakarta, Indonesia'],\n",
              " [None,\n",
              "  'RT @txtdrpemerintah: mampus remedial moral semua itu https://t.co/OnlHzXKmsy',\n",
              "  'milskyyyyy',\n",
              "  'unknown'],\n",
              " [None,\n",
              "  'RT @abcdelynnn: Tengok member study lagi seram dari corona 😔',\n",
              "  'fatihahzn',\n",
              "  'Malaysia'],\n",
              " [None,\n",
              "  'RT @CNNIndonesia: Tes Corona, Standar Moral Anggota DPR Dinilai Sangat Rendah https://t.co/rRwQ2kOOz9',\n",
              "  'dita_zdc',\n",
              "  'Mojokerto'],\n",
              " [None,\n",
              "  'RT @nantibersama: Dirumah aja : \\nNegatif Corona, Positif depresi.',\n",
              "  'hannannjwa',\n",
              "  ''],\n",
              " [None,\n",
              "  'RT @CNNIndonesia: #BREAKINGNEWS\\nJokowi Resmi Tiadakan UN 2020 Dampak Wabah Corona\\nhttps://t.co/NM1yvTdesA',\n",
              "  'itzlililiyabbay',\n",
              "  '—kasur'],\n",
              " [None,\n",
              "  \"RT @4smara1701: Innalillahi wa'innailaihi roji'un...\\n\\nGuru Besar UGM yang Positif Corona Meninggal\\n\\nSemoga amal ibadah Almarhum diterima-Ny…\",\n",
              "  'bangimss',\n",
              "  ''],\n",
              " [None,\n",
              "  '@AnuragJaisingh Yes anurag ji... jaldi se bs corona khatam ho..🙏',\n",
              "  'proudkafeer',\n",
              "  '🇮🇳'],\n",
              " [None,\n",
              "  'Buka wa,corona\\nBuka ig,corona\\nBuka tweet,corona\\nBuka fb,corona\\nNonton tv,corona\\nDi grub bahas juga corona\\n\\nYa Allah… https://t.co/cHdnFfCxzl',\n",
              "  'dekhadijahh',\n",
              "  ''],\n",
              " [None,\n",
              "  'RT @upirocks: Salah satu yang juga menakutkan dari virus Corona adalah sikap orang-orang yang tak peduli, bebal, dan egois. https://t.co/WB…',\n",
              "  'MarvinAping',\n",
              "  ''],\n",
              " [None,\n",
              "  'RT @Moohd_Ilham: Kuliah dliburkan, gak kena corona malah kena depresi gara-gara tugas yg amat banyak.\\n\\nDah kayak bintang kecil',\n",
              "  'ditwaskito',\n",
              "  'Raftel'],\n",
              " [None,\n",
              "  'RT @EhhhFirdaus: Mustahil Covid-19 akan sembuh sebelum ramadhan. Tgok angka setiap hari yang cecah 100, mustahil utk kita kekang corona\\n\\nAk…',\n",
              "  'damlipz',\n",
              "  'Iceland'],\n",
              " [None,\n",
              "  '@null Madonna Bahas Corona Sambil Berendam, Netizen Sebut Wajahnya Kebanyakan Botox Ma  https://t.co/0hd66G1idW',\n",
              "  'FaktaWanita',\n",
              "  ''],\n",
              " [None,\n",
              "  'RT @Greschinov: yang paling berhak dapat rapid test kit corona, berdasarkan urutan prioritas:\\n1) Tenaga medis\\n2) Keluarga tenaga medis\\n3) K…',\n",
              "  'levanteurz',\n",
              "  'selective.'],\n",
              " [None,\n",
              "  'RT @Greschinov: yang paling berhak dapat rapid test kit corona, berdasarkan urutan prioritas:\\n1) Tenaga medis\\n2) Keluarga tenaga medis\\n3) K…',\n",
              "  'hotplateayam',\n",
              "  'Yogyakarta, Indonesia'],\n",
              " [None,\n",
              "  'RT @Indonesianews15: Breaking News, Gubernur Pujaan Umat Edy Rahmayadi Masuk ODP Virus Corona\\n\\nhttps://t.co/T7wRdeftYQ',\n",
              "  'NgaritCommunity',\n",
              "  'Muscat, Oman'],\n",
              " [None,\n",
              "  'RT @mahendra_mdk: Kalo di jakarta ada bintangemon yg ngebahas corona dari sisi komedi, mari kita sambut versi jowone alias enak banget mas…',\n",
              "  'elaamoo',\n",
              "  'jogja'],\n",
              " [None,\n",
              "  'RT @CNNIndonesia: #BREAKINGNEWS\\nJokowi Resmi Tiadakan UN 2020 Dampak Wabah Corona\\nhttps://t.co/NM1yvTdesA',\n",
              "  'NKRI_17081945',\n",
              "  'Indonesia'],\n",
              " [None,\n",
              "  'RT @sarseh: Bukan masalah izin sih. Ini masalah kesadaran diri dan tidak egois, memikirkan kepentingan yg lain, bukan cuma utk diri sendiri…',\n",
              "  'santimoi13',\n",
              "  'Kudus '],\n",
              " [None,\n",
              "  'RT @detikcom: Rencananya, UN dihapuskan pada 2021 nanti. Namun akibat pandemi virus Corona, penghapusan UN menjadi lebih cepat setahun dari…',\n",
              "  'zarazettirazr',\n",
              "  'Indonesia'],\n",
              " [None,\n",
              "  'RT @Greschinov: yang paling berhak dapat rapid test kit corona, berdasarkan urutan prioritas:\\n1) Tenaga medis\\n2) Keluarga tenaga medis\\n3) K…',\n",
              "  '_cremevanille',\n",
              "  'ca/pa'],\n",
              " [None,\n",
              "  'RT @selphieusagi: Pak @jokowi, tahu siapa yg seharusnya didahulukan test?\\n\\nMereka yg harus tetap bekerja di RS dgn resiko tinggi dan mereka…',\n",
              "  'HRY_anderson',\n",
              "  'Jakarta'],\n",
              " [None,\n",
              "  'Dampak positif dri corona. \\n-Rumah yang biasany sepi karna kerja dan urusan masing masing, skrg lengkap kumpul diru… https://t.co/aX61iwXKLR',\n",
              "  'rafly_rrr',\n",
              "  'Kota Palembang, Sumatera Selat'],\n",
              " [None,\n",
              "  'Miris! Rumah sakit di Spanyol tak bisa lagi menampung pasien virus corona. Bahkan, banyak pasien yang terpaksa dira… https://t.co/fB8v9u2DwV',\n",
              "  'detikcom',\n",
              "  'Jakarta, Indonesia'],\n",
              " [None,\n",
              "  'RT @nantibersama: Dirumah aja : \\nNegatif Corona, Positif depresi.',\n",
              "  'snadiahmdisa',\n",
              "  '01'],\n",
              " [None,\n",
              "  'RT @nantibersama: Dirumah aja : \\nNegatif Corona, Positif depresi.',\n",
              "  'MrsLee43',\n",
              "  'Jawa Tengah, Indonesia'],\n",
              " [None,\n",
              "  'RT @Chisca80029762: Video ajakan menangkal virus corona ini lucu dan mendidik, dan juga penuh sindiran, sisi lain dari kehidupan umat Hindu…',\n",
              "  'jacquel35739215',\n",
              "  'Jakarta Timur, DKI Jakarta'],\n",
              " [None,\n",
              "  'RT @iimfahima: Mengapa sekolah-sekolah seharusnya lebih rileks urusan tugas akademis, apalagi di tengah pandemi Corona.\\n\\n.\\n.\\n.\\n\\nA THREAD.',\n",
              "  'safaracathasa',\n",
              "  'Bandung'],\n",
              " [None,\n",
              "  'Jika masih ada tim medis garda depan yang meninggal karena anda memborong semua perlengkapan yang mana mereka lebih… https://t.co/IWVN4ECnNg',\n",
              "  'pijatpadangdani',\n",
              "  'Kota Padang, Sumatera Barat'],\n",
              " [None,\n",
              "  '14 hari dirumah aja\\n\\nNegatif Corona\\nDoi positif HIV.',\n",
              "  'SofyanMRomoni',\n",
              "  'IGOBULA,GALELA SELATAN,MALUKU '],\n",
              " [None,\n",
              "  'RT @tonytogolani: Kwa vyovyote janga la Corona si la kudumu. Nalo litapita. Kipindi hiki ni cha kufikiria maisha baada ya Corona. Kila jang…',\n",
              "  'Enno_Coyg',\n",
              "  'Tanzania'],\n",
              " [None,\n",
              "  'RT @detikcom: Perhatian! Tokopedia menutup permanen ribuan toko online yang menjual produk kesehatan untuk pengobatan corona dengan harga g…',\n",
              "  'intanlest',\n",
              "  'Jakarta, Indonesia'],\n",
              " [None,\n",
              "  'RT @fuckincapcipcup: Dikasih tau buat diri lo sendiri malah ketawa ketawa anjing, malah bilang “ gw kira anak sekolah doang njir” eh anjing…',\n",
              "  'sebelahsaya',\n",
              "  'DKI jakarta'],\n",
              " [None,\n",
              "  'RT @erdasiswadi: Lelah dengan berita corona.',\n",
              "  'widdiandriani',\n",
              "  '대한민국'],\n",
              " [None,\n",
              "  'RT @addiems: SITUS RESMI soal Covid-19:\\n\\n1. Nasional https://t.co/oikDzQQbtd\\n2. Jawa barat https://t.co/m8SRMoRPYP\\n3. DKI Jakarta https://t…',\n",
              "  'azhaadtm',\n",
              "  'Indonesia'],\n",
              " [None,\n",
              "  'RT @kaptenAmercia: Anggota dpr dites corona malah positif korupsi',\n",
              "  '19_9_7',\n",
              "  'South Borneo, Indonesia'],\n",
              " [None,\n",
              "  'RT @CNNIndonesia: Pemulung Tua di Bogor Diduga Corona Tanpa Perawatan Medis https://t.co/Zz8bjvKa5L',\n",
              "  'rinigrace',\n",
              "  'in your heart'],\n",
              " [None,\n",
              "  'RT @CNNIndonesia: #BREAKINGNEWS\\nJokowi Resmi Tiadakan UN 2020 Dampak Wabah Corona\\nhttps://t.co/NM1yvTdesA',\n",
              "  'rcapicorn',\n",
              "  'Kota Surabaya, Jawa Timur'],\n",
              " [None,\n",
              "  'RT @saraswtt: corona bukan aib, jangan dijadikan bahan cemoohan.\\ntau gak akibatnya? nanti semakin banyak orang mengalami gejala trs gamau p…',\n",
              "  'tralalaleli',\n",
              "  ''],\n",
              " [None,\n",
              "  'RT @SerieA_Lawas: Alhamdulillah, pandemik Corona sudah berakhir, mari kita laksanakan ibadah puasa (bagi yang muslim) dengan sebaik baiknya…',\n",
              "  'TuanMudz',\n",
              "  'Bekasi, Jawa Barat'],\n",
              " [None,\n",
              "  'RT @jansen_jsp: Pagi barusan saya di WA teman saya Angga dr Gunung Kidul. Dari percakapan pendek ini semoga kita semakin memahami \"arti pen…',\n",
              "  'tulusshartono',\n",
              "  'Jakarta-Indonesia'],\n",
              " [None,\n",
              "  'RT @txtdrpemerintah: mampus remedial moral semua itu https://t.co/OnlHzXKmsy',\n",
              "  'Af_Ratri13',\n",
              "  'Ravenclaw Common Room'],\n",
              " [None,\n",
              "  'RT @mirzasays_: Corona ka tw pta nhi ,,,ye lockdown meri jaan nikal rha h 🙄 sakhat wali boriat ho rhi h yrrr ...',\n",
              "  'HiraButt99',\n",
              "  'Tulsa, OK'],\n",
              " [None,\n",
              "  'RT @kaptenAmercia: Anggota dpr dites corona malah positif korupsi',\n",
              "  'crispypotatp',\n",
              "  ''],\n",
              " [None,\n",
              "  'RT @ronavioleta: Jejak Digital @mohmahfudmd tentang corona \\n#VirusChina https://t.co/gYp1DzG65C',\n",
              "  'andre55885704',\n",
              "  ''],\n",
              " [None,\n",
              "  'RT @CNNIndonesia: #BREAKINGNEWS\\nJokowi Resmi Tiadakan UN 2020 Dampak Wabah Corona\\nhttps://t.co/NM1yvTdesA',\n",
              "  'd0ppeIgranger',\n",
              "  'N City'],\n",
              " [None,\n",
              "  'RT @detikcom: Wanita ini berbagi cerita sedih soal ayah dan ibunya yang meninggal karena virus Corona hingga ketika dikuburkan tak ada pela…',\n",
              "  'auliyaaall',\n",
              "  ''],\n",
              " [None,\n",
              "  'RT @sarseh: Bukan masalah izin sih. Ini masalah kesadaran diri dan tidak egois, memikirkan kepentingan yg lain, bukan cuma utk diri sendiri…',\n",
              "  'Yunitar96905453',\n",
              "  'Jawa Timur, Indonesia'],\n",
              " [None,\n",
              "  'RT @CNNIndonesia: #BREAKINGNEWS\\nJokowi Resmi Tiadakan UN 2020 Dampak Wabah Corona\\nhttps://t.co/NM1yvTdesA',\n",
              "  'shaffiyara',\n",
              "  'Allianz Arena'],\n",
              " [None,\n",
              "  'RT @txtdrpemerintah: mampus remedial moral semua itu https://t.co/OnlHzXKmsy',\n",
              "  'sizeexlarge',\n",
              "  'Rain City Finest'],\n",
              " [None,\n",
              "  'RT @Greschinov: yang paling berhak dapat rapid test kit corona, berdasarkan urutan prioritas:\\n1) Tenaga medis\\n2) Keluarga tenaga medis\\n3) K…',\n",
              "  'hanallifya',\n",
              "  '']]"
            ]
          },
          "metadata": {
            "tags": []
          },
          "execution_count": 78
        }
      ]
    },
    {
      "cell_type": "code",
      "metadata": {
        "id": "G2lw666KAqWl",
        "colab_type": "code",
        "colab": {}
      },
      "source": [
        "import pandas as pd\n",
        "df_tweet = pd.DataFrame(data = tweet_details, columns = ['geo','text','user','location'])"
      ],
      "execution_count": 0,
      "outputs": []
    },
    {
      "cell_type": "code",
      "metadata": {
        "id": "W7dnRjvQA9oZ",
        "colab_type": "code",
        "colab": {
          "base_uri": "https://localhost:8080/",
          "height": 669
        },
        "outputId": "7a7fa63c-e11a-46e1-d601-0263ef547eba"
      },
      "source": [
        "pd.set_option('max_colwidth', 800)\n",
        "\n",
        "df_tweet.head(20)"
      ],
      "execution_count": 81,
      "outputs": [
        {
          "output_type": "execute_result",
          "data": {
            "text/html": [
              "<div>\n",
              "<style scoped>\n",
              "    .dataframe tbody tr th:only-of-type {\n",
              "        vertical-align: middle;\n",
              "    }\n",
              "\n",
              "    .dataframe tbody tr th {\n",
              "        vertical-align: top;\n",
              "    }\n",
              "\n",
              "    .dataframe thead th {\n",
              "        text-align: right;\n",
              "    }\n",
              "</style>\n",
              "<table border=\"1\" class=\"dataframe\">\n",
              "  <thead>\n",
              "    <tr style=\"text-align: right;\">\n",
              "      <th></th>\n",
              "      <th>geo</th>\n",
              "      <th>text</th>\n",
              "      <th>user</th>\n",
              "      <th>location</th>\n",
              "    </tr>\n",
              "  </thead>\n",
              "  <tbody>\n",
              "    <tr>\n",
              "      <th>0</th>\n",
              "      <td>None</td>\n",
              "      <td>corona pas tau un gaada, be like :\\n\\n\"yah anjing padahal gue dateng kesini niatnya buat merugikan orang², ini malah… https://t.co/neILDa7YmZ</td>\n",
              "      <td>sisillll03</td>\n",
              "      <td>Bandung, Indonesia</td>\n",
              "    </tr>\n",
              "    <tr>\n",
              "      <th>1</th>\n",
              "      <td>None</td>\n",
              "      <td>#JogoWargoJogoNegoro\\n#AyoJogoJeporo\\n#BersamaKitaBisa \\n\\nBhabinkamtibmas dan Babinsa Ds.Tegalsambi melaksanakan sosia… https://t.co/8bX1mGR7qG</td>\n",
              "      <td>TahunanPolsek</td>\n",
              "      <td></td>\n",
              "    </tr>\n",
              "    <tr>\n",
              "      <th>2</th>\n",
              "      <td>None</td>\n",
              "      <td>RT @radenmasdimas__: Selamat jalan Prof. Iwan yg sabar dn murah senyum.\\n\\nTrma ksih sdh mwarnai PPSMB kami dulu. Dn maaf klau smpat kami dem…</td>\n",
              "      <td>listeningtoday6</td>\n",
              "      <td></td>\n",
              "    </tr>\n",
              "    <tr>\n",
              "      <th>3</th>\n",
              "      <td>None</td>\n",
              "      <td>RT @detikcom: Ria Ricis diprotes oleh tetangganya karena syuting dengan banyak orang di tengah pandemi corona. Namun pihak sang YouTuber me…</td>\n",
              "      <td>santimoi13</td>\n",
              "      <td>Kudus</td>\n",
              "    </tr>\n",
              "    <tr>\n",
              "      <th>4</th>\n",
              "      <td>None</td>\n",
              "      <td>RT @nantibersama: Dirumah aja : \\nNegatif Corona, Positif depresi.</td>\n",
              "      <td>khairunnisamhd</td>\n",
              "      <td></td>\n",
              "    </tr>\n",
              "    <tr>\n",
              "      <th>5</th>\n",
              "      <td>None</td>\n",
              "      <td>@SumardiRezki Pas corona aja biayanya lebih sedikit bisa ngirit sisanya buat honeymoon ke bulan</td>\n",
              "      <td>ehhsiapatadi</td>\n",
              "      <td>di hati Icham</td>\n",
              "    </tr>\n",
              "    <tr>\n",
              "      <th>6</th>\n",
              "      <td>None</td>\n",
              "      <td>RT @Chisca80029762: Video ajakan menangkal virus corona ini lucu dan mendidik, dan juga penuh sindiran, sisi lain dari kehidupan umat Hindu…</td>\n",
              "      <td>dinifajrikaaa</td>\n",
              "      <td>Moyudan, Sleman, Yogyakarta</td>\n",
              "    </tr>\n",
              "    <tr>\n",
              "      <th>7</th>\n",
              "      <td>None</td>\n",
              "      <td>RT @detikcom: Perhatian! Tokopedia menutup permanen ribuan toko online yang menjual produk kesehatan untuk pengobatan corona dengan harga g…</td>\n",
              "      <td>Rain_sound95</td>\n",
              "      <td></td>\n",
              "    </tr>\n",
              "    <tr>\n",
              "      <th>8</th>\n",
              "      <td>None</td>\n",
              "      <td>RT @NEELESHKRajak: @agrwal_akhil @ImSid__ Na mane to salo ke upar corona virus dalo</td>\n",
              "      <td>ghanshy62285276</td>\n",
              "      <td>Prayag Raj</td>\n",
              "    </tr>\n",
              "    <tr>\n",
              "      <th>9</th>\n",
              "      <td>None</td>\n",
              "      <td>RT @Greschinov: yang paling berhak dapat rapid test kit corona, berdasarkan urutan prioritas:\\n1) Tenaga medis\\n2) Keluarga tenaga medis\\n3) K…</td>\n",
              "      <td>realmadridindo1</td>\n",
              "      <td></td>\n",
              "    </tr>\n",
              "    <tr>\n",
              "      <th>10</th>\n",
              "      <td>None</td>\n",
              "      <td>Monggo gais, antisipasi Corona #GaAdaAkhlak #GaraGaraCorona btw, mutualan kuy, gabut bgt asli https://t.co/UfGg0FxJij</td>\n",
              "      <td>jennyrhenacia</td>\n",
              "      <td>Sidoarjo</td>\n",
              "    </tr>\n",
              "    <tr>\n",
              "      <th>11</th>\n",
              "      <td>None</td>\n",
              "      <td>RT @Fahrihamzah: CORONA datang karena pola fitnah kayak gini:\\n1. Pemilik akun berkasus akunnya dibajak/dirampas.\\n2. Lalu akun itu dikelola…</td>\n",
              "      <td>negoroandi1988</td>\n",
              "      <td>Kota Surabaya, Jawa Timur</td>\n",
              "    </tr>\n",
              "    <tr>\n",
              "      <th>12</th>\n",
              "      <td>None</td>\n",
              "      <td>Ditengah merabaknya virus Corona, siang ini masih melanjutkan tugas nguji skripsi mahasiswi komunikasi dan penyiara… https://t.co/ElngMwaU8l</td>\n",
              "      <td>DutaZuhdi</td>\n",
              "      <td></td>\n",
              "    </tr>\n",
              "    <tr>\n",
              "      <th>13</th>\n",
              "      <td>None</td>\n",
              "      <td>RT @CNNIndonesia: #BREAKINGNEWS\\nJokowi Resmi Tiadakan UN 2020 Dampak Wabah Corona\\nhttps://t.co/NM1yvTdesA</td>\n",
              "      <td>vviergozx</td>\n",
              "      <td>dihatimu</td>\n",
              "    </tr>\n",
              "    <tr>\n",
              "      <th>14</th>\n",
              "      <td>None</td>\n",
              "      <td>RT @podoradong: Terganggunya aplikasi medsos seperti twitter ataupun WAG disebabkan oleh \"kesengajaan\" TSM untuk membatasi sebaran agitasi…</td>\n",
              "      <td>ummutalitha</td>\n",
              "      <td>East Borneo, Indonesia</td>\n",
              "    </tr>\n",
              "    <tr>\n",
              "      <th>15</th>\n",
              "      <td>None</td>\n",
              "      <td>Hili janga lisingekuwa worldwide Tz tungebaki sisi walala hoi aise!! Vigogo wangefly zao abroad mpaka ile sekunde i… https://t.co/wSwJbRijgl</td>\n",
              "      <td>goldenboysean</td>\n",
              "      <td>TZA</td>\n",
              "    </tr>\n",
              "    <tr>\n",
              "      <th>16</th>\n",
              "      <td>None</td>\n",
              "      <td>Jangan cuma lihat pemda pak @mohmahfudmd pusat aja kemarin abai. \\n\\nMalah parawisata di tengah wabah yg melanda nega… https://t.co/w8QHT5qsxA</td>\n",
              "      <td>AkunKey</td>\n",
              "      <td></td>\n",
              "    </tr>\n",
              "    <tr>\n",
              "      <th>17</th>\n",
              "      <td>None</td>\n",
              "      <td>@ranggawr lah jangkan bali rang... di kampung2 di kabupaten masih ada kok yang ngadain nikahan sampe malem dangduta… https://t.co/p8tsk4wVhW</td>\n",
              "      <td>frianamran</td>\n",
              "      <td>Barcelona, Spain</td>\n",
              "    </tr>\n",
              "    <tr>\n",
              "      <th>18</th>\n",
              "      <td>None</td>\n",
              "      <td>RT @TirtoID: Guru Besar UGM Yogyakarta Iwan Dwiprahasto yang telah dirawat beberapa hari karena positif terinfeksi virus Corona meninggal d…</td>\n",
              "      <td>vistiarisa</td>\n",
              "      <td>in your orbit</td>\n",
              "    </tr>\n",
              "    <tr>\n",
              "      <th>19</th>\n",
              "      <td>None</td>\n",
              "      <td>RT @CNNIndonesia: Guru Besar UGM Meninggal Dunia Usai Positif Virus Corona https://t.co/6NXVRgfGEd</td>\n",
              "      <td>Egisyhd</td>\n",
              "      <td>DKI Jakarta, Indonesia</td>\n",
              "    </tr>\n",
              "  </tbody>\n",
              "</table>\n",
              "</div>"
            ],
            "text/plain": [
              "     geo  ...                     location\n",
              "0   None  ...           Bandung, Indonesia\n",
              "1   None  ...                             \n",
              "2   None  ...                             \n",
              "3   None  ...                       Kudus \n",
              "4   None  ...                             \n",
              "5   None  ...                di hati Icham\n",
              "6   None  ...  Moyudan, Sleman, Yogyakarta\n",
              "7   None  ...                             \n",
              "8   None  ...                   Prayag Raj\n",
              "9   None  ...                             \n",
              "10  None  ...                     Sidoarjo\n",
              "11  None  ...    Kota Surabaya, Jawa Timur\n",
              "12  None  ...                             \n",
              "13  None  ...                     dihatimu\n",
              "14  None  ...       East Borneo, Indonesia\n",
              "15  None  ...                          TZA\n",
              "16  None  ...                             \n",
              "17  None  ...             Barcelona, Spain\n",
              "18  None  ...                in your orbit\n",
              "19  None  ...       DKI Jakarta, Indonesia\n",
              "\n",
              "[20 rows x 4 columns]"
            ]
          },
          "metadata": {
            "tags": []
          },
          "execution_count": 81
        }
      ]
    },
    {
      "cell_type": "code",
      "metadata": {
        "id": "3DmGROXnNPCv",
        "colab_type": "code",
        "colab": {
          "base_uri": "https://localhost:8080/",
          "height": 221
        },
        "outputId": "a2300ece-1af5-44be-947b-94d180838792"
      },
      "source": [
        "df_tweet.user.value_counts()"
      ],
      "execution_count": 83,
      "outputs": [
        {
          "output_type": "execute_result",
          "data": {
            "text/plain": [
              "santimoi13         2\n",
              "Official_trisna    1\n",
              "keisyanurafiah     1\n",
              "goldenboysean      1\n",
              "noviambarl         1\n",
              "                  ..\n",
              "sebelahsaya        1\n",
              "vviergozx          1\n",
              "khairunnisamhd     1\n",
              "realmadridindo1    1\n",
              "safaracathasa      1\n",
              "Name: user, Length: 99, dtype: int64"
            ]
          },
          "metadata": {
            "tags": []
          },
          "execution_count": 83
        }
      ]
    },
    {
      "cell_type": "code",
      "metadata": {
        "id": "B2Uh9HiTNfxw",
        "colab_type": "code",
        "colab": {
          "base_uri": "https://localhost:8080/",
          "height": 221
        },
        "outputId": "e7672944-ed31-45d6-bfc3-aa269a903db4"
      },
      "source": [
        "df_tweet.location.value_counts()"
      ],
      "execution_count": 84,
      "outputs": [
        {
          "output_type": "execute_result",
          "data": {
            "text/plain": [
              "                                  27\n",
              "Indonesia                          7\n",
              "Malaysia                           2\n",
              "DKI Jakarta, Indonesia             2\n",
              "Kudus                              2\n",
              "                                  ..\n",
              "jogja                              1\n",
              "Rain City Finest                   1\n",
              "in your orbit                      1\n",
              "IGOBULA,GALELA SELATAN,MALUKU      1\n",
              "South Borneo, Indonesia            1\n",
              "Name: location, Length: 63, dtype: int64"
            ]
          },
          "metadata": {
            "tags": []
          },
          "execution_count": 84
        }
      ]
    },
    {
      "cell_type": "code",
      "metadata": {
        "id": "3gCmaRDPNqTl",
        "colab_type": "code",
        "colab": {
          "base_uri": "https://localhost:8080/",
          "height": 129
        },
        "outputId": "4bfdb36b-f573-40ab-aad0-271a53b7d7b9"
      },
      "source": [
        "import re\n",
        "def clean_tweets(tweets):\n",
        "  tweets = re.sub(\"RT @[\\w]*:\",\"\",tweets)\n",
        "  tweets = re.sub(\"@[\\w]*\",\"\",tweets)\n",
        "  tweets = re.sub(\"RT @[\\w]*:\",\"\",tweets)"
      ],
      "execution_count": 85,
      "outputs": [
        {
          "output_type": "error",
          "ename": "SyntaxError",
          "evalue": "ignored",
          "traceback": [
            "\u001b[0;36m  File \u001b[0;32m\"<ipython-input-85-5926a894eff7>\"\u001b[0;36m, line \u001b[0;32m2\u001b[0m\n\u001b[0;31m    def clean_tweets(tweets):\u001b[0m\n\u001b[0m                             ^\u001b[0m\n\u001b[0;31mSyntaxError\u001b[0m\u001b[0;31m:\u001b[0m unexpected EOF while parsing\n"
          ]
        }
      ]
    },
    {
      "cell_type": "code",
      "metadata": {
        "id": "dEB5sqAeOBIc",
        "colab_type": "code",
        "colab": {}
      },
      "source": [
        ""
      ],
      "execution_count": 0,
      "outputs": []
    }
  ]
}