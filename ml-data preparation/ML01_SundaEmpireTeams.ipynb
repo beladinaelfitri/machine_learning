{
  "nbformat": 4,
  "nbformat_minor": 0,
  "metadata": {
    "colab": {
      "name": "ML01_IF4107_SundaEmpireTeams",
      "provenance": [],
      "collapsed_sections": [],
      "toc_visible": true
    },
    "kernelspec": {
      "name": "python3",
      "display_name": "Python 3"
    }
  },
  "cells": [
    {
      "cell_type": "markdown",
      "metadata": {
        "id": "IeUiR48LJr6H",
        "colab_type": "text"
      },
      "source": [
        "# Machine Learning Group Challenge 01\n",
        "## By Sunda Empire - IF4107"
      ]
    },
    {
      "cell_type": "code",
      "metadata": {
        "id": "IjpzCrEdkRS3",
        "colab_type": "code",
        "colab": {}
      },
      "source": [
        "import numpy as np\n",
        "import pandas as pd\n",
        "from sklearn.model_selection import train_test_split\n",
        "from sklearn.preprocessing import MinMaxScaler\n",
        "import matplotlib.pyplot as plt\n",
        "import seaborn as sns"
      ],
      "execution_count": 0,
      "outputs": []
    },
    {
      "cell_type": "markdown",
      "metadata": {
        "id": "3SEpHD0PJ55l",
        "colab_type": "text"
      },
      "source": [
        "### 1. Data Exploration/Understanding"
      ]
    },
    {
      "cell_type": "code",
      "metadata": {
        "id": "0npwRPPgPkhC",
        "colab_type": "code",
        "colab": {
          "base_uri": "https://localhost:8080/",
          "height": 377
        },
        "outputId": "b901f9f7-7fef-4070-ee66-64528070ec56"
      },
      "source": [
        "df_train = pd.read_csv(\"train.csv\")\n",
        "df_train"
      ],
      "execution_count": 6,
      "outputs": [
        {
          "output_type": "execute_result",
          "data": {
            "text/html": [
              "<div>\n",
              "<style scoped>\n",
              "    .dataframe tbody tr th:only-of-type {\n",
              "        vertical-align: middle;\n",
              "    }\n",
              "\n",
              "    .dataframe tbody tr th {\n",
              "        vertical-align: top;\n",
              "    }\n",
              "\n",
              "    .dataframe thead th {\n",
              "        text-align: right;\n",
              "    }\n",
              "</style>\n",
              "<table border=\"1\" class=\"dataframe\">\n",
              "  <thead>\n",
              "    <tr style=\"text-align: right;\">\n",
              "      <th></th>\n",
              "      <th>Att1</th>\n",
              "      <th>Att2</th>\n",
              "      <th>Att3</th>\n",
              "      <th>Att4</th>\n",
              "      <th>Att5</th>\n",
              "      <th>Att6</th>\n",
              "      <th>Class</th>\n",
              "    </tr>\n",
              "  </thead>\n",
              "  <tbody>\n",
              "    <tr>\n",
              "      <th>0</th>\n",
              "      <td>3.9</td>\n",
              "      <td>Besar</td>\n",
              "      <td>Hijau</td>\n",
              "      <td>48</td>\n",
              "      <td>81.0</td>\n",
              "      <td>3</td>\n",
              "      <td>A</td>\n",
              "    </tr>\n",
              "    <tr>\n",
              "      <th>1</th>\n",
              "      <td>NaN</td>\n",
              "      <td>Besar</td>\n",
              "      <td>Merah</td>\n",
              "      <td>36</td>\n",
              "      <td>63.0</td>\n",
              "      <td>3</td>\n",
              "      <td>A</td>\n",
              "    </tr>\n",
              "    <tr>\n",
              "      <th>2</th>\n",
              "      <td>7.7</td>\n",
              "      <td>Kecil</td>\n",
              "      <td>Merah</td>\n",
              "      <td>12</td>\n",
              "      <td>20.0</td>\n",
              "      <td>3</td>\n",
              "      <td>C</td>\n",
              "    </tr>\n",
              "    <tr>\n",
              "      <th>3</th>\n",
              "      <td>10.9</td>\n",
              "      <td>Besar</td>\n",
              "      <td>Biru</td>\n",
              "      <td>12</td>\n",
              "      <td>16.0</td>\n",
              "      <td>2</td>\n",
              "      <td>C</td>\n",
              "    </tr>\n",
              "    <tr>\n",
              "      <th>4</th>\n",
              "      <td>5.7</td>\n",
              "      <td>Kecil</td>\n",
              "      <td>Hijau</td>\n",
              "      <td>24</td>\n",
              "      <td>42.0</td>\n",
              "      <td>3</td>\n",
              "      <td>B</td>\n",
              "    </tr>\n",
              "    <tr>\n",
              "      <th>5</th>\n",
              "      <td>4.7</td>\n",
              "      <td>Besar</td>\n",
              "      <td>Hijau</td>\n",
              "      <td>36</td>\n",
              "      <td>62.0</td>\n",
              "      <td>3</td>\n",
              "      <td>B</td>\n",
              "    </tr>\n",
              "    <tr>\n",
              "      <th>6</th>\n",
              "      <td>8.2</td>\n",
              "      <td>Kecil</td>\n",
              "      <td>Biru</td>\n",
              "      <td>24</td>\n",
              "      <td>NaN</td>\n",
              "      <td>2</td>\n",
              "      <td>C</td>\n",
              "    </tr>\n",
              "    <tr>\n",
              "      <th>7</th>\n",
              "      <td>4.4</td>\n",
              "      <td>Sedang</td>\n",
              "      <td>Merah</td>\n",
              "      <td>36</td>\n",
              "      <td>74.0</td>\n",
              "      <td>3</td>\n",
              "      <td>A</td>\n",
              "    </tr>\n",
              "    <tr>\n",
              "      <th>8</th>\n",
              "      <td>8.2</td>\n",
              "      <td>Sedang</td>\n",
              "      <td>Biru</td>\n",
              "      <td>12</td>\n",
              "      <td>32.0</td>\n",
              "      <td>2</td>\n",
              "      <td>C</td>\n",
              "    </tr>\n",
              "    <tr>\n",
              "      <th>9</th>\n",
              "      <td>5.8</td>\n",
              "      <td>Besar</td>\n",
              "      <td>Biru</td>\n",
              "      <td>24</td>\n",
              "      <td>52.0</td>\n",
              "      <td>3</td>\n",
              "      <td>B</td>\n",
              "    </tr>\n",
              "    <tr>\n",
              "      <th>10</th>\n",
              "      <td>2.5</td>\n",
              "      <td>Besar</td>\n",
              "      <td>Hijau</td>\n",
              "      <td>48</td>\n",
              "      <td>77.0</td>\n",
              "      <td>3</td>\n",
              "      <td>A</td>\n",
              "    </tr>\n",
              "  </tbody>\n",
              "</table>\n",
              "</div>"
            ],
            "text/plain": [
              "    Att1    Att2   Att3  Att4  Att5  Att6 Class\n",
              "0    3.9   Besar  Hijau    48  81.0     3     A\n",
              "1    NaN   Besar  Merah    36  63.0     3     A\n",
              "2    7.7   Kecil  Merah    12  20.0     3     C\n",
              "3   10.9   Besar   Biru    12  16.0     2     C\n",
              "4    5.7   Kecil  Hijau    24  42.0     3     B\n",
              "5    4.7   Besar  Hijau    36  62.0     3     B\n",
              "6    8.2   Kecil   Biru    24   NaN     2     C\n",
              "7    4.4  Sedang  Merah    36  74.0     3     A\n",
              "8    8.2  Sedang   Biru    12  32.0     2     C\n",
              "9    5.8   Besar   Biru    24  52.0     3     B\n",
              "10   2.5   Besar  Hijau    48  77.0     3     A"
            ]
          },
          "metadata": {
            "tags": []
          },
          "execution_count": 6
        }
      ]
    },
    {
      "cell_type": "code",
      "metadata": {
        "id": "PFdoOVFvPpKb",
        "colab_type": "code",
        "colab": {
          "base_uri": "https://localhost:8080/",
          "height": 377
        },
        "outputId": "2ad08bf8-4416-41da-d329-08954da85540"
      },
      "source": [
        "#handle missing value with mean imputation\n",
        "df_train.fillna(df_train.mean(), inplace=True)\n",
        "df_train"
      ],
      "execution_count": 7,
      "outputs": [
        {
          "output_type": "execute_result",
          "data": {
            "text/html": [
              "<div>\n",
              "<style scoped>\n",
              "    .dataframe tbody tr th:only-of-type {\n",
              "        vertical-align: middle;\n",
              "    }\n",
              "\n",
              "    .dataframe tbody tr th {\n",
              "        vertical-align: top;\n",
              "    }\n",
              "\n",
              "    .dataframe thead th {\n",
              "        text-align: right;\n",
              "    }\n",
              "</style>\n",
              "<table border=\"1\" class=\"dataframe\">\n",
              "  <thead>\n",
              "    <tr style=\"text-align: right;\">\n",
              "      <th></th>\n",
              "      <th>Att1</th>\n",
              "      <th>Att2</th>\n",
              "      <th>Att3</th>\n",
              "      <th>Att4</th>\n",
              "      <th>Att5</th>\n",
              "      <th>Att6</th>\n",
              "      <th>Class</th>\n",
              "    </tr>\n",
              "  </thead>\n",
              "  <tbody>\n",
              "    <tr>\n",
              "      <th>0</th>\n",
              "      <td>3.9</td>\n",
              "      <td>Besar</td>\n",
              "      <td>Hijau</td>\n",
              "      <td>48</td>\n",
              "      <td>81.0</td>\n",
              "      <td>3</td>\n",
              "      <td>A</td>\n",
              "    </tr>\n",
              "    <tr>\n",
              "      <th>1</th>\n",
              "      <td>6.2</td>\n",
              "      <td>Besar</td>\n",
              "      <td>Merah</td>\n",
              "      <td>36</td>\n",
              "      <td>63.0</td>\n",
              "      <td>3</td>\n",
              "      <td>A</td>\n",
              "    </tr>\n",
              "    <tr>\n",
              "      <th>2</th>\n",
              "      <td>7.7</td>\n",
              "      <td>Kecil</td>\n",
              "      <td>Merah</td>\n",
              "      <td>12</td>\n",
              "      <td>20.0</td>\n",
              "      <td>3</td>\n",
              "      <td>C</td>\n",
              "    </tr>\n",
              "    <tr>\n",
              "      <th>3</th>\n",
              "      <td>10.9</td>\n",
              "      <td>Besar</td>\n",
              "      <td>Biru</td>\n",
              "      <td>12</td>\n",
              "      <td>16.0</td>\n",
              "      <td>2</td>\n",
              "      <td>C</td>\n",
              "    </tr>\n",
              "    <tr>\n",
              "      <th>4</th>\n",
              "      <td>5.7</td>\n",
              "      <td>Kecil</td>\n",
              "      <td>Hijau</td>\n",
              "      <td>24</td>\n",
              "      <td>42.0</td>\n",
              "      <td>3</td>\n",
              "      <td>B</td>\n",
              "    </tr>\n",
              "    <tr>\n",
              "      <th>5</th>\n",
              "      <td>4.7</td>\n",
              "      <td>Besar</td>\n",
              "      <td>Hijau</td>\n",
              "      <td>36</td>\n",
              "      <td>62.0</td>\n",
              "      <td>3</td>\n",
              "      <td>B</td>\n",
              "    </tr>\n",
              "    <tr>\n",
              "      <th>6</th>\n",
              "      <td>8.2</td>\n",
              "      <td>Kecil</td>\n",
              "      <td>Biru</td>\n",
              "      <td>24</td>\n",
              "      <td>51.9</td>\n",
              "      <td>2</td>\n",
              "      <td>C</td>\n",
              "    </tr>\n",
              "    <tr>\n",
              "      <th>7</th>\n",
              "      <td>4.4</td>\n",
              "      <td>Sedang</td>\n",
              "      <td>Merah</td>\n",
              "      <td>36</td>\n",
              "      <td>74.0</td>\n",
              "      <td>3</td>\n",
              "      <td>A</td>\n",
              "    </tr>\n",
              "    <tr>\n",
              "      <th>8</th>\n",
              "      <td>8.2</td>\n",
              "      <td>Sedang</td>\n",
              "      <td>Biru</td>\n",
              "      <td>12</td>\n",
              "      <td>32.0</td>\n",
              "      <td>2</td>\n",
              "      <td>C</td>\n",
              "    </tr>\n",
              "    <tr>\n",
              "      <th>9</th>\n",
              "      <td>5.8</td>\n",
              "      <td>Besar</td>\n",
              "      <td>Biru</td>\n",
              "      <td>24</td>\n",
              "      <td>52.0</td>\n",
              "      <td>3</td>\n",
              "      <td>B</td>\n",
              "    </tr>\n",
              "    <tr>\n",
              "      <th>10</th>\n",
              "      <td>2.5</td>\n",
              "      <td>Besar</td>\n",
              "      <td>Hijau</td>\n",
              "      <td>48</td>\n",
              "      <td>77.0</td>\n",
              "      <td>3</td>\n",
              "      <td>A</td>\n",
              "    </tr>\n",
              "  </tbody>\n",
              "</table>\n",
              "</div>"
            ],
            "text/plain": [
              "    Att1    Att2   Att3  Att4  Att5  Att6 Class\n",
              "0    3.9   Besar  Hijau    48  81.0     3     A\n",
              "1    6.2   Besar  Merah    36  63.0     3     A\n",
              "2    7.7   Kecil  Merah    12  20.0     3     C\n",
              "3   10.9   Besar   Biru    12  16.0     2     C\n",
              "4    5.7   Kecil  Hijau    24  42.0     3     B\n",
              "5    4.7   Besar  Hijau    36  62.0     3     B\n",
              "6    8.2   Kecil   Biru    24  51.9     2     C\n",
              "7    4.4  Sedang  Merah    36  74.0     3     A\n",
              "8    8.2  Sedang   Biru    12  32.0     2     C\n",
              "9    5.8   Besar   Biru    24  52.0     3     B\n",
              "10   2.5   Besar  Hijau    48  77.0     3     A"
            ]
          },
          "metadata": {
            "tags": []
          },
          "execution_count": 7
        }
      ]
    },
    {
      "cell_type": "code",
      "metadata": {
        "id": "pJtTAkDo5aGh",
        "colab_type": "code",
        "outputId": "66c8580b-c0fd-4fac-ba49-6e35af22fd56",
        "colab": {
          "base_uri": "https://localhost:8080/",
          "height": 296
        }
      },
      "source": [
        "#detect outliers using boxplot\n",
        "\n",
        "sns.boxplot(df_train['Att1'])"
      ],
      "execution_count": 8,
      "outputs": [
        {
          "output_type": "execute_result",
          "data": {
            "text/plain": [
              "<matplotlib.axes._subplots.AxesSubplot at 0x7f8c1b5b89b0>"
            ]
          },
          "metadata": {
            "tags": []
          },
          "execution_count": 8
        },
        {
          "output_type": "display_data",
          "data": {
            "image/png": "[encoded data removed]",
            "text/plain": [
              "<Figure size 432x288 with 1 Axes>"
            ]
          },
          "metadata": {
            "tags": []
          }
        }
      ]
    },
    {
      "cell_type": "code",
      "metadata": {
        "id": "gFj4ltuv5qWu",
        "colab_type": "code",
        "outputId": "50cf90ab-56b8-46e0-9e8d-d49df645f405",
        "colab": {
          "base_uri": "https://localhost:8080/",
          "height": 296
        }
      },
      "source": [
        "sns.boxplot(df_train['Att4'])"
      ],
      "execution_count": 9,
      "outputs": [
        {
          "output_type": "execute_result",
          "data": {
            "text/plain": [
              "<matplotlib.axes._subplots.AxesSubplot at 0x7f8c1b04ab00>"
            ]
          },
          "metadata": {
            "tags": []
          },
          "execution_count": 9
        },
        {
          "output_type": "display_data",
          "data": {
            "image/png": "[encoded data removed]",
            "text/plain": [
              "<Figure size 432x288 with 1 Axes>"
            ]
          },
          "metadata": {
            "tags": []
          }
        }
      ]
    },
    {
      "cell_type": "code",
      "metadata": {
        "id": "e1aDeDoH5s9s",
        "colab_type": "code",
        "outputId": "3ba1e61a-4f59-4f22-9ef4-96c9863ee798",
        "colab": {
          "base_uri": "https://localhost:8080/",
          "height": 296
        }
      },
      "source": [
        "sns.boxplot(df_train['Att5'])"
      ],
      "execution_count": 10,
      "outputs": [
        {
          "output_type": "execute_result",
          "data": {
            "text/plain": [
              "<matplotlib.axes._subplots.AxesSubplot at 0x7f8c1b01f4a8>"
            ]
          },
          "metadata": {
            "tags": []
          },
          "execution_count": 10
        },
        {
          "output_type": "display_data",
          "data": {
            "image/png": "[encoded data removed]",
            "text/plain": [
              "<Figure size 432x288 with 1 Axes>"
            ]
          },
          "metadata": {
            "tags": []
          }
        }
      ]
    },
    {
      "cell_type": "code",
      "metadata": {
        "id": "gL2gI2t55tNg",
        "colab_type": "code",
        "outputId": "b8d523d7-3118-403e-d927-18e8ae4161c1",
        "colab": {
          "base_uri": "https://localhost:8080/",
          "height": 296
        }
      },
      "source": [
        "sns.boxplot(df_train['Att6'])"
      ],
      "execution_count": 11,
      "outputs": [
        {
          "output_type": "execute_result",
          "data": {
            "text/plain": [
              "<matplotlib.axes._subplots.AxesSubplot at 0x7f8c1afa0f60>"
            ]
          },
          "metadata": {
            "tags": []
          },
          "execution_count": 11
        },
        {
          "output_type": "display_data",
          "data": {
            "image/png": "[encoded data removed]",
            "text/plain": [
              "<Figure size 432x288 with 1 Axes>"
            ]
          },
          "metadata": {
            "tags": []
          }
        }
      ]
    },
    {
      "cell_type": "code",
      "metadata": {
        "id": "oOFEolPJ5Enx",
        "colab_type": "code",
        "outputId": "d68b5fb0-fb75-40e3-db5e-a5495aab8275",
        "colab": {
          "base_uri": "https://localhost:8080/",
          "height": 267
        }
      },
      "source": [
        "#plot histogram to show data distribution, check for suspicious plots\n",
        "df_train.plot(kind='bar')\n",
        "plt.show()"
      ],
      "execution_count": 12,
      "outputs": [
        {
          "output_type": "display_data",
          "data": {
            "image/png": "[encoded data removed]",
            "text/plain": [
              "<Figure size 432x288 with 1 Axes>"
            ]
          },
          "metadata": {
            "tags": []
          }
        }
      ]
    },
    {
      "cell_type": "code",
      "metadata": {
        "id": "_a7p18Spks31",
        "colab_type": "code",
        "outputId": "b3272b7c-5d98-4625-d31e-34e6eeeed4cd",
        "colab": {
          "base_uri": "https://localhost:8080/",
          "height": 267
        }
      },
      "source": [
        "#Att1\n",
        "dfatt1 = pd.DataFrame(df_train, columns= [\"Att1\"])\n",
        "dfatt1.plot(kind='bar')\n",
        "plt.show()"
      ],
      "execution_count": 13,
      "outputs": [
        {
          "output_type": "display_data",
          "data": {
            "image/png": "[encoded data removed]",
            "text/plain": [
              "<Figure size 432x288 with 1 Axes>"
            ]
          },
          "metadata": {
            "tags": []
          }
        }
      ]
    },
    {
      "cell_type": "code",
      "metadata": {
        "id": "qlhwCEkDlBpt",
        "colab_type": "code",
        "outputId": "1ef5d168-a4e0-4928-f978-db606cbc7712",
        "colab": {
          "base_uri": "https://localhost:8080/",
          "height": 270
        }
      },
      "source": [
        "#Att4\n",
        "dfatt4 = pd.DataFrame(df_train, columns= [\"Att4\"])\n",
        "dfatt4.plot(kind='bar')\n",
        "plt.show()"
      ],
      "execution_count": 14,
      "outputs": [
        {
          "output_type": "display_data",
          "data": {
            "image/png": "[encoded data removed]",
            "text/plain": [
              "<Figure size 432x288 with 1 Axes>"
            ]
          },
          "metadata": {
            "tags": []
          }
        }
      ]
    },
    {
      "cell_type": "code",
      "metadata": {
        "id": "xXfuCtcPlFoc",
        "colab_type": "code",
        "outputId": "92f02cab-475d-4c99-d6ba-29d9d84da652",
        "colab": {
          "base_uri": "https://localhost:8080/",
          "height": 267
        }
      },
      "source": [
        "#Att5\n",
        "dfatt5 = pd.DataFrame(df_train, columns= [\"Att5\"])\n",
        "dfatt5.plot(kind='bar')\n",
        "plt.show()"
      ],
      "execution_count": 15,
      "outputs": [
        {
          "output_type": "display_data",
          "data": {
            "image/png": "[encoded data removed]",
            "text/plain": [
              "<Figure size 432x288 with 1 Axes>"
            ]
          },
          "metadata": {
            "tags": []
          }
        }
      ]
    },
    {
      "cell_type": "code",
      "metadata": {
        "id": "XClmnffafO3v",
        "colab_type": "code",
        "outputId": "bbea051f-1f36-4584-9a92-3731b9dbe777",
        "colab": {
          "base_uri": "https://localhost:8080/",
          "height": 268
        }
      },
      "source": [
        "#Correlation Matrix with Heat Map\n",
        "\n",
        "corrmat = df_train.corr()\n",
        "top_corr_features = corrmat.index\n",
        "#plot heat map\n",
        "g=sns.heatmap(df_train[top_corr_features].corr(),annot=True,cmap=\"RdYlGn\")"
      ],
      "execution_count": 19,
      "outputs": [
        {
          "output_type": "display_data",
          "data": {
            "image/png": "[encoded data removed]",
            "text/plain": [
              "<Figure size 432x288 with 2 Axes>"
            ]
          },
          "metadata": {
            "tags": []
          }
        }
      ]
    },
    {
      "cell_type": "markdown",
      "metadata": {
        "id": "GfXTmSfqKHWI",
        "colab_type": "text"
      },
      "source": [
        "### 2. Feature Engineering"
      ]
    },
    {
      "cell_type": "code",
      "metadata": {
        "id": "VyA_fE_7VnTr",
        "colab_type": "code",
        "outputId": "7c9bb770-f8e4-44e7-c9f8-542c8337ae37",
        "colab": {
          "base_uri": "https://localhost:8080/",
          "height": 557
        }
      },
      "source": [
        "df_test = pd.read_csv(\"test.csv\")\n",
        "df_dataset = pd.concat([df_train, df_test], axis=0)\n",
        "df_dataset"
      ],
      "execution_count": 21,
      "outputs": [
        {
          "output_type": "execute_result",
          "data": {
            "text/html": [
              "<div>\n",
              "<style scoped>\n",
              "    .dataframe tbody tr th:only-of-type {\n",
              "        vertical-align: middle;\n",
              "    }\n",
              "\n",
              "    .dataframe tbody tr th {\n",
              "        vertical-align: top;\n",
              "    }\n",
              "\n",
              "    .dataframe thead th {\n",
              "        text-align: right;\n",
              "    }\n",
              "</style>\n",
              "<table border=\"1\" class=\"dataframe\">\n",
              "  <thead>\n",
              "    <tr style=\"text-align: right;\">\n",
              "      <th></th>\n",
              "      <th>Att1</th>\n",
              "      <th>Att2</th>\n",
              "      <th>Att3</th>\n",
              "      <th>Att4</th>\n",
              "      <th>Att5</th>\n",
              "      <th>Att6</th>\n",
              "      <th>Class</th>\n",
              "    </tr>\n",
              "  </thead>\n",
              "  <tbody>\n",
              "    <tr>\n",
              "      <th>0</th>\n",
              "      <td>3.9</td>\n",
              "      <td>Besar</td>\n",
              "      <td>Hijau</td>\n",
              "      <td>48</td>\n",
              "      <td>81.0</td>\n",
              "      <td>3</td>\n",
              "      <td>A</td>\n",
              "    </tr>\n",
              "    <tr>\n",
              "      <th>1</th>\n",
              "      <td>6.2</td>\n",
              "      <td>Besar</td>\n",
              "      <td>Merah</td>\n",
              "      <td>36</td>\n",
              "      <td>63.0</td>\n",
              "      <td>3</td>\n",
              "      <td>A</td>\n",
              "    </tr>\n",
              "    <tr>\n",
              "      <th>2</th>\n",
              "      <td>7.7</td>\n",
              "      <td>Kecil</td>\n",
              "      <td>Merah</td>\n",
              "      <td>12</td>\n",
              "      <td>20.0</td>\n",
              "      <td>3</td>\n",
              "      <td>C</td>\n",
              "    </tr>\n",
              "    <tr>\n",
              "      <th>3</th>\n",
              "      <td>10.9</td>\n",
              "      <td>Besar</td>\n",
              "      <td>Biru</td>\n",
              "      <td>12</td>\n",
              "      <td>16.0</td>\n",
              "      <td>2</td>\n",
              "      <td>C</td>\n",
              "    </tr>\n",
              "    <tr>\n",
              "      <th>4</th>\n",
              "      <td>5.7</td>\n",
              "      <td>Kecil</td>\n",
              "      <td>Hijau</td>\n",
              "      <td>24</td>\n",
              "      <td>42.0</td>\n",
              "      <td>3</td>\n",
              "      <td>B</td>\n",
              "    </tr>\n",
              "    <tr>\n",
              "      <th>5</th>\n",
              "      <td>4.7</td>\n",
              "      <td>Besar</td>\n",
              "      <td>Hijau</td>\n",
              "      <td>36</td>\n",
              "      <td>62.0</td>\n",
              "      <td>3</td>\n",
              "      <td>B</td>\n",
              "    </tr>\n",
              "    <tr>\n",
              "      <th>6</th>\n",
              "      <td>8.2</td>\n",
              "      <td>Kecil</td>\n",
              "      <td>Biru</td>\n",
              "      <td>24</td>\n",
              "      <td>51.9</td>\n",
              "      <td>2</td>\n",
              "      <td>C</td>\n",
              "    </tr>\n",
              "    <tr>\n",
              "      <th>7</th>\n",
              "      <td>4.4</td>\n",
              "      <td>Sedang</td>\n",
              "      <td>Merah</td>\n",
              "      <td>36</td>\n",
              "      <td>74.0</td>\n",
              "      <td>3</td>\n",
              "      <td>A</td>\n",
              "    </tr>\n",
              "    <tr>\n",
              "      <th>8</th>\n",
              "      <td>8.2</td>\n",
              "      <td>Sedang</td>\n",
              "      <td>Biru</td>\n",
              "      <td>12</td>\n",
              "      <td>32.0</td>\n",
              "      <td>2</td>\n",
              "      <td>C</td>\n",
              "    </tr>\n",
              "    <tr>\n",
              "      <th>9</th>\n",
              "      <td>5.8</td>\n",
              "      <td>Besar</td>\n",
              "      <td>Biru</td>\n",
              "      <td>24</td>\n",
              "      <td>52.0</td>\n",
              "      <td>3</td>\n",
              "      <td>B</td>\n",
              "    </tr>\n",
              "    <tr>\n",
              "      <th>10</th>\n",
              "      <td>2.5</td>\n",
              "      <td>Besar</td>\n",
              "      <td>Hijau</td>\n",
              "      <td>48</td>\n",
              "      <td>77.0</td>\n",
              "      <td>3</td>\n",
              "      <td>A</td>\n",
              "    </tr>\n",
              "    <tr>\n",
              "      <th>0</th>\n",
              "      <td>2.9</td>\n",
              "      <td>Besar</td>\n",
              "      <td>Biru</td>\n",
              "      <td>36</td>\n",
              "      <td>91.0</td>\n",
              "      <td>3</td>\n",
              "      <td>NaN</td>\n",
              "    </tr>\n",
              "    <tr>\n",
              "      <th>1</th>\n",
              "      <td>5.6</td>\n",
              "      <td>Kecil</td>\n",
              "      <td>Merah</td>\n",
              "      <td>24</td>\n",
              "      <td>33.0</td>\n",
              "      <td>3</td>\n",
              "      <td>NaN</td>\n",
              "    </tr>\n",
              "    <tr>\n",
              "      <th>2</th>\n",
              "      <td>7.5</td>\n",
              "      <td>Kecil</td>\n",
              "      <td>Hijau</td>\n",
              "      <td>24</td>\n",
              "      <td>22.0</td>\n",
              "      <td>2</td>\n",
              "      <td>NaN</td>\n",
              "    </tr>\n",
              "    <tr>\n",
              "      <th>3</th>\n",
              "      <td>2.2</td>\n",
              "      <td>Sedang</td>\n",
              "      <td>Merah</td>\n",
              "      <td>24</td>\n",
              "      <td>76.0</td>\n",
              "      <td>3</td>\n",
              "      <td>NaN</td>\n",
              "    </tr>\n",
              "    <tr>\n",
              "      <th>4</th>\n",
              "      <td>4.5</td>\n",
              "      <td>Kecil</td>\n",
              "      <td>Biru</td>\n",
              "      <td>24</td>\n",
              "      <td>68.0</td>\n",
              "      <td>3</td>\n",
              "      <td>NaN</td>\n",
              "    </tr>\n",
              "    <tr>\n",
              "      <th>5</th>\n",
              "      <td>6.3</td>\n",
              "      <td>Sedang</td>\n",
              "      <td>Merah</td>\n",
              "      <td>24</td>\n",
              "      <td>32.0</td>\n",
              "      <td>3</td>\n",
              "      <td>NaN</td>\n",
              "    </tr>\n",
              "  </tbody>\n",
              "</table>\n",
              "</div>"
            ],
            "text/plain": [
              "    Att1    Att2   Att3  Att4  Att5  Att6 Class\n",
              "0    3.9   Besar  Hijau    48  81.0     3     A\n",
              "1    6.2   Besar  Merah    36  63.0     3     A\n",
              "2    7.7   Kecil  Merah    12  20.0     3     C\n",
              "3   10.9   Besar   Biru    12  16.0     2     C\n",
              "4    5.7   Kecil  Hijau    24  42.0     3     B\n",
              "5    4.7   Besar  Hijau    36  62.0     3     B\n",
              "6    8.2   Kecil   Biru    24  51.9     2     C\n",
              "7    4.4  Sedang  Merah    36  74.0     3     A\n",
              "8    8.2  Sedang   Biru    12  32.0     2     C\n",
              "9    5.8   Besar   Biru    24  52.0     3     B\n",
              "10   2.5   Besar  Hijau    48  77.0     3     A\n",
              "0    2.9   Besar   Biru    36  91.0     3   NaN\n",
              "1    5.6   Kecil  Merah    24  33.0     3   NaN\n",
              "2    7.5   Kecil  Hijau    24  22.0     2   NaN\n",
              "3    2.2  Sedang  Merah    24  76.0     3   NaN\n",
              "4    4.5   Kecil   Biru    24  68.0     3   NaN\n",
              "5    6.3  Sedang  Merah    24  32.0     3   NaN"
            ]
          },
          "metadata": {
            "tags": []
          },
          "execution_count": 21
        }
      ]
    },
    {
      "cell_type": "code",
      "metadata": {
        "id": "tMF8vp6vRlcU",
        "colab_type": "code",
        "outputId": "d91c4d76-0d23-4009-fef3-16a5bafbd02f",
        "colab": {
          "base_uri": "https://localhost:8080/",
          "height": 557
        }
      },
      "source": [
        "#encode ordinal categorical data\n",
        "df_dataset.Att2 = pd.Categorical(df_dataset.Att2,['Kecil','Sedang','Besar'], ordered=True)\n",
        "df_dataset.Att2 = df_dataset.Att2.cat.codes\n",
        "df_dataset"
      ],
      "execution_count": 22,
      "outputs": [
        {
          "output_type": "execute_result",
          "data": {
            "text/html": [
              "<div>\n",
              "<style scoped>\n",
              "    .dataframe tbody tr th:only-of-type {\n",
              "        vertical-align: middle;\n",
              "    }\n",
              "\n",
              "    .dataframe tbody tr th {\n",
              "        vertical-align: top;\n",
              "    }\n",
              "\n",
              "    .dataframe thead th {\n",
              "        text-align: right;\n",
              "    }\n",
              "</style>\n",
              "<table border=\"1\" class=\"dataframe\">\n",
              "  <thead>\n",
              "    <tr style=\"text-align: right;\">\n",
              "      <th></th>\n",
              "      <th>Att1</th>\n",
              "      <th>Att2</th>\n",
              "      <th>Att3</th>\n",
              "      <th>Att4</th>\n",
              "      <th>Att5</th>\n",
              "      <th>Att6</th>\n",
              "      <th>Class</th>\n",
              "    </tr>\n",
              "  </thead>\n",
              "  <tbody>\n",
              "    <tr>\n",
              "      <th>0</th>\n",
              "      <td>3.9</td>\n",
              "      <td>2</td>\n",
              "      <td>Hijau</td>\n",
              "      <td>48</td>\n",
              "      <td>81.0</td>\n",
              "      <td>3</td>\n",
              "      <td>A</td>\n",
              "    </tr>\n",
              "    <tr>\n",
              "      <th>1</th>\n",
              "      <td>6.2</td>\n",
              "      <td>2</td>\n",
              "      <td>Merah</td>\n",
              "      <td>36</td>\n",
              "      <td>63.0</td>\n",
              "      <td>3</td>\n",
              "      <td>A</td>\n",
              "    </tr>\n",
              "    <tr>\n",
              "      <th>2</th>\n",
              "      <td>7.7</td>\n",
              "      <td>0</td>\n",
              "      <td>Merah</td>\n",
              "      <td>12</td>\n",
              "      <td>20.0</td>\n",
              "      <td>3</td>\n",
              "      <td>C</td>\n",
              "    </tr>\n",
              "    <tr>\n",
              "      <th>3</th>\n",
              "      <td>10.9</td>\n",
              "      <td>2</td>\n",
              "      <td>Biru</td>\n",
              "      <td>12</td>\n",
              "      <td>16.0</td>\n",
              "      <td>2</td>\n",
              "      <td>C</td>\n",
              "    </tr>\n",
              "    <tr>\n",
              "      <th>4</th>\n",
              "      <td>5.7</td>\n",
              "      <td>0</td>\n",
              "      <td>Hijau</td>\n",
              "      <td>24</td>\n",
              "      <td>42.0</td>\n",
              "      <td>3</td>\n",
              "      <td>B</td>\n",
              "    </tr>\n",
              "    <tr>\n",
              "      <th>5</th>\n",
              "      <td>4.7</td>\n",
              "      <td>2</td>\n",
              "      <td>Hijau</td>\n",
              "      <td>36</td>\n",
              "      <td>62.0</td>\n",
              "      <td>3</td>\n",
              "      <td>B</td>\n",
              "    </tr>\n",
              "    <tr>\n",
              "      <th>6</th>\n",
              "      <td>8.2</td>\n",
              "      <td>0</td>\n",
              "      <td>Biru</td>\n",
              "      <td>24</td>\n",
              "      <td>51.9</td>\n",
              "      <td>2</td>\n",
              "      <td>C</td>\n",
              "    </tr>\n",
              "    <tr>\n",
              "      <th>7</th>\n",
              "      <td>4.4</td>\n",
              "      <td>1</td>\n",
              "      <td>Merah</td>\n",
              "      <td>36</td>\n",
              "      <td>74.0</td>\n",
              "      <td>3</td>\n",
              "      <td>A</td>\n",
              "    </tr>\n",
              "    <tr>\n",
              "      <th>8</th>\n",
              "      <td>8.2</td>\n",
              "      <td>1</td>\n",
              "      <td>Biru</td>\n",
              "      <td>12</td>\n",
              "      <td>32.0</td>\n",
              "      <td>2</td>\n",
              "      <td>C</td>\n",
              "    </tr>\n",
              "    <tr>\n",
              "      <th>9</th>\n",
              "      <td>5.8</td>\n",
              "      <td>2</td>\n",
              "      <td>Biru</td>\n",
              "      <td>24</td>\n",
              "      <td>52.0</td>\n",
              "      <td>3</td>\n",
              "      <td>B</td>\n",
              "    </tr>\n",
              "    <tr>\n",
              "      <th>10</th>\n",
              "      <td>2.5</td>\n",
              "      <td>2</td>\n",
              "      <td>Hijau</td>\n",
              "      <td>48</td>\n",
              "      <td>77.0</td>\n",
              "      <td>3</td>\n",
              "      <td>A</td>\n",
              "    </tr>\n",
              "    <tr>\n",
              "      <th>0</th>\n",
              "      <td>2.9</td>\n",
              "      <td>2</td>\n",
              "      <td>Biru</td>\n",
              "      <td>36</td>\n",
              "      <td>91.0</td>\n",
              "      <td>3</td>\n",
              "      <td>NaN</td>\n",
              "    </tr>\n",
              "    <tr>\n",
              "      <th>1</th>\n",
              "      <td>5.6</td>\n",
              "      <td>0</td>\n",
              "      <td>Merah</td>\n",
              "      <td>24</td>\n",
              "      <td>33.0</td>\n",
              "      <td>3</td>\n",
              "      <td>NaN</td>\n",
              "    </tr>\n",
              "    <tr>\n",
              "      <th>2</th>\n",
              "      <td>7.5</td>\n",
              "      <td>0</td>\n",
              "      <td>Hijau</td>\n",
              "      <td>24</td>\n",
              "      <td>22.0</td>\n",
              "      <td>2</td>\n",
              "      <td>NaN</td>\n",
              "    </tr>\n",
              "    <tr>\n",
              "      <th>3</th>\n",
              "      <td>2.2</td>\n",
              "      <td>1</td>\n",
              "      <td>Merah</td>\n",
              "      <td>24</td>\n",
              "      <td>76.0</td>\n",
              "      <td>3</td>\n",
              "      <td>NaN</td>\n",
              "    </tr>\n",
              "    <tr>\n",
              "      <th>4</th>\n",
              "      <td>4.5</td>\n",
              "      <td>0</td>\n",
              "      <td>Biru</td>\n",
              "      <td>24</td>\n",
              "      <td>68.0</td>\n",
              "      <td>3</td>\n",
              "      <td>NaN</td>\n",
              "    </tr>\n",
              "    <tr>\n",
              "      <th>5</th>\n",
              "      <td>6.3</td>\n",
              "      <td>1</td>\n",
              "      <td>Merah</td>\n",
              "      <td>24</td>\n",
              "      <td>32.0</td>\n",
              "      <td>3</td>\n",
              "      <td>NaN</td>\n",
              "    </tr>\n",
              "  </tbody>\n",
              "</table>\n",
              "</div>"
            ],
            "text/plain": [
              "    Att1  Att2   Att3  Att4  Att5  Att6 Class\n",
              "0    3.9     2  Hijau    48  81.0     3     A\n",
              "1    6.2     2  Merah    36  63.0     3     A\n",
              "2    7.7     0  Merah    12  20.0     3     C\n",
              "3   10.9     2   Biru    12  16.0     2     C\n",
              "4    5.7     0  Hijau    24  42.0     3     B\n",
              "5    4.7     2  Hijau    36  62.0     3     B\n",
              "6    8.2     0   Biru    24  51.9     2     C\n",
              "7    4.4     1  Merah    36  74.0     3     A\n",
              "8    8.2     1   Biru    12  32.0     2     C\n",
              "9    5.8     2   Biru    24  52.0     3     B\n",
              "10   2.5     2  Hijau    48  77.0     3     A\n",
              "0    2.9     2   Biru    36  91.0     3   NaN\n",
              "1    5.6     0  Merah    24  33.0     3   NaN\n",
              "2    7.5     0  Hijau    24  22.0     2   NaN\n",
              "3    2.2     1  Merah    24  76.0     3   NaN\n",
              "4    4.5     0   Biru    24  68.0     3   NaN\n",
              "5    6.3     1  Merah    24  32.0     3   NaN"
            ]
          },
          "metadata": {
            "tags": []
          },
          "execution_count": 22
        }
      ]
    },
    {
      "cell_type": "code",
      "metadata": {
        "id": "TLs-0Zvjpe1k",
        "colab_type": "code",
        "outputId": "d12f60cd-1ac5-42a8-977d-ad57dff81650",
        "colab": {
          "base_uri": "https://localhost:8080/",
          "height": 557
        }
      },
      "source": [
        "#encode non-ordinal categorical data\n",
        "\n",
        "Att3 = df_dataset['Att3']\n",
        "Att3_ohe = pd.get_dummies(data=Att3)\n",
        "obj_columns = list(df_dataset.select_dtypes(include=['object']).columns)\n",
        "obj_columns.remove('Class')\n",
        "data_encoded = pd.get_dummies(data=df_dataset, columns=obj_columns)\n",
        "data_encoded"
      ],
      "execution_count": 24,
      "outputs": [
        {
          "output_type": "execute_result",
          "data": {
            "text/html": [
              "<div>\n",
              "<style scoped>\n",
              "    .dataframe tbody tr th:only-of-type {\n",
              "        vertical-align: middle;\n",
              "    }\n",
              "\n",
              "    .dataframe tbody tr th {\n",
              "        vertical-align: top;\n",
              "    }\n",
              "\n",
              "    .dataframe thead th {\n",
              "        text-align: right;\n",
              "    }\n",
              "</style>\n",
              "<table border=\"1\" class=\"dataframe\">\n",
              "  <thead>\n",
              "    <tr style=\"text-align: right;\">\n",
              "      <th></th>\n",
              "      <th>Att1</th>\n",
              "      <th>Att2</th>\n",
              "      <th>Att4</th>\n",
              "      <th>Att5</th>\n",
              "      <th>Att6</th>\n",
              "      <th>Class</th>\n",
              "      <th>Att3_Biru</th>\n",
              "      <th>Att3_Hijau</th>\n",
              "      <th>Att3_Merah</th>\n",
              "    </tr>\n",
              "  </thead>\n",
              "  <tbody>\n",
              "    <tr>\n",
              "      <th>0</th>\n",
              "      <td>3.9</td>\n",
              "      <td>2</td>\n",
              "      <td>48</td>\n",
              "      <td>81.0</td>\n",
              "      <td>3</td>\n",
              "      <td>A</td>\n",
              "      <td>0</td>\n",
              "      <td>1</td>\n",
              "      <td>0</td>\n",
              "    </tr>\n",
              "    <tr>\n",
              "      <th>1</th>\n",
              "      <td>6.2</td>\n",
              "      <td>2</td>\n",
              "      <td>36</td>\n",
              "      <td>63.0</td>\n",
              "      <td>3</td>\n",
              "      <td>A</td>\n",
              "      <td>0</td>\n",
              "      <td>0</td>\n",
              "      <td>1</td>\n",
              "    </tr>\n",
              "    <tr>\n",
              "      <th>2</th>\n",
              "      <td>7.7</td>\n",
              "      <td>0</td>\n",
              "      <td>12</td>\n",
              "      <td>20.0</td>\n",
              "      <td>3</td>\n",
              "      <td>C</td>\n",
              "      <td>0</td>\n",
              "      <td>0</td>\n",
              "      <td>1</td>\n",
              "    </tr>\n",
              "    <tr>\n",
              "      <th>3</th>\n",
              "      <td>10.9</td>\n",
              "      <td>2</td>\n",
              "      <td>12</td>\n",
              "      <td>16.0</td>\n",
              "      <td>2</td>\n",
              "      <td>C</td>\n",
              "      <td>1</td>\n",
              "      <td>0</td>\n",
              "      <td>0</td>\n",
              "    </tr>\n",
              "    <tr>\n",
              "      <th>4</th>\n",
              "      <td>5.7</td>\n",
              "      <td>0</td>\n",
              "      <td>24</td>\n",
              "      <td>42.0</td>\n",
              "      <td>3</td>\n",
              "      <td>B</td>\n",
              "      <td>0</td>\n",
              "      <td>1</td>\n",
              "      <td>0</td>\n",
              "    </tr>\n",
              "    <tr>\n",
              "      <th>5</th>\n",
              "      <td>4.7</td>\n",
              "      <td>2</td>\n",
              "      <td>36</td>\n",
              "      <td>62.0</td>\n",
              "      <td>3</td>\n",
              "      <td>B</td>\n",
              "      <td>0</td>\n",
              "      <td>1</td>\n",
              "      <td>0</td>\n",
              "    </tr>\n",
              "    <tr>\n",
              "      <th>6</th>\n",
              "      <td>8.2</td>\n",
              "      <td>0</td>\n",
              "      <td>24</td>\n",
              "      <td>51.9</td>\n",
              "      <td>2</td>\n",
              "      <td>C</td>\n",
              "      <td>1</td>\n",
              "      <td>0</td>\n",
              "      <td>0</td>\n",
              "    </tr>\n",
              "    <tr>\n",
              "      <th>7</th>\n",
              "      <td>4.4</td>\n",
              "      <td>1</td>\n",
              "      <td>36</td>\n",
              "      <td>74.0</td>\n",
              "      <td>3</td>\n",
              "      <td>A</td>\n",
              "      <td>0</td>\n",
              "      <td>0</td>\n",
              "      <td>1</td>\n",
              "    </tr>\n",
              "    <tr>\n",
              "      <th>8</th>\n",
              "      <td>8.2</td>\n",
              "      <td>1</td>\n",
              "      <td>12</td>\n",
              "      <td>32.0</td>\n",
              "      <td>2</td>\n",
              "      <td>C</td>\n",
              "      <td>1</td>\n",
              "      <td>0</td>\n",
              "      <td>0</td>\n",
              "    </tr>\n",
              "    <tr>\n",
              "      <th>9</th>\n",
              "      <td>5.8</td>\n",
              "      <td>2</td>\n",
              "      <td>24</td>\n",
              "      <td>52.0</td>\n",
              "      <td>3</td>\n",
              "      <td>B</td>\n",
              "      <td>1</td>\n",
              "      <td>0</td>\n",
              "      <td>0</td>\n",
              "    </tr>\n",
              "    <tr>\n",
              "      <th>10</th>\n",
              "      <td>2.5</td>\n",
              "      <td>2</td>\n",
              "      <td>48</td>\n",
              "      <td>77.0</td>\n",
              "      <td>3</td>\n",
              "      <td>A</td>\n",
              "      <td>0</td>\n",
              "      <td>1</td>\n",
              "      <td>0</td>\n",
              "    </tr>\n",
              "    <tr>\n",
              "      <th>0</th>\n",
              "      <td>2.9</td>\n",
              "      <td>2</td>\n",
              "      <td>36</td>\n",
              "      <td>91.0</td>\n",
              "      <td>3</td>\n",
              "      <td>NaN</td>\n",
              "      <td>1</td>\n",
              "      <td>0</td>\n",
              "      <td>0</td>\n",
              "    </tr>\n",
              "    <tr>\n",
              "      <th>1</th>\n",
              "      <td>5.6</td>\n",
              "      <td>0</td>\n",
              "      <td>24</td>\n",
              "      <td>33.0</td>\n",
              "      <td>3</td>\n",
              "      <td>NaN</td>\n",
              "      <td>0</td>\n",
              "      <td>0</td>\n",
              "      <td>1</td>\n",
              "    </tr>\n",
              "    <tr>\n",
              "      <th>2</th>\n",
              "      <td>7.5</td>\n",
              "      <td>0</td>\n",
              "      <td>24</td>\n",
              "      <td>22.0</td>\n",
              "      <td>2</td>\n",
              "      <td>NaN</td>\n",
              "      <td>0</td>\n",
              "      <td>1</td>\n",
              "      <td>0</td>\n",
              "    </tr>\n",
              "    <tr>\n",
              "      <th>3</th>\n",
              "      <td>2.2</td>\n",
              "      <td>1</td>\n",
              "      <td>24</td>\n",
              "      <td>76.0</td>\n",
              "      <td>3</td>\n",
              "      <td>NaN</td>\n",
              "      <td>0</td>\n",
              "      <td>0</td>\n",
              "      <td>1</td>\n",
              "    </tr>\n",
              "    <tr>\n",
              "      <th>4</th>\n",
              "      <td>4.5</td>\n",
              "      <td>0</td>\n",
              "      <td>24</td>\n",
              "      <td>68.0</td>\n",
              "      <td>3</td>\n",
              "      <td>NaN</td>\n",
              "      <td>1</td>\n",
              "      <td>0</td>\n",
              "      <td>0</td>\n",
              "    </tr>\n",
              "    <tr>\n",
              "      <th>5</th>\n",
              "      <td>6.3</td>\n",
              "      <td>1</td>\n",
              "      <td>24</td>\n",
              "      <td>32.0</td>\n",
              "      <td>3</td>\n",
              "      <td>NaN</td>\n",
              "      <td>0</td>\n",
              "      <td>0</td>\n",
              "      <td>1</td>\n",
              "    </tr>\n",
              "  </tbody>\n",
              "</table>\n",
              "</div>"
            ],
            "text/plain": [
              "    Att1  Att2  Att4  Att5  Att6 Class  Att3_Biru  Att3_Hijau  Att3_Merah\n",
              "0    3.9     2    48  81.0     3     A          0           1           0\n",
              "1    6.2     2    36  63.0     3     A          0           0           1\n",
              "2    7.7     0    12  20.0     3     C          0           0           1\n",
              "3   10.9     2    12  16.0     2     C          1           0           0\n",
              "4    5.7     0    24  42.0     3     B          0           1           0\n",
              "5    4.7     2    36  62.0     3     B          0           1           0\n",
              "6    8.2     0    24  51.9     2     C          1           0           0\n",
              "7    4.4     1    36  74.0     3     A          0           0           1\n",
              "8    8.2     1    12  32.0     2     C          1           0           0\n",
              "9    5.8     2    24  52.0     3     B          1           0           0\n",
              "10   2.5     2    48  77.0     3     A          0           1           0\n",
              "0    2.9     2    36  91.0     3   NaN          1           0           0\n",
              "1    5.6     0    24  33.0     3   NaN          0           0           1\n",
              "2    7.5     0    24  22.0     2   NaN          0           1           0\n",
              "3    2.2     1    24  76.0     3   NaN          0           0           1\n",
              "4    4.5     0    24  68.0     3   NaN          1           0           0\n",
              "5    6.3     1    24  32.0     3   NaN          0           0           1"
            ]
          },
          "metadata": {
            "tags": []
          },
          "execution_count": 24
        }
      ]
    },
    {
      "cell_type": "code",
      "metadata": {
        "id": "BEVmuZ3OsVE9",
        "colab_type": "code",
        "outputId": "b3534a0c-55ae-4364-ac2b-2d63626b6ed1",
        "colab": {
          "base_uri": "https://localhost:8080/",
          "height": 557
        }
      },
      "source": [
        "#Scalling Min-Max Train\n",
        "sc = MinMaxScaler()\n",
        "data_encoded.iloc[0:10,[0,1,2,3,4,6,7,8]] = sc.fit_transform(data_encoded.iloc[0:10,[0,1,2,3,4,6,7,8]])\n",
        "\n",
        "#Scalling Min-Max Test\n",
        "sc = MinMaxScaler()\n",
        "data_encoded.iloc[11:16,[0,1,2,3,4,6,7,8]] = sc.fit_transform(data_encoded.iloc[11:16,[0,1,2,3,4,6,7,8]])\n",
        "\n",
        "data_encoded"
      ],
      "execution_count": 25,
      "outputs": [
        {
          "output_type": "execute_result",
          "data": {
            "text/html": [
              "<div>\n",
              "<style scoped>\n",
              "    .dataframe tbody tr th:only-of-type {\n",
              "        vertical-align: middle;\n",
              "    }\n",
              "\n",
              "    .dataframe tbody tr th {\n",
              "        vertical-align: top;\n",
              "    }\n",
              "\n",
              "    .dataframe thead th {\n",
              "        text-align: right;\n",
              "    }\n",
              "</style>\n",
              "<table border=\"1\" class=\"dataframe\">\n",
              "  <thead>\n",
              "    <tr style=\"text-align: right;\">\n",
              "      <th></th>\n",
              "      <th>Att1</th>\n",
              "      <th>Att2</th>\n",
              "      <th>Att4</th>\n",
              "      <th>Att5</th>\n",
              "      <th>Att6</th>\n",
              "      <th>Class</th>\n",
              "      <th>Att3_Biru</th>\n",
              "      <th>Att3_Hijau</th>\n",
              "      <th>Att3_Merah</th>\n",
              "    </tr>\n",
              "  </thead>\n",
              "  <tbody>\n",
              "    <tr>\n",
              "      <th>0</th>\n",
              "      <td>0.000000</td>\n",
              "      <td>1.0</td>\n",
              "      <td>1.000000</td>\n",
              "      <td>1.000000</td>\n",
              "      <td>1.0</td>\n",
              "      <td>A</td>\n",
              "      <td>0.0</td>\n",
              "      <td>1.0</td>\n",
              "      <td>0.0</td>\n",
              "    </tr>\n",
              "    <tr>\n",
              "      <th>1</th>\n",
              "      <td>0.328571</td>\n",
              "      <td>1.0</td>\n",
              "      <td>0.666667</td>\n",
              "      <td>0.723077</td>\n",
              "      <td>1.0</td>\n",
              "      <td>A</td>\n",
              "      <td>0.0</td>\n",
              "      <td>0.0</td>\n",
              "      <td>1.0</td>\n",
              "    </tr>\n",
              "    <tr>\n",
              "      <th>2</th>\n",
              "      <td>0.542857</td>\n",
              "      <td>0.0</td>\n",
              "      <td>0.000000</td>\n",
              "      <td>0.061538</td>\n",
              "      <td>1.0</td>\n",
              "      <td>C</td>\n",
              "      <td>0.0</td>\n",
              "      <td>0.0</td>\n",
              "      <td>1.0</td>\n",
              "    </tr>\n",
              "    <tr>\n",
              "      <th>3</th>\n",
              "      <td>1.000000</td>\n",
              "      <td>1.0</td>\n",
              "      <td>0.000000</td>\n",
              "      <td>0.000000</td>\n",
              "      <td>0.0</td>\n",
              "      <td>C</td>\n",
              "      <td>1.0</td>\n",
              "      <td>0.0</td>\n",
              "      <td>0.0</td>\n",
              "    </tr>\n",
              "    <tr>\n",
              "      <th>4</th>\n",
              "      <td>0.257143</td>\n",
              "      <td>0.0</td>\n",
              "      <td>0.333333</td>\n",
              "      <td>0.400000</td>\n",
              "      <td>1.0</td>\n",
              "      <td>B</td>\n",
              "      <td>0.0</td>\n",
              "      <td>1.0</td>\n",
              "      <td>0.0</td>\n",
              "    </tr>\n",
              "    <tr>\n",
              "      <th>5</th>\n",
              "      <td>0.114286</td>\n",
              "      <td>1.0</td>\n",
              "      <td>0.666667</td>\n",
              "      <td>0.707692</td>\n",
              "      <td>1.0</td>\n",
              "      <td>B</td>\n",
              "      <td>0.0</td>\n",
              "      <td>1.0</td>\n",
              "      <td>0.0</td>\n",
              "    </tr>\n",
              "    <tr>\n",
              "      <th>6</th>\n",
              "      <td>0.614286</td>\n",
              "      <td>0.0</td>\n",
              "      <td>0.333333</td>\n",
              "      <td>0.552308</td>\n",
              "      <td>0.0</td>\n",
              "      <td>C</td>\n",
              "      <td>1.0</td>\n",
              "      <td>0.0</td>\n",
              "      <td>0.0</td>\n",
              "    </tr>\n",
              "    <tr>\n",
              "      <th>7</th>\n",
              "      <td>0.071429</td>\n",
              "      <td>0.5</td>\n",
              "      <td>0.666667</td>\n",
              "      <td>0.892308</td>\n",
              "      <td>1.0</td>\n",
              "      <td>A</td>\n",
              "      <td>0.0</td>\n",
              "      <td>0.0</td>\n",
              "      <td>1.0</td>\n",
              "    </tr>\n",
              "    <tr>\n",
              "      <th>8</th>\n",
              "      <td>0.614286</td>\n",
              "      <td>0.5</td>\n",
              "      <td>0.000000</td>\n",
              "      <td>0.246154</td>\n",
              "      <td>0.0</td>\n",
              "      <td>C</td>\n",
              "      <td>1.0</td>\n",
              "      <td>0.0</td>\n",
              "      <td>0.0</td>\n",
              "    </tr>\n",
              "    <tr>\n",
              "      <th>9</th>\n",
              "      <td>0.271429</td>\n",
              "      <td>1.0</td>\n",
              "      <td>0.333333</td>\n",
              "      <td>0.553846</td>\n",
              "      <td>1.0</td>\n",
              "      <td>B</td>\n",
              "      <td>1.0</td>\n",
              "      <td>0.0</td>\n",
              "      <td>0.0</td>\n",
              "    </tr>\n",
              "    <tr>\n",
              "      <th>10</th>\n",
              "      <td>2.500000</td>\n",
              "      <td>2.0</td>\n",
              "      <td>48.000000</td>\n",
              "      <td>77.000000</td>\n",
              "      <td>3.0</td>\n",
              "      <td>A</td>\n",
              "      <td>0.0</td>\n",
              "      <td>1.0</td>\n",
              "      <td>0.0</td>\n",
              "    </tr>\n",
              "    <tr>\n",
              "      <th>0</th>\n",
              "      <td>0.132075</td>\n",
              "      <td>1.0</td>\n",
              "      <td>1.000000</td>\n",
              "      <td>1.000000</td>\n",
              "      <td>1.0</td>\n",
              "      <td>NaN</td>\n",
              "      <td>1.0</td>\n",
              "      <td>0.0</td>\n",
              "      <td>0.0</td>\n",
              "    </tr>\n",
              "    <tr>\n",
              "      <th>1</th>\n",
              "      <td>0.641509</td>\n",
              "      <td>0.0</td>\n",
              "      <td>0.000000</td>\n",
              "      <td>0.159420</td>\n",
              "      <td>1.0</td>\n",
              "      <td>NaN</td>\n",
              "      <td>0.0</td>\n",
              "      <td>0.0</td>\n",
              "      <td>1.0</td>\n",
              "    </tr>\n",
              "    <tr>\n",
              "      <th>2</th>\n",
              "      <td>1.000000</td>\n",
              "      <td>0.0</td>\n",
              "      <td>0.000000</td>\n",
              "      <td>0.000000</td>\n",
              "      <td>0.0</td>\n",
              "      <td>NaN</td>\n",
              "      <td>0.0</td>\n",
              "      <td>1.0</td>\n",
              "      <td>0.0</td>\n",
              "    </tr>\n",
              "    <tr>\n",
              "      <th>3</th>\n",
              "      <td>0.000000</td>\n",
              "      <td>0.5</td>\n",
              "      <td>0.000000</td>\n",
              "      <td>0.782609</td>\n",
              "      <td>1.0</td>\n",
              "      <td>NaN</td>\n",
              "      <td>0.0</td>\n",
              "      <td>0.0</td>\n",
              "      <td>1.0</td>\n",
              "    </tr>\n",
              "    <tr>\n",
              "      <th>4</th>\n",
              "      <td>0.433962</td>\n",
              "      <td>0.0</td>\n",
              "      <td>0.000000</td>\n",
              "      <td>0.666667</td>\n",
              "      <td>1.0</td>\n",
              "      <td>NaN</td>\n",
              "      <td>1.0</td>\n",
              "      <td>0.0</td>\n",
              "      <td>0.0</td>\n",
              "    </tr>\n",
              "    <tr>\n",
              "      <th>5</th>\n",
              "      <td>6.300000</td>\n",
              "      <td>1.0</td>\n",
              "      <td>24.000000</td>\n",
              "      <td>32.000000</td>\n",
              "      <td>3.0</td>\n",
              "      <td>NaN</td>\n",
              "      <td>0.0</td>\n",
              "      <td>0.0</td>\n",
              "      <td>1.0</td>\n",
              "    </tr>\n",
              "  </tbody>\n",
              "</table>\n",
              "</div>"
            ],
            "text/plain": [
              "        Att1  Att2       Att4  ...  Att3_Biru  Att3_Hijau Att3_Merah\n",
              "0   0.000000   1.0   1.000000  ...        0.0         1.0        0.0\n",
              "1   0.328571   1.0   0.666667  ...        0.0         0.0        1.0\n",
              "2   0.542857   0.0   0.000000  ...        0.0         0.0        1.0\n",
              "3   1.000000   1.0   0.000000  ...        1.0         0.0        0.0\n",
              "4   0.257143   0.0   0.333333  ...        0.0         1.0        0.0\n",
              "5   0.114286   1.0   0.666667  ...        0.0         1.0        0.0\n",
              "6   0.614286   0.0   0.333333  ...        1.0         0.0        0.0\n",
              "7   0.071429   0.5   0.666667  ...        0.0         0.0        1.0\n",
              "8   0.614286   0.5   0.000000  ...        1.0         0.0        0.0\n",
              "9   0.271429   1.0   0.333333  ...        1.0         0.0        0.0\n",
              "10  2.500000   2.0  48.000000  ...        0.0         1.0        0.0\n",
              "0   0.132075   1.0   1.000000  ...        1.0         0.0        0.0\n",
              "1   0.641509   0.0   0.000000  ...        0.0         0.0        1.0\n",
              "2   1.000000   0.0   0.000000  ...        0.0         1.0        0.0\n",
              "3   0.000000   0.5   0.000000  ...        0.0         0.0        1.0\n",
              "4   0.433962   0.0   0.000000  ...        1.0         0.0        0.0\n",
              "5   6.300000   1.0  24.000000  ...        0.0         0.0        1.0\n",
              "\n",
              "[17 rows x 9 columns]"
            ]
          },
          "metadata": {
            "tags": []
          },
          "execution_count": 25
        }
      ]
    },
    {
      "cell_type": "markdown",
      "metadata": {
        "id": "uVfqllnaKMtK",
        "colab_type": "text"
      },
      "source": [
        "### 3. Output"
      ]
    },
    {
      "cell_type": "code",
      "metadata": {
        "id": "twI165b3KFH4",
        "colab_type": "code",
        "outputId": "1e260f64-735f-4db5-8ad0-886474631fb1",
        "colab": {
          "base_uri": "https://localhost:8080/",
          "height": 354
        }
      },
      "source": [
        "#data Splitting : split dataset into data train, validation, and data test\n",
        "x = data_encoded.loc[:, data_encoded.columns != \"Class\"] \n",
        "y = data_encoded[\"Class\"]\n",
        "x_train, x_test, y_train, y_test = train_test_split(x, y, train_size=11, shuffle=False)\n",
        "x_train_2, y_train_2 = x_train, y_train\n",
        "x_train, x_val, y_train, y_val = train_test_split(x_train, y_train, train_size=7, shuffle=False)\n",
        "print(\"Feature Train\\n\",x_train)\n",
        "print(\"\\nClass Train\\n\",y_train)"
      ],
      "execution_count": 26,
      "outputs": [
        {
          "output_type": "stream",
          "text": [
            "Feature Train\n",
            "        Att1  Att2      Att4      Att5  Att6  Att3_Biru  Att3_Hijau  Att3_Merah\n",
            "0  0.000000   1.0  1.000000  1.000000   1.0        0.0         1.0         0.0\n",
            "1  0.328571   1.0  0.666667  0.723077   1.0        0.0         0.0         1.0\n",
            "2  0.542857   0.0  0.000000  0.061538   1.0        0.0         0.0         1.0\n",
            "3  1.000000   1.0  0.000000  0.000000   0.0        1.0         0.0         0.0\n",
            "4  0.257143   0.0  0.333333  0.400000   1.0        0.0         1.0         0.0\n",
            "5  0.114286   1.0  0.666667  0.707692   1.0        0.0         1.0         0.0\n",
            "6  0.614286   0.0  0.333333  0.552308   0.0        1.0         0.0         0.0\n",
            "\n",
            "Class Train\n",
            " 0    A\n",
            "1    A\n",
            "2    C\n",
            "3    C\n",
            "4    B\n",
            "5    B\n",
            "6    C\n",
            "Name: Class, dtype: object\n"
          ],
          "name": "stdout"
        }
      ]
    },
    {
      "cell_type": "code",
      "metadata": {
        "id": "GEiRod-kLJgL",
        "colab_type": "code",
        "outputId": "14e080bf-d434-4082-8df7-93876b4fd00c",
        "colab": {
          "base_uri": "https://localhost:8080/",
          "height": 283
        }
      },
      "source": [
        "print(\"Feature Validation\\n\",x_val)\n",
        "print(\"\\nClass Validation\\n\",y_val)"
      ],
      "execution_count": 27,
      "outputs": [
        {
          "output_type": "stream",
          "text": [
            "Feature Validation\n",
            "         Att1  Att2       Att4  ...  Att3_Biru  Att3_Hijau  Att3_Merah\n",
            "7   0.071429   0.5   0.666667  ...        0.0         0.0         1.0\n",
            "8   0.614286   0.5   0.000000  ...        1.0         0.0         0.0\n",
            "9   0.271429   1.0   0.333333  ...        1.0         0.0         0.0\n",
            "10  2.500000   2.0  48.000000  ...        0.0         1.0         0.0\n",
            "\n",
            "[4 rows x 8 columns]\n",
            "\n",
            "Class Validation\n",
            " 7     A\n",
            "8     C\n",
            "9     B\n",
            "10    A\n",
            "Name: Class, dtype: object\n"
          ],
          "name": "stdout"
        }
      ]
    },
    {
      "cell_type": "code",
      "metadata": {
        "id": "gtEd9-WsYeGV",
        "colab_type": "code",
        "outputId": "2ce7eca2-1b60-44b5-8f15-895928c420b4",
        "colab": {
          "base_uri": "https://localhost:8080/",
          "height": 318
        }
      },
      "source": [
        "print(\"Feature Testing\\n\",x_test)\n",
        "print(\"\\nClass Testing\\n\",y_test)"
      ],
      "execution_count": 28,
      "outputs": [
        {
          "output_type": "stream",
          "text": [
            "Feature Testing\n",
            "        Att1  Att2  Att4       Att5  Att6  Att3_Biru  Att3_Hijau  Att3_Merah\n",
            "0  0.132075   1.0   1.0   1.000000   1.0        1.0         0.0         0.0\n",
            "1  0.641509   0.0   0.0   0.159420   1.0        0.0         0.0         1.0\n",
            "2  1.000000   0.0   0.0   0.000000   0.0        0.0         1.0         0.0\n",
            "3  0.000000   0.5   0.0   0.782609   1.0        0.0         0.0         1.0\n",
            "4  0.433962   0.0   0.0   0.666667   1.0        1.0         0.0         0.0\n",
            "5  6.300000   1.0  24.0  32.000000   3.0        0.0         0.0         1.0\n",
            "\n",
            "Class Testing\n",
            " 0    NaN\n",
            "1    NaN\n",
            "2    NaN\n",
            "3    NaN\n",
            "4    NaN\n",
            "5    NaN\n",
            "Name: Class, dtype: object\n"
          ],
          "name": "stdout"
        }
      ]
    },
    {
      "cell_type": "code",
      "metadata": {
        "id": "spvUj6G1OPNT",
        "colab_type": "code",
        "outputId": "ceda0d2a-25ff-4eea-a073-a36717a39b8c",
        "colab": {
          "base_uri": "https://localhost:8080/",
          "height": 52
        }
      },
      "source": [
        "# Fitting classifier to the Training set & Implement KNN\n",
        "# Fitting K-NN to the Training set\n",
        "from sklearn.neighbors import KNeighborsClassifier\n",
        "model = KNeighborsClassifier(n_neighbors = 4, metric = 'minkowski', p = 2)\n",
        "model.fit(x_train, y_train)\n",
        "\n",
        "# Predicting the validation set results\n",
        "y_val_pred = model.predict(x_val)\n",
        "print('Y validation prediction : ', y_val_pred)\n",
        "print('Y validation     : ',y_val.values.tolist())"
      ],
      "execution_count": 29,
      "outputs": [
        {
          "output_type": "stream",
          "text": [
            "Y validation prediction :  ['A' 'C' 'C' 'A']\n",
            "Y validation     :  ['A', 'C', 'B', 'A']\n"
          ],
          "name": "stdout"
        }
      ]
    },
    {
      "cell_type": "code",
      "metadata": {
        "id": "L8t-xNAGR_y5",
        "colab_type": "code",
        "colab": {
          "base_uri": "https://localhost:8080/",
          "height": 105
        },
        "outputId": "55c4f55e-8cd4-45d9-ad92-3e5cd170e731"
      },
      "source": [
        "# Count performance (for validation)\n",
        "from sklearn.model_selection import cross_validate\n",
        "cross_validate(model, x_train_2, y_train_2, cv=4)"
      ],
      "execution_count": 30,
      "outputs": [
        {
          "output_type": "stream",
          "text": [
            "/usr/local/lib/python3.6/dist-packages/sklearn/model_selection/_split.py:667: UserWarning: The least populated class in y has only 3 members, which is less than n_splits=4.\n",
            "  % (min_groups, self.n_splits)), UserWarning)\n"
          ],
          "name": "stderr"
        },
        {
          "output_type": "execute_result",
          "data": {
            "text/plain": [
              "{'fit_time': array([0.00277114, 0.00166917, 0.00163412, 0.0022068 ]),\n",
              " 'score_time': array([0.00193405, 0.00146699, 0.00141358, 0.00151253]),\n",
              " 'test_score': array([0.66666667, 0.66666667, 0.66666667, 1.        ])}"
            ]
          },
          "metadata": {
            "tags": []
          },
          "execution_count": 30
        }
      ]
    },
    {
      "cell_type": "code",
      "metadata": {
        "id": "hLEP-9rH1AgC",
        "colab_type": "code",
        "colab": {
          "base_uri": "https://localhost:8080/",
          "height": 70
        },
        "outputId": "eb9ebbc6-cb8c-4765-f41c-3344d9dfab83"
      },
      "source": [
        "from sklearn.model_selection import cross_val_score, cross_val_predict\n",
        "cross_val_score(model, x_train_2, y_train_2, cv=4)"
      ],
      "execution_count": 31,
      "outputs": [
        {
          "output_type": "stream",
          "text": [
            "/usr/local/lib/python3.6/dist-packages/sklearn/model_selection/_split.py:667: UserWarning: The least populated class in y has only 3 members, which is less than n_splits=4.\n",
            "  % (min_groups, self.n_splits)), UserWarning)\n"
          ],
          "name": "stderr"
        },
        {
          "output_type": "execute_result",
          "data": {
            "text/plain": [
              "array([0.66666667, 0.66666667, 0.66666667, 1.        ])"
            ]
          },
          "metadata": {
            "tags": []
          },
          "execution_count": 31
        }
      ]
    },
    {
      "cell_type": "code",
      "metadata": {
        "id": "27K9eBxHvHHs",
        "colab_type": "code",
        "colab": {
          "base_uri": "https://localhost:8080/",
          "height": 34
        },
        "outputId": "49179c50-ad82-4690-e2e4-6825e4147409"
      },
      "source": [
        "# Predict test set results\n",
        "y_test_pred = model.predict(x_test)\n",
        "print(y_test_pred)"
      ],
      "execution_count": 32,
      "outputs": [
        {
          "output_type": "stream",
          "text": [
            "['A' 'C' 'C' 'B' 'C' 'A']\n"
          ],
          "name": "stdout"
        }
      ]
    },
    {
      "cell_type": "code",
      "metadata": {
        "id": "ruCJ9sscWDFw",
        "colab_type": "code",
        "colab": {
          "base_uri": "https://localhost:8080/",
          "height": 264
        },
        "outputId": "7cd4ea1c-ac01-427a-a025-60ee458223a5"
      },
      "source": [
        "# Visualize test set results\n",
        "\n",
        "from sklearn.decomposition import PCA\n",
        "pca = PCA(n_components=2)\n",
        "\n",
        "# preparing colors for each label\n",
        "colors = {\n",
        "            'A': 'red',\n",
        "            'B': 'green',\n",
        "            'C': 'blue'\n",
        "         }\n",
        "\n",
        "# plotting train data\n",
        "visualized_train = pd.DataFrame(data=pca.fit_transform(x_train_2), columns=['x', 'y'])\n",
        "train_x_axis = visualized_train['x']\n",
        "train_y_axis = visualized_train['y']\n",
        "train_result = y_train_2\n",
        "\n",
        "for i in range(0, len(train_x_axis)):\n",
        "  plt.scatter(train_x_axis[i], train_y_axis[i], color=colors[train_result[i]], marker='o')\n",
        "\n",
        "# plotting test data\n",
        "visualized_test = pd.DataFrame(data=pca.fit_transform(x_test), columns=['x', 'y'])\n",
        "test_x_axis = visualized_test['x']\n",
        "test_y_axis = visualized_test['y']\n",
        "test_result = y_test_pred\n",
        "\n",
        "for i in range(0, len(test_x_axis)):\n",
        "  plt.scatter(test_x_axis[i], test_y_axis[i], color=colors[test_result[i]], marker='x')\n",
        "\n",
        "# o is train data\n",
        "# x is test data"
      ],
      "execution_count": 33,
      "outputs": [
        {
          "output_type": "display_data",
          "data": {
            "image/png": "[encoded data removed]",
            "text/plain": [
              "<Figure size 432x288 with 1 Axes>"
            ]
          },
          "metadata": {
            "tags": []
          }
        }
      ]
    },
    {
      "cell_type": "code",
      "metadata": {
        "id": "vFi6pglkacX8",
        "colab_type": "code",
        "colab": {}
      },
      "source": [
        ""
      ],
      "execution_count": 0,
      "outputs": []
    }
  ]
}