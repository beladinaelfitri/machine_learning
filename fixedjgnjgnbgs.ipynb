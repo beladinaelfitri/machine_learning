{
  "nbformat": 4,
  "nbformat_minor": 0,
  "metadata": {
    "colab": {
      "name": "fixedNamaTimnyaApa_Training.ipynb",
      "provenance": [],
      "collapsed_sections": [],
      "toc_visible": true,
      "machine_shape": "hm",
      "include_colab_link": true
    },
    "kernelspec": {
      "name": "python3",
      "display_name": "Python 3"
    },
    "accelerator": "GPU",
    "widgets": {
      "application/vnd.jupyter.widget-state+json": {
        "de2fe5f575b54ea0bf64ce5e221d5832": {
          "model_module": "@jupyter-widgets/controls",
          "model_name": "HBoxModel",
          "state": {
            "_view_name": "HBoxView",
            "_dom_classes": [],
            "_model_name": "HBoxModel",
            "_view_module": "@jupyter-widgets/controls",
            "_model_module_version": "1.5.0",
            "_view_count": null,
            "_view_module_version": "1.5.0",
            "box_style": "",
            "layout": "IPY_MODEL_48e50bb1e542445ab2b32b8ada62fc63",
            "_model_module": "@jupyter-widgets/controls",
            "children": [
              "IPY_MODEL_e9df009b2c904303ab8d887466e28c1f",
              "IPY_MODEL_0d196635ea874fdfbdb9bd5ff61b1bbc"
            ]
          }
        },
        "48e50bb1e542445ab2b32b8ada62fc63": {
          "model_module": "@jupyter-widgets/base",
          "model_name": "LayoutModel",
          "state": {
            "_view_name": "LayoutView",
            "grid_template_rows": null,
            "right": null,
            "justify_content": null,
            "_view_module": "@jupyter-widgets/base",
            "overflow": null,
            "_model_module_version": "1.2.0",
            "_view_count": null,
            "flex_flow": null,
            "width": null,
            "min_width": null,
            "border": null,
            "align_items": null,
            "bottom": null,
            "_model_module": "@jupyter-widgets/base",
            "top": null,
            "grid_column": null,
            "overflow_y": null,
            "overflow_x": null,
            "grid_auto_flow": null,
            "grid_area": null,
            "grid_template_columns": null,
            "flex": null,
            "_model_name": "LayoutModel",
            "justify_items": null,
            "grid_row": null,
            "max_height": null,
            "align_content": null,
            "visibility": null,
            "align_self": null,
            "height": null,
            "min_height": null,
            "padding": null,
            "grid_auto_rows": null,
            "grid_gap": null,
            "max_width": null,
            "order": null,
            "_view_module_version": "1.2.0",
            "grid_template_areas": null,
            "object_position": null,
            "object_fit": null,
            "grid_auto_columns": null,
            "margin": null,
            "display": null,
            "left": null
          }
        },
        "e9df009b2c904303ab8d887466e28c1f": {
          "model_module": "@jupyter-widgets/controls",
          "model_name": "FloatProgressModel",
          "state": {
            "_view_name": "ProgressView",
            "style": "IPY_MODEL_beb42c6dfed544089a0f9247a3660a56",
            "_dom_classes": [],
            "description": "Downloading: 100%",
            "_model_name": "FloatProgressModel",
            "bar_style": "success",
            "max": 995526,
            "_view_module": "@jupyter-widgets/controls",
            "_model_module_version": "1.5.0",
            "value": 995526,
            "_view_count": null,
            "_view_module_version": "1.5.0",
            "orientation": "horizontal",
            "min": 0,
            "description_tooltip": null,
            "_model_module": "@jupyter-widgets/controls",
            "layout": "IPY_MODEL_ad95125e7d334b10aec110120d9872da"
          }
        },
        "0d196635ea874fdfbdb9bd5ff61b1bbc": {
          "model_module": "@jupyter-widgets/controls",
          "model_name": "HTMLModel",
          "state": {
            "_view_name": "HTMLView",
            "style": "IPY_MODEL_926387eeaffb48d0a67970b4986fe3c3",
            "_dom_classes": [],
            "description": "",
            "_model_name": "HTMLModel",
            "placeholder": "​",
            "_view_module": "@jupyter-widgets/controls",
            "_model_module_version": "1.5.0",
            "value": " 996k/996k [00:00&lt;00:00, 4.97MB/s]",
            "_view_count": null,
            "_view_module_version": "1.5.0",
            "description_tooltip": null,
            "_model_module": "@jupyter-widgets/controls",
            "layout": "IPY_MODEL_8b881c816eee470c9a788ba303bfd560"
          }
        },
        "beb42c6dfed544089a0f9247a3660a56": {
          "model_module": "@jupyter-widgets/controls",
          "model_name": "ProgressStyleModel",
          "state": {
            "_view_name": "StyleView",
            "_model_name": "ProgressStyleModel",
            "description_width": "initial",
            "_view_module": "@jupyter-widgets/base",
            "_model_module_version": "1.5.0",
            "_view_count": null,
            "_view_module_version": "1.2.0",
            "bar_color": null,
            "_model_module": "@jupyter-widgets/controls"
          }
        },
        "ad95125e7d334b10aec110120d9872da": {
          "model_module": "@jupyter-widgets/base",
          "model_name": "LayoutModel",
          "state": {
            "_view_name": "LayoutView",
            "grid_template_rows": null,
            "right": null,
            "justify_content": null,
            "_view_module": "@jupyter-widgets/base",
            "overflow": null,
            "_model_module_version": "1.2.0",
            "_view_count": null,
            "flex_flow": null,
            "width": null,
            "min_width": null,
            "border": null,
            "align_items": null,
            "bottom": null,
            "_model_module": "@jupyter-widgets/base",
            "top": null,
            "grid_column": null,
            "overflow_y": null,
            "overflow_x": null,
            "grid_auto_flow": null,
            "grid_area": null,
            "grid_template_columns": null,
            "flex": null,
            "_model_name": "LayoutModel",
            "justify_items": null,
            "grid_row": null,
            "max_height": null,
            "align_content": null,
            "visibility": null,
            "align_self": null,
            "height": null,
            "min_height": null,
            "padding": null,
            "grid_auto_rows": null,
            "grid_gap": null,
            "max_width": null,
            "order": null,
            "_view_module_version": "1.2.0",
            "grid_template_areas": null,
            "object_position": null,
            "object_fit": null,
            "grid_auto_columns": null,
            "margin": null,
            "display": null,
            "left": null
          }
        },
        "926387eeaffb48d0a67970b4986fe3c3": {
          "model_module": "@jupyter-widgets/controls",
          "model_name": "DescriptionStyleModel",
          "state": {
            "_view_name": "StyleView",
            "_model_name": "DescriptionStyleModel",
            "description_width": "",
            "_view_module": "@jupyter-widgets/base",
            "_model_module_version": "1.5.0",
            "_view_count": null,
            "_view_module_version": "1.2.0",
            "_model_module": "@jupyter-widgets/controls"
          }
        },
        "8b881c816eee470c9a788ba303bfd560": {
          "model_module": "@jupyter-widgets/base",
          "model_name": "LayoutModel",
          "state": {
            "_view_name": "LayoutView",
            "grid_template_rows": null,
            "right": null,
            "justify_content": null,
            "_view_module": "@jupyter-widgets/base",
            "overflow": null,
            "_model_module_version": "1.2.0",
            "_view_count": null,
            "flex_flow": null,
            "width": null,
            "min_width": null,
            "border": null,
            "align_items": null,
            "bottom": null,
            "_model_module": "@jupyter-widgets/base",
            "top": null,
            "grid_column": null,
            "overflow_y": null,
            "overflow_x": null,
            "grid_auto_flow": null,
            "grid_area": null,
            "grid_template_columns": null,
            "flex": null,
            "_model_name": "LayoutModel",
            "justify_items": null,
            "grid_row": null,
            "max_height": null,
            "align_content": null,
            "visibility": null,
            "align_self": null,
            "height": null,
            "min_height": null,
            "padding": null,
            "grid_auto_rows": null,
            "grid_gap": null,
            "max_width": null,
            "order": null,
            "_view_module_version": "1.2.0",
            "grid_template_areas": null,
            "object_position": null,
            "object_fit": null,
            "grid_auto_columns": null,
            "margin": null,
            "display": null,
            "left": null
          }
        },
        "d2b5a1ff40b64a30a49622df236bb361": {
          "model_module": "@jupyter-widgets/controls",
          "model_name": "HBoxModel",
          "state": {
            "_view_name": "HBoxView",
            "_dom_classes": [],
            "_model_name": "HBoxModel",
            "_view_module": "@jupyter-widgets/controls",
            "_model_module_version": "1.5.0",
            "_view_count": null,
            "_view_module_version": "1.5.0",
            "box_style": "",
            "layout": "IPY_MODEL_0fef9e5739014c8098ed5d0badb4dafd",
            "_model_module": "@jupyter-widgets/controls",
            "children": [
              "IPY_MODEL_6bc1b2da6e7b4113bb87d27f9c62a288",
              "IPY_MODEL_afd73b29908a4bc48a9e23c2f3176ebe"
            ]
          }
        },
        "0fef9e5739014c8098ed5d0badb4dafd": {
          "model_module": "@jupyter-widgets/base",
          "model_name": "LayoutModel",
          "state": {
            "_view_name": "LayoutView",
            "grid_template_rows": null,
            "right": null,
            "justify_content": null,
            "_view_module": "@jupyter-widgets/base",
            "overflow": null,
            "_model_module_version": "1.2.0",
            "_view_count": null,
            "flex_flow": null,
            "width": null,
            "min_width": null,
            "border": null,
            "align_items": null,
            "bottom": null,
            "_model_module": "@jupyter-widgets/base",
            "top": null,
            "grid_column": null,
            "overflow_y": null,
            "overflow_x": null,
            "grid_auto_flow": null,
            "grid_area": null,
            "grid_template_columns": null,
            "flex": null,
            "_model_name": "LayoutModel",
            "justify_items": null,
            "grid_row": null,
            "max_height": null,
            "align_content": null,
            "visibility": null,
            "align_self": null,
            "height": null,
            "min_height": null,
            "padding": null,
            "grid_auto_rows": null,
            "grid_gap": null,
            "max_width": null,
            "order": null,
            "_view_module_version": "1.2.0",
            "grid_template_areas": null,
            "object_position": null,
            "object_fit": null,
            "grid_auto_columns": null,
            "margin": null,
            "display": null,
            "left": null
          }
        },
        "6bc1b2da6e7b4113bb87d27f9c62a288": {
          "model_module": "@jupyter-widgets/controls",
          "model_name": "FloatProgressModel",
          "state": {
            "_view_name": "ProgressView",
            "style": "IPY_MODEL_8dc58a2b438e4a979867a9f34874c5cd",
            "_dom_classes": [],
            "description": "Downloading: 100%",
            "_model_name": "FloatProgressModel",
            "bar_style": "success",
            "max": 466,
            "_view_module": "@jupyter-widgets/controls",
            "_model_module_version": "1.5.0",
            "value": 466,
            "_view_count": null,
            "_view_module_version": "1.5.0",
            "orientation": "horizontal",
            "min": 0,
            "description_tooltip": null,
            "_model_module": "@jupyter-widgets/controls",
            "layout": "IPY_MODEL_ad3683afcd144f43a52fedfa6d05efbb"
          }
        },
        "afd73b29908a4bc48a9e23c2f3176ebe": {
          "model_module": "@jupyter-widgets/controls",
          "model_name": "HTMLModel",
          "state": {
            "_view_name": "HTMLView",
            "style": "IPY_MODEL_e889f36581704d90bed05e518cbaeca5",
            "_dom_classes": [],
            "description": "",
            "_model_name": "HTMLModel",
            "placeholder": "​",
            "_view_module": "@jupyter-widgets/controls",
            "_model_module_version": "1.5.0",
            "value": " 466/466 [00:17&lt;00:00, 26.4B/s]",
            "_view_count": null,
            "_view_module_version": "1.5.0",
            "description_tooltip": null,
            "_model_module": "@jupyter-widgets/controls",
            "layout": "IPY_MODEL_e6a3616118a2438aa205282d7fb56db3"
          }
        },
        "8dc58a2b438e4a979867a9f34874c5cd": {
          "model_module": "@jupyter-widgets/controls",
          "model_name": "ProgressStyleModel",
          "state": {
            "_view_name": "StyleView",
            "_model_name": "ProgressStyleModel",
            "description_width": "initial",
            "_view_module": "@jupyter-widgets/base",
            "_model_module_version": "1.5.0",
            "_view_count": null,
            "_view_module_version": "1.2.0",
            "bar_color": null,
            "_model_module": "@jupyter-widgets/controls"
          }
        },
        "ad3683afcd144f43a52fedfa6d05efbb": {
          "model_module": "@jupyter-widgets/base",
          "model_name": "LayoutModel",
          "state": {
            "_view_name": "LayoutView",
            "grid_template_rows": null,
            "right": null,
            "justify_content": null,
            "_view_module": "@jupyter-widgets/base",
            "overflow": null,
            "_model_module_version": "1.2.0",
            "_view_count": null,
            "flex_flow": null,
            "width": null,
            "min_width": null,
            "border": null,
            "align_items": null,
            "bottom": null,
            "_model_module": "@jupyter-widgets/base",
            "top": null,
            "grid_column": null,
            "overflow_y": null,
            "overflow_x": null,
            "grid_auto_flow": null,
            "grid_area": null,
            "grid_template_columns": null,
            "flex": null,
            "_model_name": "LayoutModel",
            "justify_items": null,
            "grid_row": null,
            "max_height": null,
            "align_content": null,
            "visibility": null,
            "align_self": null,
            "height": null,
            "min_height": null,
            "padding": null,
            "grid_auto_rows": null,
            "grid_gap": null,
            "max_width": null,
            "order": null,
            "_view_module_version": "1.2.0",
            "grid_template_areas": null,
            "object_position": null,
            "object_fit": null,
            "grid_auto_columns": null,
            "margin": null,
            "display": null,
            "left": null
          }
        },
        "e889f36581704d90bed05e518cbaeca5": {
          "model_module": "@jupyter-widgets/controls",
          "model_name": "DescriptionStyleModel",
          "state": {
            "_view_name": "StyleView",
            "_model_name": "DescriptionStyleModel",
            "description_width": "",
            "_view_module": "@jupyter-widgets/base",
            "_model_module_version": "1.5.0",
            "_view_count": null,
            "_view_module_version": "1.2.0",
            "_model_module": "@jupyter-widgets/controls"
          }
        },
        "e6a3616118a2438aa205282d7fb56db3": {
          "model_module": "@jupyter-widgets/base",
          "model_name": "LayoutModel",
          "state": {
            "_view_name": "LayoutView",
            "grid_template_rows": null,
            "right": null,
            "justify_content": null,
            "_view_module": "@jupyter-widgets/base",
            "overflow": null,
            "_model_module_version": "1.2.0",
            "_view_count": null,
            "flex_flow": null,
            "width": null,
            "min_width": null,
            "border": null,
            "align_items": null,
            "bottom": null,
            "_model_module": "@jupyter-widgets/base",
            "top": null,
            "grid_column": null,
            "overflow_y": null,
            "overflow_x": null,
            "grid_auto_flow": null,
            "grid_area": null,
            "grid_template_columns": null,
            "flex": null,
            "_model_name": "LayoutModel",
            "justify_items": null,
            "grid_row": null,
            "max_height": null,
            "align_content": null,
            "visibility": null,
            "align_self": null,
            "height": null,
            "min_height": null,
            "padding": null,
            "grid_auto_rows": null,
            "grid_gap": null,
            "max_width": null,
            "order": null,
            "_view_module_version": "1.2.0",
            "grid_template_areas": null,
            "object_position": null,
            "object_fit": null,
            "grid_auto_columns": null,
            "margin": null,
            "display": null,
            "left": null
          }
        },
        "4d33870d0c0c4a68a5905a533c799c66": {
          "model_module": "@jupyter-widgets/controls",
          "model_name": "HBoxModel",
          "state": {
            "_view_name": "HBoxView",
            "_dom_classes": [],
            "_model_name": "HBoxModel",
            "_view_module": "@jupyter-widgets/controls",
            "_model_module_version": "1.5.0",
            "_view_count": null,
            "_view_module_version": "1.5.0",
            "box_style": "",
            "layout": "IPY_MODEL_a6c6f13690c04733823de6fe87ce1b36",
            "_model_module": "@jupyter-widgets/controls",
            "children": [
              "IPY_MODEL_2d1993b4c04f4c6baf112ead5eb86151",
              "IPY_MODEL_f05e58702d6c4e6e82f075e357a423f8"
            ]
          }
        },
        "a6c6f13690c04733823de6fe87ce1b36": {
          "model_module": "@jupyter-widgets/base",
          "model_name": "LayoutModel",
          "state": {
            "_view_name": "LayoutView",
            "grid_template_rows": null,
            "right": null,
            "justify_content": null,
            "_view_module": "@jupyter-widgets/base",
            "overflow": null,
            "_model_module_version": "1.2.0",
            "_view_count": null,
            "flex_flow": null,
            "width": null,
            "min_width": null,
            "border": null,
            "align_items": null,
            "bottom": null,
            "_model_module": "@jupyter-widgets/base",
            "top": null,
            "grid_column": null,
            "overflow_y": null,
            "overflow_x": null,
            "grid_auto_flow": null,
            "grid_area": null,
            "grid_template_columns": null,
            "flex": null,
            "_model_name": "LayoutModel",
            "justify_items": null,
            "grid_row": null,
            "max_height": null,
            "align_content": null,
            "visibility": null,
            "align_self": null,
            "height": null,
            "min_height": null,
            "padding": null,
            "grid_auto_rows": null,
            "grid_gap": null,
            "max_width": null,
            "order": null,
            "_view_module_version": "1.2.0",
            "grid_template_areas": null,
            "object_position": null,
            "object_fit": null,
            "grid_auto_columns": null,
            "margin": null,
            "display": null,
            "left": null
          }
        },
        "2d1993b4c04f4c6baf112ead5eb86151": {
          "model_module": "@jupyter-widgets/controls",
          "model_name": "FloatProgressModel",
          "state": {
            "_view_name": "ProgressView",
            "style": "IPY_MODEL_0cfb7cb7e3274e63a1f6d3f7f16672fb",
            "_dom_classes": [],
            "description": "Downloading: 100%",
            "_model_name": "FloatProgressModel",
            "bar_style": "success",
            "max": 910749124,
            "_view_module": "@jupyter-widgets/controls",
            "_model_module_version": "1.5.0",
            "value": 910749124,
            "_view_count": null,
            "_view_module_version": "1.5.0",
            "orientation": "horizontal",
            "min": 0,
            "description_tooltip": null,
            "_model_module": "@jupyter-widgets/controls",
            "layout": "IPY_MODEL_28b51af2a8c04455a4c36c975d632a96"
          }
        },
        "f05e58702d6c4e6e82f075e357a423f8": {
          "model_module": "@jupyter-widgets/controls",
          "model_name": "HTMLModel",
          "state": {
            "_view_name": "HTMLView",
            "style": "IPY_MODEL_3a565a75c7be4a1bb06ed1e02b3eab87",
            "_dom_classes": [],
            "description": "",
            "_model_name": "HTMLModel",
            "placeholder": "​",
            "_view_module": "@jupyter-widgets/controls",
            "_model_module_version": "1.5.0",
            "value": " 911M/911M [00:17&lt;00:00, 53.4MB/s]",
            "_view_count": null,
            "_view_module_version": "1.5.0",
            "description_tooltip": null,
            "_model_module": "@jupyter-widgets/controls",
            "layout": "IPY_MODEL_2177cfd1d4c5476c8ff2e6c9b4d8a807"
          }
        },
        "0cfb7cb7e3274e63a1f6d3f7f16672fb": {
          "model_module": "@jupyter-widgets/controls",
          "model_name": "ProgressStyleModel",
          "state": {
            "_view_name": "StyleView",
            "_model_name": "ProgressStyleModel",
            "description_width": "initial",
            "_view_module": "@jupyter-widgets/base",
            "_model_module_version": "1.5.0",
            "_view_count": null,
            "_view_module_version": "1.2.0",
            "bar_color": null,
            "_model_module": "@jupyter-widgets/controls"
          }
        },
        "28b51af2a8c04455a4c36c975d632a96": {
          "model_module": "@jupyter-widgets/base",
          "model_name": "LayoutModel",
          "state": {
            "_view_name": "LayoutView",
            "grid_template_rows": null,
            "right": null,
            "justify_content": null,
            "_view_module": "@jupyter-widgets/base",
            "overflow": null,
            "_model_module_version": "1.2.0",
            "_view_count": null,
            "flex_flow": null,
            "width": null,
            "min_width": null,
            "border": null,
            "align_items": null,
            "bottom": null,
            "_model_module": "@jupyter-widgets/base",
            "top": null,
            "grid_column": null,
            "overflow_y": null,
            "overflow_x": null,
            "grid_auto_flow": null,
            "grid_area": null,
            "grid_template_columns": null,
            "flex": null,
            "_model_name": "LayoutModel",
            "justify_items": null,
            "grid_row": null,
            "max_height": null,
            "align_content": null,
            "visibility": null,
            "align_self": null,
            "height": null,
            "min_height": null,
            "padding": null,
            "grid_auto_rows": null,
            "grid_gap": null,
            "max_width": null,
            "order": null,
            "_view_module_version": "1.2.0",
            "grid_template_areas": null,
            "object_position": null,
            "object_fit": null,
            "grid_auto_columns": null,
            "margin": null,
            "display": null,
            "left": null
          }
        },
        "3a565a75c7be4a1bb06ed1e02b3eab87": {
          "model_module": "@jupyter-widgets/controls",
          "model_name": "DescriptionStyleModel",
          "state": {
            "_view_name": "StyleView",
            "_model_name": "DescriptionStyleModel",
            "description_width": "",
            "_view_module": "@jupyter-widgets/base",
            "_model_module_version": "1.5.0",
            "_view_count": null,
            "_view_module_version": "1.2.0",
            "_model_module": "@jupyter-widgets/controls"
          }
        },
        "2177cfd1d4c5476c8ff2e6c9b4d8a807": {
          "model_module": "@jupyter-widgets/base",
          "model_name": "LayoutModel",
          "state": {
            "_view_name": "LayoutView",
            "grid_template_rows": null,
            "right": null,
            "justify_content": null,
            "_view_module": "@jupyter-widgets/base",
            "overflow": null,
            "_model_module_version": "1.2.0",
            "_view_count": null,
            "flex_flow": null,
            "width": null,
            "min_width": null,
            "border": null,
            "align_items": null,
            "bottom": null,
            "_model_module": "@jupyter-widgets/base",
            "top": null,
            "grid_column": null,
            "overflow_y": null,
            "overflow_x": null,
            "grid_auto_flow": null,
            "grid_area": null,
            "grid_template_columns": null,
            "flex": null,
            "_model_name": "LayoutModel",
            "justify_items": null,
            "grid_row": null,
            "max_height": null,
            "align_content": null,
            "visibility": null,
            "align_self": null,
            "height": null,
            "min_height": null,
            "padding": null,
            "grid_auto_rows": null,
            "grid_gap": null,
            "max_width": null,
            "order": null,
            "_view_module_version": "1.2.0",
            "grid_template_areas": null,
            "object_position": null,
            "object_fit": null,
            "grid_auto_columns": null,
            "margin": null,
            "display": null,
            "left": null
          }
        }
      }
    }
  },
  "cells": [
    {
      "cell_type": "markdown",
      "metadata": {
        "id": "view-in-github",
        "colab_type": "text"
      },
      "source": [
        "<a href=\"https://colab.research.google.com/github/beladinaelfitri/machine_learning/blob/master/fixedjgnjgnbgs.ipynb\" target=\"_parent\"><img src=\"https://colab.research.google.com/assets/colab-badge.svg\" alt=\"Open In Colab\"/></a>"
      ]
    },
    {
      "cell_type": "markdown",
      "metadata": {
        "id": "xiYrZKaHwV81",
        "colab_type": "text"
      },
      "source": [
        "# Sentiment Analysis for Indonesian Text - Training Part\n",
        "\n",
        "This notebook is a source that used for Gemastik 2020 Data Mining.\n",
        "\n",
        "Created by:\n",
        "\n",
        "Team: NamaTimnyaApa\n",
        "\n",
        "Member\n",
        "- Angela Marpaung\n",
        "- Beladina Elfitri\n",
        "- IGB Vayupranaditya P\n",
        "\n",
        "University: Telkom Universiy\n",
        "\n",
        "This is a modification of https://github/google-research/bert/blob/master/predicting_movie_reviews_with_bert_on_tf_hub.ipynb using the Tensorflow 2.0 Keras implementation of DistilBERT from \n",
        "\n",
        "#BERT from [kpe/bert-for-tf2](https://github.com/kpe/bert-for-tf2) with the original [google-research/bert](https://github.com/google-research/bert) weights."
      ]
    },
    {
      "cell_type": "markdown",
      "metadata": {
        "id": "dCpvgG0vwXAZ",
        "colab_type": "text"
      },
      "source": [
        "# Predicting Twitter Sentiment with DistilBERT\n",
        "\n",
        "First install some prerequisites:"
      ]
    },
    {
      "cell_type": "code",
      "metadata": {
        "id": "qFI2_B8ffipb",
        "colab_type": "code",
        "colab": {
          "base_uri": "https://localhost:8080/",
          "height": 34
        },
        "outputId": "2444da89-9390-407c-a4ee-5bc4474bb8e6"
      },
      "source": [
        "!pip install tqdm "
      ],
      "execution_count": 1,
      "outputs": [
        {
          "output_type": "stream",
          "text": [
            "Requirement already satisfied: tqdm in /usr/local/lib/python3.6/dist-packages (4.41.1)\n"
          ],
          "name": "stdout"
        }
      ]
    },
    {
      "cell_type": "code",
      "metadata": {
        "id": "hsZvic2YxnTz",
        "colab_type": "code",
        "colab": {}
      },
      "source": [
        "import os\n",
        "import math\n",
        "import datetime\n",
        "\n",
        "from tqdm import tqdm\n",
        "\n",
        "import pandas as pd\n",
        "import numpy as np\n",
        "\n",
        "# Install TensorFlow\n",
        "try:\n",
        "  # %tensorflow_version only exists in Colab.\n",
        "  %tensorflow_version 2.x\n",
        "except Exception:\n",
        "  pass\n",
        "  \n",
        "import tensorflow as tf\n"
      ],
      "execution_count": 2,
      "outputs": []
    },
    {
      "cell_type": "code",
      "metadata": {
        "id": "Evlk1N78HIXM",
        "colab_type": "code",
        "colab": {
          "base_uri": "https://localhost:8080/",
          "height": 35
        },
        "outputId": "fb63b379-30f1-447a-a37e-309a794681cb"
      },
      "source": [
        "tf.__version__"
      ],
      "execution_count": 3,
      "outputs": [
        {
          "output_type": "execute_result",
          "data": {
            "application/vnd.google.colaboratory.intrinsic+json": {
              "type": "string"
            },
            "text/plain": [
              "'2.3.0'"
            ]
          },
          "metadata": {
            "tags": []
          },
          "execution_count": 3
        }
      ]
    },
    {
      "cell_type": "code",
      "metadata": {
        "id": "TAdrQqEccIva",
        "colab_type": "code",
        "colab": {}
      },
      "source": [
        "if tf.__version__.startswith(\"1.\"):\n",
        "  tf.enable_eager_execution()\n"
      ],
      "execution_count": 4,
      "outputs": []
    },
    {
      "cell_type": "markdown",
      "metadata": {
        "id": "cp5wfXDx5SPH",
        "colab_type": "text"
      },
      "source": [
        "In addition to the standard libraries we imported above, we'll need to install the [bert-for-tf2](https://github.com/kpe/bert-for-tf2) python package, and do the imports required for loading the pre-trained weights and tokenizing the input text. "
      ]
    },
    {
      "cell_type": "code",
      "metadata": {
        "id": "jviywGyWyKsA",
        "colab_type": "code",
        "colab": {
          "base_uri": "https://localhost:8080/",
          "height": 374
        },
        "outputId": "c1ae2b74-c6fd-4a03-c633-f1f92c6f6976"
      },
      "source": [
        "!pip install bert-for-tf2==0.11.6 "
      ],
      "execution_count": 5,
      "outputs": [
        {
          "output_type": "stream",
          "text": [
            "Collecting bert-for-tf2==0.11.6\n",
            "  Downloading https://files.pythonhosted.org/packages/cb/45/1952205571c30b5bda14ad20d61f492110fdbb671b4c43b6e92c6ada290d/bert-for-tf2-0.11.6.tar.gz\n",
            "Collecting py-params>=0.6.4\n",
            "  Downloading https://files.pythonhosted.org/packages/a4/bf/c1c70d5315a8677310ea10a41cfc41c5970d9b37c31f9c90d4ab98021fd1/py-params-0.9.7.tar.gz\n",
            "Collecting params-flow>=0.7.1\n",
            "  Downloading https://files.pythonhosted.org/packages/a9/95/ff49f5ebd501f142a6f0aaf42bcfd1c192dc54909d1d9eb84ab031d46056/params-flow-0.8.2.tar.gz\n",
            "Requirement already satisfied: numpy in /usr/local/lib/python3.6/dist-packages (from params-flow>=0.7.1->bert-for-tf2==0.11.6) (1.18.5)\n",
            "Requirement already satisfied: tqdm in /usr/local/lib/python3.6/dist-packages (from params-flow>=0.7.1->bert-for-tf2==0.11.6) (4.41.1)\n",
            "Building wheels for collected packages: bert-for-tf2, py-params, params-flow\n",
            "  Building wheel for bert-for-tf2 (setup.py) ... \u001b[?25l\u001b[?25hdone\n",
            "  Created wheel for bert-for-tf2: filename=bert_for_tf2-0.11.6-cp36-none-any.whl size=23182 sha256=a6a775bbb2c09ae90a5d5c759c2d24db194e49005047ea1dec24686a5205e6ba\n",
            "  Stored in directory: /root/.cache/pip/wheels/fe/3e/0e/35f86016885433be80838675b9572aad8566552b71c7d5760a\n",
            "  Building wheel for py-params (setup.py) ... \u001b[?25l\u001b[?25hdone\n",
            "  Created wheel for py-params: filename=py_params-0.9.7-cp36-none-any.whl size=7304 sha256=940b4664daafdbdcaadb1f64a75cdad1a4cc166889ad99ac1a3bf457bd780902\n",
            "  Stored in directory: /root/.cache/pip/wheels/67/f5/19/b461849a50aefdf4bab47c4756596e82ee2118b8278e5a1980\n",
            "  Building wheel for params-flow (setup.py) ... \u001b[?25l\u001b[?25hdone\n",
            "  Created wheel for params-flow: filename=params_flow-0.8.2-cp36-none-any.whl size=19475 sha256=850082b40e12de57b75b39a97fb6b8d8aae7b18b7f6793ea0820c60d50e1115b\n",
            "  Stored in directory: /root/.cache/pip/wheels/08/c8/7f/81c86b9ff2b86e2c477e3914175be03e679e596067dc630c06\n",
            "Successfully built bert-for-tf2 py-params params-flow\n",
            "Installing collected packages: py-params, params-flow, bert-for-tf2\n",
            "Successfully installed bert-for-tf2-0.11.6 params-flow-0.8.2 py-params-0.9.7\n"
          ],
          "name": "stdout"
        }
      ]
    },
    {
      "cell_type": "code",
      "metadata": {
        "id": "3fALhMtxWxRW",
        "colab_type": "code",
        "colab": {
          "base_uri": "https://localhost:8080/",
          "height": 615
        },
        "outputId": "eccfa754-a875-452f-ef22-73b6dc8cdf9b"
      },
      "source": [
        "!pip install transformers"
      ],
      "execution_count": 6,
      "outputs": [
        {
          "output_type": "stream",
          "text": [
            "Collecting transformers\n",
            "\u001b[?25l  Downloading https://files.pythonhosted.org/packages/ae/05/c8c55b600308dc04e95100dc8ad8a244dd800fe75dfafcf1d6348c6f6209/transformers-3.1.0-py3-none-any.whl (884kB)\n",
            "\r\u001b[K     |▍                               | 10kB 21.7MB/s eta 0:00:01\r\u001b[K     |▊                               | 20kB 1.8MB/s eta 0:00:01\r\u001b[K     |█▏                              | 30kB 2.4MB/s eta 0:00:01\r\u001b[K     |█▌                              | 40kB 2.7MB/s eta 0:00:01\r\u001b[K     |█▉                              | 51kB 2.1MB/s eta 0:00:01\r\u001b[K     |██▎                             | 61kB 2.4MB/s eta 0:00:01\r\u001b[K     |██▋                             | 71kB 2.6MB/s eta 0:00:01\r\u001b[K     |███                             | 81kB 2.8MB/s eta 0:00:01\r\u001b[K     |███▍                            | 92kB 3.1MB/s eta 0:00:01\r\u001b[K     |███▊                            | 102kB 2.9MB/s eta 0:00:01\r\u001b[K     |████                            | 112kB 2.9MB/s eta 0:00:01\r\u001b[K     |████▌                           | 122kB 2.9MB/s eta 0:00:01\r\u001b[K     |████▉                           | 133kB 2.9MB/s eta 0:00:01\r\u001b[K     |█████▏                          | 143kB 2.9MB/s eta 0:00:01\r\u001b[K     |█████▋                          | 153kB 2.9MB/s eta 0:00:01\r\u001b[K     |██████                          | 163kB 2.9MB/s eta 0:00:01\r\u001b[K     |██████▎                         | 174kB 2.9MB/s eta 0:00:01\r\u001b[K     |██████▊                         | 184kB 2.9MB/s eta 0:00:01\r\u001b[K     |███████                         | 194kB 2.9MB/s eta 0:00:01\r\u001b[K     |███████▍                        | 204kB 2.9MB/s eta 0:00:01\r\u001b[K     |███████▉                        | 215kB 2.9MB/s eta 0:00:01\r\u001b[K     |████████▏                       | 225kB 2.9MB/s eta 0:00:01\r\u001b[K     |████████▌                       | 235kB 2.9MB/s eta 0:00:01\r\u001b[K     |█████████                       | 245kB 2.9MB/s eta 0:00:01\r\u001b[K     |█████████▎                      | 256kB 2.9MB/s eta 0:00:01\r\u001b[K     |█████████▋                      | 266kB 2.9MB/s eta 0:00:01\r\u001b[K     |██████████                      | 276kB 2.9MB/s eta 0:00:01\r\u001b[K     |██████████▍                     | 286kB 2.9MB/s eta 0:00:01\r\u001b[K     |██████████▊                     | 296kB 2.9MB/s eta 0:00:01\r\u001b[K     |███████████▏                    | 307kB 2.9MB/s eta 0:00:01\r\u001b[K     |███████████▌                    | 317kB 2.9MB/s eta 0:00:01\r\u001b[K     |███████████▉                    | 327kB 2.9MB/s eta 0:00:01\r\u001b[K     |████████████▎                   | 337kB 2.9MB/s eta 0:00:01\r\u001b[K     |████████████▋                   | 348kB 2.9MB/s eta 0:00:01\r\u001b[K     |█████████████                   | 358kB 2.9MB/s eta 0:00:01\r\u001b[K     |█████████████▍                  | 368kB 2.9MB/s eta 0:00:01\r\u001b[K     |█████████████▊                  | 378kB 2.9MB/s eta 0:00:01\r\u001b[K     |██████████████                  | 389kB 2.9MB/s eta 0:00:01\r\u001b[K     |██████████████▌                 | 399kB 2.9MB/s eta 0:00:01\r\u001b[K     |██████████████▉                 | 409kB 2.9MB/s eta 0:00:01\r\u001b[K     |███████████████▏                | 419kB 2.9MB/s eta 0:00:01\r\u001b[K     |███████████████▋                | 430kB 2.9MB/s eta 0:00:01\r\u001b[K     |████████████████                | 440kB 2.9MB/s eta 0:00:01\r\u001b[K     |████████████████▎               | 450kB 2.9MB/s eta 0:00:01\r\u001b[K     |████████████████▊               | 460kB 2.9MB/s eta 0:00:01\r\u001b[K     |█████████████████               | 471kB 2.9MB/s eta 0:00:01\r\u001b[K     |█████████████████▍              | 481kB 2.9MB/s eta 0:00:01\r\u001b[K     |█████████████████▉              | 491kB 2.9MB/s eta 0:00:01\r\u001b[K     |██████████████████▏             | 501kB 2.9MB/s eta 0:00:01\r\u001b[K     |██████████████████▌             | 512kB 2.9MB/s eta 0:00:01\r\u001b[K     |███████████████████             | 522kB 2.9MB/s eta 0:00:01\r\u001b[K     |███████████████████▎            | 532kB 2.9MB/s eta 0:00:01\r\u001b[K     |███████████████████▋            | 542kB 2.9MB/s eta 0:00:01\r\u001b[K     |████████████████████            | 552kB 2.9MB/s eta 0:00:01\r\u001b[K     |████████████████████▍           | 563kB 2.9MB/s eta 0:00:01\r\u001b[K     |████████████████████▊           | 573kB 2.9MB/s eta 0:00:01\r\u001b[K     |█████████████████████▏          | 583kB 2.9MB/s eta 0:00:01\r\u001b[K     |█████████████████████▌          | 593kB 2.9MB/s eta 0:00:01\r\u001b[K     |█████████████████████▉          | 604kB 2.9MB/s eta 0:00:01\r\u001b[K     |██████████████████████▎         | 614kB 2.9MB/s eta 0:00:01\r\u001b[K     |██████████████████████▋         | 624kB 2.9MB/s eta 0:00:01\r\u001b[K     |███████████████████████         | 634kB 2.9MB/s eta 0:00:01\r\u001b[K     |███████████████████████▍        | 645kB 2.9MB/s eta 0:00:01\r\u001b[K     |███████████████████████▊        | 655kB 2.9MB/s eta 0:00:01\r\u001b[K     |████████████████████████        | 665kB 2.9MB/s eta 0:00:01\r\u001b[K     |████████████████████████▌       | 675kB 2.9MB/s eta 0:00:01\r\u001b[K     |████████████████████████▉       | 686kB 2.9MB/s eta 0:00:01\r\u001b[K     |█████████████████████████▏      | 696kB 2.9MB/s eta 0:00:01\r\u001b[K     |█████████████████████████▋      | 706kB 2.9MB/s eta 0:00:01\r\u001b[K     |██████████████████████████      | 716kB 2.9MB/s eta 0:00:01\r\u001b[K     |██████████████████████████▎     | 727kB 2.9MB/s eta 0:00:01\r\u001b[K     |██████████████████████████▊     | 737kB 2.9MB/s eta 0:00:01\r\u001b[K     |███████████████████████████     | 747kB 2.9MB/s eta 0:00:01\r\u001b[K     |███████████████████████████▍    | 757kB 2.9MB/s eta 0:00:01\r\u001b[K     |███████████████████████████▉    | 768kB 2.9MB/s eta 0:00:01\r\u001b[K     |████████████████████████████▏   | 778kB 2.9MB/s eta 0:00:01\r\u001b[K     |████████████████████████████▌   | 788kB 2.9MB/s eta 0:00:01\r\u001b[K     |█████████████████████████████   | 798kB 2.9MB/s eta 0:00:01\r\u001b[K     |█████████████████████████████▎  | 808kB 2.9MB/s eta 0:00:01\r\u001b[K     |█████████████████████████████▋  | 819kB 2.9MB/s eta 0:00:01\r\u001b[K     |██████████████████████████████  | 829kB 2.9MB/s eta 0:00:01\r\u001b[K     |██████████████████████████████▍ | 839kB 2.9MB/s eta 0:00:01\r\u001b[K     |██████████████████████████████▊ | 849kB 2.9MB/s eta 0:00:01\r\u001b[K     |███████████████████████████████▏| 860kB 2.9MB/s eta 0:00:01\r\u001b[K     |███████████████████████████████▌| 870kB 2.9MB/s eta 0:00:01\r\u001b[K     |███████████████████████████████▉| 880kB 2.9MB/s eta 0:00:01\r\u001b[K     |████████████████████████████████| 890kB 2.9MB/s \n",
            "\u001b[?25hRequirement already satisfied: dataclasses; python_version < \"3.7\" in /usr/local/lib/python3.6/dist-packages (from transformers) (0.7)\n",
            "Requirement already satisfied: numpy in /usr/local/lib/python3.6/dist-packages (from transformers) (1.18.5)\n",
            "Requirement already satisfied: packaging in /usr/local/lib/python3.6/dist-packages (from transformers) (20.4)\n",
            "Collecting tokenizers==0.8.1.rc2\n",
            "\u001b[?25l  Downloading https://files.pythonhosted.org/packages/80/83/8b9fccb9e48eeb575ee19179e2bdde0ee9a1904f97de5f02d19016b8804f/tokenizers-0.8.1rc2-cp36-cp36m-manylinux1_x86_64.whl (3.0MB)\n",
            "\u001b[K     |████████████████████████████████| 3.0MB 16.1MB/s \n",
            "\u001b[?25hRequirement already satisfied: requests in /usr/local/lib/python3.6/dist-packages (from transformers) (2.23.0)\n",
            "Requirement already satisfied: regex!=2019.12.17 in /usr/local/lib/python3.6/dist-packages (from transformers) (2019.12.20)\n",
            "Collecting sacremoses\n",
            "\u001b[?25l  Downloading https://files.pythonhosted.org/packages/7d/34/09d19aff26edcc8eb2a01bed8e98f13a1537005d31e95233fd48216eed10/sacremoses-0.0.43.tar.gz (883kB)\n",
            "\u001b[K     |████████████████████████████████| 890kB 24.9MB/s \n",
            "\u001b[?25hCollecting sentencepiece!=0.1.92\n",
            "\u001b[?25l  Downloading https://files.pythonhosted.org/packages/d4/a4/d0a884c4300004a78cca907a6ff9a5e9fe4f090f5d95ab341c53d28cbc58/sentencepiece-0.1.91-cp36-cp36m-manylinux1_x86_64.whl (1.1MB)\n",
            "\u001b[K     |████████████████████████████████| 1.1MB 40.4MB/s \n",
            "\u001b[?25hRequirement already satisfied: tqdm>=4.27 in /usr/local/lib/python3.6/dist-packages (from transformers) (4.41.1)\n",
            "Requirement already satisfied: filelock in /usr/local/lib/python3.6/dist-packages (from transformers) (3.0.12)\n",
            "Requirement already satisfied: six in /usr/local/lib/python3.6/dist-packages (from packaging->transformers) (1.15.0)\n",
            "Requirement already satisfied: pyparsing>=2.0.2 in /usr/local/lib/python3.6/dist-packages (from packaging->transformers) (2.4.7)\n",
            "Requirement already satisfied: urllib3!=1.25.0,!=1.25.1,<1.26,>=1.21.1 in /usr/local/lib/python3.6/dist-packages (from requests->transformers) (1.24.3)\n",
            "Requirement already satisfied: certifi>=2017.4.17 in /usr/local/lib/python3.6/dist-packages (from requests->transformers) (2020.6.20)\n",
            "Requirement already satisfied: chardet<4,>=3.0.2 in /usr/local/lib/python3.6/dist-packages (from requests->transformers) (3.0.4)\n",
            "Requirement already satisfied: idna<3,>=2.5 in /usr/local/lib/python3.6/dist-packages (from requests->transformers) (2.10)\n",
            "Requirement already satisfied: click in /usr/local/lib/python3.6/dist-packages (from sacremoses->transformers) (7.1.2)\n",
            "Requirement already satisfied: joblib in /usr/local/lib/python3.6/dist-packages (from sacremoses->transformers) (0.16.0)\n",
            "Building wheels for collected packages: sacremoses\n",
            "  Building wheel for sacremoses (setup.py) ... \u001b[?25l\u001b[?25hdone\n",
            "  Created wheel for sacremoses: filename=sacremoses-0.0.43-cp36-none-any.whl size=893257 sha256=7cb025d4c2195f1dbeb5b30d116ebdb1908ee7c32fd65acfc33ceafeb4f5acaf\n",
            "  Stored in directory: /root/.cache/pip/wheels/29/3c/fd/7ce5c3f0666dab31a50123635e6fb5e19ceb42ce38d4e58f45\n",
            "Successfully built sacremoses\n",
            "Installing collected packages: tokenizers, sacremoses, sentencepiece, transformers\n",
            "Successfully installed sacremoses-0.0.43 sentencepiece-0.1.91 tokenizers-0.8.1rc2 transformers-3.1.0\n"
          ],
          "name": "stdout"
        }
      ]
    },
    {
      "cell_type": "code",
      "metadata": {
        "id": "ZtI7cKWDbUVc",
        "colab_type": "code",
        "colab": {}
      },
      "source": [
        "from transformers import DistilBertModel, DistilBertConfig, TFDistilBertForSequenceClassification"
      ],
      "execution_count": 7,
      "outputs": []
    },
    {
      "cell_type": "markdown",
      "metadata": {
        "id": "pmFYvkylMwXn",
        "colab_type": "text"
      },
      "source": [
        "#Data"
      ]
    },
    {
      "cell_type": "markdown",
      "metadata": {
        "id": "MC_w8SRqN0fr",
        "colab_type": "text"
      },
      "source": [
        "The dataset used is based from http://ridi.staff.ugm.ac.id/2019/03/06/indonesia-sentiment-analysis-dataset/\n",
        "\n",
        "The dataset is already cleanied and formatted to only contains positive (1) and negative (0).\n",
        "\n",
        "Dataset can be downloaded from https://drive.google.com/open?id=1TiaMpQZe99dPpC7_YuTy87wzW8bVWpYa\n",
        "\n",
        "The data is saved on my own google drive, if you want to run this notebook please change dataset location"
      ]
    },
    {
      "cell_type": "code",
      "metadata": {
        "id": "0oRQeF1Qhgl5",
        "colab_type": "code",
        "colab": {
          "base_uri": "https://localhost:8080/",
          "height": 34
        },
        "outputId": "ec21e59e-8fff-4f57-f563-7318e415e4de"
      },
      "source": [
        "from google.colab import drive\n",
        "drive.mount('/content/drive')"
      ],
      "execution_count": 8,
      "outputs": [
        {
          "output_type": "stream",
          "text": [
            "Mounted at /content/drive\n"
          ],
          "name": "stdout"
        }
      ]
    },
    {
      "cell_type": "code",
      "metadata": {
        "id": "fom_ff20gyy6",
        "colab_type": "code",
        "colab": {}
      },
      "source": [
        "from tensorflow import keras\n",
        "import os\n",
        "import re\n",
        "import pandas as pd\n",
        "from sklearn.model_selection import train_test_split\n",
        "\n",
        "# Download and process the dataset files.\n",
        "def download_and_load_datasets(force_download=False):\n",
        "  df = pd.read_csv(\"/content/drive/My Drive/Data Mining-Jangan Jangan Bagus/indo_dataset.csv\")\n",
        "  df.Tweet = df.Tweet.str.lower()\n",
        "  \n",
        "  df_train, df_test = train_test_split(df,  test_size=0.2)\n",
        "  \n",
        "  return df_train, df_test\n"
      ],
      "execution_count": 9,
      "outputs": []
    },
    {
      "cell_type": "markdown",
      "metadata": {
        "id": "0LB-DS7jR_jn",
        "colab_type": "text"
      },
      "source": [
        "Specify BERT model and trained model location "
      ]
    },
    {
      "cell_type": "code",
      "metadata": {
        "id": "xhfsGAdIoqI3",
        "colab_type": "code",
        "colab": {}
      },
      "source": [
        "model_save_location = \"drive/My Drive/Data Mining-Jangan Jangan Bagus/bert_model/sentiment_result_fixed_1.h5\""
      ],
      "execution_count": 10,
      "outputs": []
    },
    {
      "cell_type": "markdown",
      "metadata": {
        "id": "CaE2G_2DdzVg",
        "colab_type": "text"
      },
      "source": [
        "Let's use the `TwitterSentimentData` class below, to prepare/encode \n",
        "the data for feeding into our BERT model, by:\n",
        "  - tokenizing the text\n",
        "  - trim or pad it to a `max_seq_len` length\n",
        "  - append the special tokens `[CLS]` and `[SEP]`\n",
        "  - convert the string tokens to numerical `ID`s using the original model's token encoding from `vocab.txt`"
      ]
    },
    {
      "cell_type": "code",
      "metadata": {
        "id": "2abfwdn-g135",
        "colab_type": "code",
        "colab": {}
      },
      "source": [
        "import bert\n",
        "from bert import BertModelLayer\n",
        "from bert.loader import StockBertConfig, map_stock_config_to_params, load_stock_weights\n",
        "from bert.tokenization import FullTokenizer\n",
        "\n",
        "\n",
        "class TwitterSentimentData:\n",
        "    DATA_COLUMN = \"Tweet\"\n",
        "    LABEL_COLUMN = \"sentimen\"\n",
        "\n",
        "    def __init__(self, tokenizer: FullTokenizer, sample_size=None, max_seq_len=1024):\n",
        "        self.tokenizer = tokenizer\n",
        "        self.sample_size = sample_size\n",
        "        self.max_seq_len = max_seq_len\n",
        "        train, test = download_and_load_datasets()\n",
        "        \n",
        "        train, test = map(lambda df: df.reindex(df[TwitterSentimentData.DATA_COLUMN].str.len().sort_values().index), \n",
        "                          [train, test])\n",
        "                \n",
        "        if sample_size is not None:\n",
        "            assert sample_size % 128 == 0\n",
        "            train, test = train.head(sample_size), test.head(sample_size)\n",
        "        \n",
        "        ((self.train_x, self.train_y),\n",
        "         (self.test_x, self.test_y)) = map(self._prepare, [train, test])\n",
        "\n",
        "        print(\"max seq_len\", self.max_seq_len)\n",
        "        self.max_seq_len = min(self.max_seq_len, max_seq_len)\n",
        "        ((self.train_x, self.train_x_token_types),\n",
        "         (self.test_x, self.test_x_token_types)) = map(self._pad, \n",
        "                                                       [self.train_x, self.test_x])\n",
        "\n",
        "    def _prepare(self, df):\n",
        "        x, y = [], []\n",
        "        with tqdm(total=df.shape[0], unit_scale=True) as pbar:\n",
        "            for ndx, row in df.iterrows():\n",
        "                text, label = row[TwitterSentimentData.DATA_COLUMN], row[TwitterSentimentData.LABEL_COLUMN]\n",
        "                tokens = self.tokenizer.tokenize(text)\n",
        "                tokens = [\"[CLS]\"] + tokens + [\"[SEP]\"]\n",
        "                token_ids = self.tokenizer.convert_tokens_to_ids(tokens)\n",
        "                self.max_seq_len = max(self.max_seq_len, len(token_ids))\n",
        "                x.append(token_ids)\n",
        "                y.append(int(label))\n",
        "                pbar.update()\n",
        "        return np.array(x), np.array(y)\n",
        "\n",
        "    def _pad(self, ids):\n",
        "        x, t = [], []\n",
        "        token_type_ids = [0] * self.max_seq_len\n",
        "        for input_ids in ids:\n",
        "            input_ids = input_ids[:min(len(input_ids), self.max_seq_len - 2)]\n",
        "            input_ids = input_ids + [0] * (self.max_seq_len - len(input_ids))\n",
        "            x.append(np.array(input_ids))\n",
        "            t.append(token_type_ids)\n",
        "        return np.array(x), np.array(t)\n"
      ],
      "execution_count": 11,
      "outputs": []
    },
    {
      "cell_type": "markdown",
      "metadata": {
        "id": "G4xPTleh2X2b",
        "colab_type": "text"
      },
      "source": [
        "# Preparing the Data\n",
        "\n",
        "Now let's fetch and prepare the data by taking the first `max_seq_len` tokenens after tokenizing with the BERT tokenizer, und use `sample_size` examples for both training and testing."
      ]
    },
    {
      "cell_type": "markdown",
      "metadata": {
        "id": "XA8WHJgzhIZf",
        "colab_type": "text"
      },
      "source": [
        "To keep training fast, we'll take a sample of about 2500 train and test examples, respectively, and use the first 128 tokens only (transformers memory and computation requirements scale quadraticly with the sequence length - so with a TPU you might use `max_seq_len=512`, but on a GPU this would be too slow, and you will have to use a very small `batch_size`s to fit the model into the GPU memory)."
      ]
    },
    {
      "cell_type": "code",
      "metadata": {
        "id": "kF_3KhGQ0GTc",
        "colab_type": "code",
        "colab": {
          "base_uri": "https://localhost:8080/",
          "height": 151,
          "referenced_widgets": [
            "de2fe5f575b54ea0bf64ce5e221d5832",
            "48e50bb1e542445ab2b32b8ada62fc63",
            "e9df009b2c904303ab8d887466e28c1f",
            "0d196635ea874fdfbdb9bd5ff61b1bbc",
            "beb42c6dfed544089a0f9247a3660a56",
            "ad95125e7d334b10aec110120d9872da",
            "926387eeaffb48d0a67970b4986fe3c3",
            "8b881c816eee470c9a788ba303bfd560"
          ]
        },
        "outputId": "9d5f146b-e918-475d-8a79-8cd6cc09318e"
      },
      "source": [
        "%%time\n",
        "from transformers import DistilBertForSequenceClassification,DistilBertTokenizer\n",
        "tokenizer = DistilBertTokenizer.from_pretrained('distilbert-base-multilingual-cased')\n",
        "data = TwitterSentimentData(tokenizer, \n",
        "                       sample_size=None, \n",
        "                       max_seq_len=128)"
      ],
      "execution_count": 12,
      "outputs": [
        {
          "output_type": "display_data",
          "data": {
            "application/vnd.jupyter.widget-view+json": {
              "model_id": "de2fe5f575b54ea0bf64ce5e221d5832",
              "version_minor": 0,
              "version_major": 2
            },
            "text/plain": [
              "HBox(children=(FloatProgress(value=0.0, description='Downloading', max=995526.0, style=ProgressStyle(descripti…"
            ]
          },
          "metadata": {
            "tags": []
          }
        },
        {
          "output_type": "stream",
          "text": [
            "\n"
          ],
          "name": "stdout"
        },
        {
          "output_type": "stream",
          "text": [
            "100%|██████████| 4.38k/4.38k [00:02<00:00, 2.02kit/s]\n",
            "100%|██████████| 1.10k/1.10k [00:00<00:00, 2.01kit/s]\n"
          ],
          "name": "stderr"
        },
        {
          "output_type": "stream",
          "text": [
            "max seq_len 128\n",
            "CPU times: user 3.1 s, sys: 58.4 ms, total: 3.16 s\n",
            "Wall time: 4.37 s\n"
          ],
          "name": "stdout"
        }
      ]
    },
    {
      "cell_type": "code",
      "metadata": {
        "id": "prRQM8pDi8xI",
        "colab_type": "code",
        "colab": {
          "base_uri": "https://localhost:8080/",
          "height": 102
        },
        "outputId": "67d5300e-6902-4684-c4b9-d26c10ab7578"
      },
      "source": [
        "print(\"            train_x\", data.train_x.shape)\n",
        "print(\"train_x_token_types\", data.train_x_token_types.shape)\n",
        "print(\"            train_y\", data.train_y.shape)\n",
        "\n",
        "print(\"             test_x\", data.test_x.shape)\n",
        "\n",
        "print(\"        max_seq_len\", data.max_seq_len)"
      ],
      "execution_count": 13,
      "outputs": [
        {
          "output_type": "stream",
          "text": [
            "            train_x (4383, 128)\n",
            "train_x_token_types (4383, 128)\n",
            "            train_y (4383,)\n",
            "             test_x (1096, 128)\n",
            "        max_seq_len 128\n"
          ],
          "name": "stdout"
        }
      ]
    },
    {
      "cell_type": "markdown",
      "metadata": {
        "id": "sfRnHSz3iSXz",
        "colab_type": "text"
      },
      "source": [
        "## Learning Rate Scheduler\n"
      ]
    },
    {
      "cell_type": "code",
      "metadata": {
        "id": "IuMOGwFui4it",
        "colab_type": "code",
        "colab": {}
      },
      "source": [
        "def create_learning_rate_scheduler(max_learn_rate=5e-5,\n",
        "                                   end_learn_rate=1e-7,\n",
        "                                   warmup_epoch_count=10,\n",
        "                                   total_epoch_count=90):\n",
        "\n",
        "    def lr_scheduler(epoch):\n",
        "        if epoch < warmup_epoch_count:\n",
        "            res = (max_learn_rate/warmup_epoch_count) * (epoch + 1)\n",
        "        else:\n",
        "            res = max_learn_rate*math.exp(math.log(end_learn_rate/max_learn_rate)*(epoch-warmup_epoch_count+1)/(total_epoch_count-warmup_epoch_count+1))\n",
        "        return float(res)\n",
        "    learning_rate_scheduler = tf.keras.callbacks.LearningRateScheduler(lr_scheduler, verbose=1)\n",
        "\n",
        "    return learning_rate_scheduler\n"
      ],
      "execution_count": 14,
      "outputs": []
    },
    {
      "cell_type": "markdown",
      "metadata": {
        "id": "ccp5trMwRtmr",
        "colab_type": "text"
      },
      "source": [
        "#Creating a model\n"
      ]
    },
    {
      "cell_type": "code",
      "metadata": {
        "id": "QzF_4J3xXFdC",
        "colab_type": "code",
        "colab": {}
      },
      "source": [
        "def create_model(max_seq_len):\n",
        "  input_layer = tf.keras.layers.Input(shape = (max_seq_len,), dtype='int32')\n",
        "  bert = TFDistilBertModel.from_pretrained(\"distilbert-base-multilingual-cased\")(input_layer)\n",
        "\n",
        "  bert = bert[0][:,0,:]    \n",
        "\n",
        "  bert = tf.keras.layers.Dense(units=768, activation='relu')(bert)\n",
        "  bert = tf.keras.layers.Dropout(0.5)(bert)\n",
        "\n",
        "  classifier = tf.keras.layers.Dense(units=2, activation='softmax')(bert)\n",
        "\n",
        "  model = tf.keras.models.Model(inputs=input_layer, outputs=classifier)\n",
        "  model.compile(tf.keras.optimizers.Adam(lr=6e-6), loss=keras.losses.SparseCategoricalCrossentropy(from_logits=True), metrics=[keras.metrics.SparseCategoricalAccuracy(name=\"acc\")])\n",
        "  model.summary()\n",
        "  return model"
      ],
      "execution_count": 15,
      "outputs": []
    },
    {
      "cell_type": "code",
      "metadata": {
        "id": "bZnmtDc7HlEm",
        "colab_type": "code",
        "colab": {
          "base_uri": "https://localhost:8080/",
          "height": 560,
          "referenced_widgets": [
            "d2b5a1ff40b64a30a49622df236bb361",
            "0fef9e5739014c8098ed5d0badb4dafd",
            "6bc1b2da6e7b4113bb87d27f9c62a288",
            "afd73b29908a4bc48a9e23c2f3176ebe",
            "8dc58a2b438e4a979867a9f34874c5cd",
            "ad3683afcd144f43a52fedfa6d05efbb",
            "e889f36581704d90bed05e518cbaeca5",
            "e6a3616118a2438aa205282d7fb56db3",
            "4d33870d0c0c4a68a5905a533c799c66",
            "a6c6f13690c04733823de6fe87ce1b36",
            "2d1993b4c04f4c6baf112ead5eb86151",
            "f05e58702d6c4e6e82f075e357a423f8",
            "0cfb7cb7e3274e63a1f6d3f7f16672fb",
            "28b51af2a8c04455a4c36c975d632a96",
            "3a565a75c7be4a1bb06ed1e02b3eab87",
            "2177cfd1d4c5476c8ff2e6c9b4d8a807"
          ]
        },
        "outputId": "15c0860d-7ff1-4ed1-800e-de20713e4fa2"
      },
      "source": [
        "from transformers import TFDistilBertModel\n",
        "model = create_model(data.max_seq_len)"
      ],
      "execution_count": 16,
      "outputs": [
        {
          "output_type": "display_data",
          "data": {
            "application/vnd.jupyter.widget-view+json": {
              "model_id": "d2b5a1ff40b64a30a49622df236bb361",
              "version_minor": 0,
              "version_major": 2
            },
            "text/plain": [
              "HBox(children=(FloatProgress(value=0.0, description='Downloading', max=466.0, style=ProgressStyle(description_…"
            ]
          },
          "metadata": {
            "tags": []
          }
        },
        {
          "output_type": "stream",
          "text": [
            "\n"
          ],
          "name": "stdout"
        },
        {
          "output_type": "display_data",
          "data": {
            "application/vnd.jupyter.widget-view+json": {
              "model_id": "4d33870d0c0c4a68a5905a533c799c66",
              "version_minor": 0,
              "version_major": 2
            },
            "text/plain": [
              "HBox(children=(FloatProgress(value=0.0, description='Downloading', max=910749124.0, style=ProgressStyle(descri…"
            ]
          },
          "metadata": {
            "tags": []
          }
        },
        {
          "output_type": "stream",
          "text": [
            "\n"
          ],
          "name": "stdout"
        },
        {
          "output_type": "stream",
          "text": [
            "Some weights of the model checkpoint at distilbert-base-multilingual-cased were not used when initializing TFDistilBertModel: ['vocab_layer_norm', 'activation_13', 'vocab_transform', 'vocab_projector']\n",
            "- This IS expected if you are initializing TFDistilBertModel from the checkpoint of a model trained on another task or with another architecture (e.g. initializing a BertForSequenceClassification model from a BertForPretraining model).\n",
            "- This IS NOT expected if you are initializing TFDistilBertModel from the checkpoint of a model that you expect to be exactly identical (initializing a BertForSequenceClassification model from a BertForSequenceClassification model).\n",
            "All the weights of TFDistilBertModel were initialized from the model checkpoint at distilbert-base-multilingual-cased.\n",
            "If your task is similar to the task the model of the checkpoint was trained on, you can already use TFDistilBertModel for predictions without further training.\n"
          ],
          "name": "stderr"
        },
        {
          "output_type": "stream",
          "text": [
            "Model: \"functional_1\"\n",
            "_________________________________________________________________\n",
            "Layer (type)                 Output Shape              Param #   \n",
            "=================================================================\n",
            "input_1 (InputLayer)         [(None, 128)]             0         \n",
            "_________________________________________________________________\n",
            "tf_distil_bert_model (TFDist ((None, 128, 768),)       134734080 \n",
            "_________________________________________________________________\n",
            "tf_op_layer_strided_slice (T [(None, 768)]             0         \n",
            "_________________________________________________________________\n",
            "dense (Dense)                (None, 768)               590592    \n",
            "_________________________________________________________________\n",
            "dropout_19 (Dropout)         (None, 768)               0         \n",
            "_________________________________________________________________\n",
            "dense_1 (Dense)              (None, 2)                 1538      \n",
            "=================================================================\n",
            "Total params: 135,326,210\n",
            "Trainable params: 135,326,210\n",
            "Non-trainable params: 0\n",
            "_________________________________________________________________\n"
          ],
          "name": "stdout"
        }
      ]
    },
    {
      "cell_type": "code",
      "metadata": {
        "id": "ZuLOkwonF-9S",
        "colab_type": "code",
        "colab": {
          "base_uri": "https://localhost:8080/",
          "height": 1000
        },
        "outputId": "20e91cd9-f97d-4c23-bc55-292da7f53508"
      },
      "source": [
        "%%time\n",
        "\n",
        "log_dir = \"log/sentiment/\" + datetime.datetime.now().strftime(\"%Y%m%d-%H%M%s\")\n",
        "tensorboard_callback = keras.callbacks.TensorBoard(log_dir=log_dir)\n",
        "\n",
        "total_epoch_count = 50\n",
        "# model.fit(x=(data.train_x, data.train_x_token_types), y=data.train_y,\n",
        "model.fit(x=data.train_x, y=data.train_y,\n",
        "          validation_split=0.1,\n",
        "          batch_size=45,\n",
        "          shuffle=True,\n",
        "          epochs=total_epoch_count,\n",
        "          callbacks=[create_learning_rate_scheduler(max_learn_rate=1e-5,\n",
        "                                                    end_learn_rate=1e-7,\n",
        "                                                    warmup_epoch_count=20,\n",
        "                                                    total_epoch_count=total_epoch_count),\n",
        "                     keras.callbacks.EarlyStopping(patience=20, restore_best_weights=True),\n",
        "                     tensorboard_callback])"
      ],
      "execution_count": null,
      "outputs": [
        {
          "output_type": "stream",
          "text": [
            "WARNING:tensorflow:Model failed to serialize as JSON. Ignoring... \n",
            "\n",
            "Epoch 00001: LearningRateScheduler reducing learning rate to 5.000000000000001e-07.\n",
            "Epoch 1/50\n",
            " 1/88 [..............................] - ETA: 0s - loss: 0.7184 - acc: 0.4889WARNING:tensorflow:From /usr/local/lib/python3.6/dist-packages/tensorflow/python/ops/summary_ops_v2.py:1277: stop (from tensorflow.python.eager.profiler) is deprecated and will be removed after 2020-07-01.\n",
            "Instructions for updating:\n",
            "use `tf.profiler.experimental.stop` instead.\n",
            "88/88 [==============================] - 32s 363ms/step - loss: 0.7011 - acc: 0.4990 - val_loss: 0.6893 - val_acc: 0.5467\n",
            "\n",
            "Epoch 00002: LearningRateScheduler reducing learning rate to 1.0000000000000002e-06.\n",
            "Epoch 2/50\n",
            "88/88 [==============================] - 30s 345ms/step - loss: 0.6987 - acc: 0.5041 - val_loss: 0.6847 - val_acc: 0.5444\n",
            "\n",
            "Epoch 00003: LearningRateScheduler reducing learning rate to 1.5000000000000002e-06.\n",
            "Epoch 3/50\n",
            "88/88 [==============================] - 30s 345ms/step - loss: 0.6950 - acc: 0.5155 - val_loss: 0.6810 - val_acc: 0.5467\n",
            "\n",
            "Epoch 00004: LearningRateScheduler reducing learning rate to 2.0000000000000003e-06.\n",
            "Epoch 4/50\n",
            "88/88 [==============================] - 30s 344ms/step - loss: 0.6904 - acc: 0.5292 - val_loss: 0.6744 - val_acc: 0.5535\n",
            "\n",
            "Epoch 00005: LearningRateScheduler reducing learning rate to 2.5000000000000006e-06.\n",
            "Epoch 5/50\n",
            "88/88 [==============================] - 30s 345ms/step - loss: 0.6871 - acc: 0.5507 - val_loss: 0.6674 - val_acc: 0.6310\n",
            "\n",
            "Epoch 00006: LearningRateScheduler reducing learning rate to 3.0000000000000005e-06.\n",
            "Epoch 6/50\n",
            "88/88 [==============================] - 30s 344ms/step - loss: 0.6722 - acc: 0.5854 - val_loss: 0.6451 - val_acc: 0.6606\n",
            "\n",
            "Epoch 00007: LearningRateScheduler reducing learning rate to 3.5000000000000004e-06.\n",
            "Epoch 7/50\n",
            "88/88 [==============================] - 30s 345ms/step - loss: 0.6425 - acc: 0.6382 - val_loss: 0.6125 - val_acc: 0.6856\n",
            "\n",
            "Epoch 00008: LearningRateScheduler reducing learning rate to 4.000000000000001e-06.\n",
            "Epoch 8/50\n",
            "88/88 [==============================] - 30s 344ms/step - loss: 0.6042 - acc: 0.6861 - val_loss: 0.6005 - val_acc: 0.6811\n",
            "\n",
            "Epoch 00009: LearningRateScheduler reducing learning rate to 4.500000000000001e-06.\n",
            "Epoch 9/50\n",
            "88/88 [==============================] - 30s 341ms/step - loss: 0.5601 - acc: 0.7383 - val_loss: 0.6133 - val_acc: 0.6788\n",
            "\n",
            "Epoch 00010: LearningRateScheduler reducing learning rate to 5.000000000000001e-06.\n",
            "Epoch 10/50\n",
            "88/88 [==============================] - 30s 344ms/step - loss: 0.5391 - acc: 0.7637 - val_loss: 0.5976 - val_acc: 0.7016\n",
            "\n",
            "Epoch 00011: LearningRateScheduler reducing learning rate to 5.500000000000001e-06.\n",
            "Epoch 11/50\n",
            "88/88 [==============================] - 30s 345ms/step - loss: 0.5122 - acc: 0.7903 - val_loss: 0.5828 - val_acc: 0.7016\n",
            "\n",
            "Epoch 00012: LearningRateScheduler reducing learning rate to 6.000000000000001e-06.\n",
            "Epoch 12/50\n",
            "88/88 [==============================] - 30s 345ms/step - loss: 0.5049 - acc: 0.7999 - val_loss: 0.5796 - val_acc: 0.7107\n",
            "\n",
            "Epoch 00013: LearningRateScheduler reducing learning rate to 6.500000000000001e-06.\n",
            "Epoch 13/50\n",
            "88/88 [==============================] - 30s 344ms/step - loss: 0.4724 - acc: 0.8370 - val_loss: 0.5686 - val_acc: 0.7289\n",
            "\n",
            "Epoch 00014: LearningRateScheduler reducing learning rate to 7.000000000000001e-06.\n",
            "Epoch 14/50\n",
            "88/88 [==============================] - 30s 341ms/step - loss: 0.4700 - acc: 0.8377 - val_loss: 0.5877 - val_acc: 0.7153\n",
            "\n",
            "Epoch 00015: LearningRateScheduler reducing learning rate to 7.500000000000001e-06.\n",
            "Epoch 15/50\n",
            "88/88 [==============================] - 30s 345ms/step - loss: 0.4594 - acc: 0.8499 - val_loss: 0.5613 - val_acc: 0.7380\n",
            "\n",
            "Epoch 00016: LearningRateScheduler reducing learning rate to 8.000000000000001e-06.\n",
            "Epoch 16/50\n",
            "88/88 [==============================] - 30s 341ms/step - loss: 0.4399 - acc: 0.8674 - val_loss: 0.5763 - val_acc: 0.7221\n",
            "\n",
            "Epoch 00017: LearningRateScheduler reducing learning rate to 8.500000000000002e-06.\n",
            "Epoch 17/50\n",
            "88/88 [==============================] - 30s 341ms/step - loss: 0.4532 - acc: 0.8562 - val_loss: 0.5991 - val_acc: 0.7039\n",
            "\n",
            "Epoch 00018: LearningRateScheduler reducing learning rate to 9.000000000000002e-06.\n",
            "Epoch 18/50\n",
            "88/88 [==============================] - 30s 341ms/step - loss: 0.4347 - acc: 0.8747 - val_loss: 0.5737 - val_acc: 0.7358\n",
            "\n",
            "Epoch 00019: LearningRateScheduler reducing learning rate to 9.500000000000002e-06.\n",
            "Epoch 19/50\n",
            "88/88 [==============================] - 30s 341ms/step - loss: 0.4328 - acc: 0.8758 - val_loss: 0.5979 - val_acc: 0.6993\n",
            "\n",
            "Epoch 00020: LearningRateScheduler reducing learning rate to 1.0000000000000003e-05.\n",
            "Epoch 20/50\n",
            "88/88 [==============================] - 30s 341ms/step - loss: 0.4334 - acc: 0.8768 - val_loss: 0.6013 - val_acc: 0.7039\n",
            "\n",
            "Epoch 00021: LearningRateScheduler reducing learning rate to 8.619535664753031e-06.\n",
            "Epoch 21/50\n",
            "88/88 [==============================] - 30s 341ms/step - loss: 0.4182 - acc: 0.8922 - val_loss: 0.5716 - val_acc: 0.7289\n",
            "\n",
            "Epoch 00022: LearningRateScheduler reducing learning rate to 7.429639507594948e-06.\n",
            "Epoch 22/50\n",
            "88/88 [==============================] - 30s 341ms/step - loss: 0.4060 - acc: 0.9052 - val_loss: 0.5704 - val_acc: 0.7358\n",
            "\n",
            "Epoch 00023: LearningRateScheduler reducing learning rate to 6.404004271197281e-06.\n",
            "Epoch 23/50\n",
            "88/88 [==============================] - 30s 341ms/step - loss: 0.4027 - acc: 0.9092 - val_loss: 0.5650 - val_acc: 0.7403\n",
            "\n",
            "Epoch 00024: LearningRateScheduler reducing learning rate to 5.51995432128157e-06.\n",
            "Epoch 24/50\n",
            "88/88 [==============================] - 30s 344ms/step - loss: 0.3920 - acc: 0.9222 - val_loss: 0.5502 - val_acc: 0.7585\n",
            "\n",
            "Epoch 00025: LearningRateScheduler reducing learning rate to 4.757944314009411e-06.\n",
            "Epoch 25/50\n",
            "88/88 [==============================] - 30s 341ms/step - loss: 0.3911 - acc: 0.9217 - val_loss: 0.5883 - val_acc: 0.7198\n",
            "\n",
            "Epoch 00026: LearningRateScheduler reducing learning rate to 4.101127070551301e-06.\n",
            "Epoch 26/50\n",
            "88/88 [==============================] - 30s 341ms/step - loss: 0.3851 - acc: 0.9272 - val_loss: 0.5793 - val_acc: 0.7267\n",
            "\n",
            "Epoch 00027: LearningRateScheduler reducing learning rate to 3.5349811050301065e-06.\n",
            "Epoch 27/50\n",
            "88/88 [==============================] - 30s 341ms/step - loss: 0.3846 - acc: 0.9275 - val_loss: 0.5686 - val_acc: 0.7403\n",
            "\n",
            "Epoch 00028: LearningRateScheduler reducing learning rate to 3.046989570903508e-06.\n",
            "Epoch 28/50\n",
            "88/88 [==============================] - 30s 341ms/step - loss: 0.3802 - acc: 0.9323 - val_loss: 0.5704 - val_acc: 0.7289\n",
            "\n",
            "Epoch 00029: LearningRateScheduler reducing learning rate to 2.626363527653332e-06.\n",
            "Epoch 29/50\n",
            "88/88 [==============================] - 30s 341ms/step - loss: 0.3794 - acc: 0.9328 - val_loss: 0.5792 - val_acc: 0.7312\n",
            "\n",
            "Epoch 00030: LearningRateScheduler reducing learning rate to 2.263803409521448e-06.\n",
            "Epoch 30/50\n",
            "88/88 [==============================] - 30s 341ms/step - loss: 0.3766 - acc: 0.9364 - val_loss: 0.5787 - val_acc: 0.7289\n",
            "\n",
            "Epoch 00031: LearningRateScheduler reducing learning rate to 1.9512934226359633e-06.\n",
            "Epoch 31/50\n",
            "88/88 [==============================] - 30s 341ms/step - loss: 0.3740 - acc: 0.9389 - val_loss: 0.5714 - val_acc: 0.7312\n",
            "\n",
            "Epoch 00032: LearningRateScheduler reducing learning rate to 1.6819243248808695e-06.\n",
            "Epoch 32/50\n",
            "88/88 [==============================] - 30s 341ms/step - loss: 0.3721 - acc: 0.9409 - val_loss: 0.5675 - val_acc: 0.7426\n",
            "\n",
            "Epoch 00033: LearningRateScheduler reducing learning rate to 1.4497406703726316e-06.\n",
            "Epoch 33/50\n",
            "88/88 [==============================] - 30s 341ms/step - loss: 0.3727 - acc: 0.9399 - val_loss: 0.5711 - val_acc: 0.7335\n",
            "\n",
            "Epoch 00034: LearningRateScheduler reducing learning rate to 1.2496091412919872e-06.\n",
            "Epoch 34/50\n",
            "88/88 [==============================] - 30s 341ms/step - loss: 0.3690 - acc: 0.9437 - val_loss: 0.5748 - val_acc: 0.7289\n",
            "\n",
            "Epoch 00035: LearningRateScheduler reducing learning rate to 1.0771050560367686e-06.\n",
            "Epoch 35/50\n",
            "88/88 [==============================] - 30s 341ms/step - loss: 0.3718 - acc: 0.9409 - val_loss: 0.5657 - val_acc: 0.7426\n",
            "\n",
            "Epoch 00036: LearningRateScheduler reducing learning rate to 9.284145445194742e-07.\n",
            "Epoch 36/50\n",
            "88/88 [==============================] - 30s 341ms/step - loss: 0.3691 - acc: 0.9437 - val_loss: 0.5752 - val_acc: 0.7244\n",
            "\n",
            "Epoch 00037: LearningRateScheduler reducing learning rate to 8.002502278161051e-07.\n",
            "Epoch 37/50\n",
            "88/88 [==============================] - 30s 341ms/step - loss: 0.3708 - acc: 0.9412 - val_loss: 0.5743 - val_acc: 0.7289\n",
            "\n",
            "Epoch 00038: LearningRateScheduler reducing learning rate to 6.897785379387655e-07.\n",
            "Epoch 38/50\n",
            "88/88 [==============================] - 30s 341ms/step - loss: 0.3703 - acc: 0.9414 - val_loss: 0.5709 - val_acc: 0.7312\n",
            "\n",
            "Epoch 00039: LearningRateScheduler reducing learning rate to 5.945570708544392e-07.\n",
            "Epoch 39/50\n",
            "88/88 [==============================] - 30s 341ms/step - loss: 0.3671 - acc: 0.9465 - val_loss: 0.5698 - val_acc: 0.7380\n",
            "\n",
            "Epoch 00040: LearningRateScheduler reducing learning rate to 5.124805876960932e-07.\n",
            "Epoch 40/50\n",
            "88/88 [==============================] - 30s 341ms/step - loss: 0.3653 - acc: 0.9475 - val_loss: 0.5698 - val_acc: 0.7358\n",
            "\n",
            "Epoch 00041: LearningRateScheduler reducing learning rate to 4.417344703140068e-07.\n",
            "Epoch 41/50\n",
            "88/88 [==============================] - 30s 341ms/step - loss: 0.3677 - acc: 0.9455 - val_loss: 0.5696 - val_acc: 0.7403\n",
            "\n",
            "Epoch 00042: LearningRateScheduler reducing learning rate to 3.807546021222372e-07.\n",
            "Epoch 42/50\n",
            "88/88 [==============================] - 30s 341ms/step - loss: 0.3677 - acc: 0.9452 - val_loss: 0.5703 - val_acc: 0.7312\n",
            "\n",
            "Epoch 00043: LearningRateScheduler reducing learning rate to 3.281927872511473e-07.\n",
            "Epoch 43/50\n",
            "88/88 [==============================] - 30s 341ms/step - loss: 0.3672 - acc: 0.9450 - val_loss: 0.5692 - val_acc: 0.7267\n",
            "\n",
            "Epoch 00044: LearningRateScheduler reducing learning rate to 2.8288694346259687e-07.\n",
            "Epoch 44/50\n",
            "88/88 [==============================] - 30s 343ms/step - loss: 0.3682 - acc: 0.9445 - val_loss: 0.5671 - val_acc: 0.7335\n",
            "CPU times: user 4min 21s, sys: 1min 14s, total: 5min 35s\n",
            "Wall time: 22min 27s\n"
          ],
          "name": "stdout"
        }
      ]
    },
    {
      "cell_type": "code",
      "metadata": {
        "id": "JNPpIN26Ts4v",
        "colab_type": "code",
        "colab": {}
      },
      "source": [
        "model.save_weights(model_save_location, overwrite=True)"
      ],
      "execution_count": null,
      "outputs": []
    },
    {
      "cell_type": "markdown",
      "metadata": {
        "id": "xSKDZEnVabnl",
        "colab_type": "text"
      },
      "source": [
        "# Evaluation\n",
        "\n",
        "To evaluate the trained model, let's load the saved weights in a new model instance, and evaluate."
      ]
    },
    {
      "cell_type": "code",
      "metadata": {
        "id": "BSqMu64oHzqy",
        "colab_type": "code",
        "colab": {
          "base_uri": "https://localhost:8080/",
          "height": 119
        },
        "outputId": "66ea1df9-7b9e-4197-d2b8-224e4a2d04e9"
      },
      "source": [
        "%%time\n",
        "\n",
        "_, train_acc = model.evaluate(data.train_x, data.train_y)\n",
        "_, test_acc = model.evaluate(data.test_x, data.test_y)\n",
        "\n",
        "print(\"train acc\", train_acc)\n",
        "print(\" test acc\", test_acc)"
      ],
      "execution_count": 17,
      "outputs": [
        {
          "output_type": "stream",
          "text": [
            "137/137 [==============================] - 11s 84ms/step - loss: 0.7058 - acc: 0.4798\n",
            "35/35 [==============================] - 3s 80ms/step - loss: 0.7146 - acc: 0.4462\n",
            "train acc 0.47980836033821106\n",
            " test acc 0.44616788625717163\n",
            "CPU times: user 7.25 s, sys: 1.5 s, total: 8.75 s\n",
            "Wall time: 16.2 s\n"
          ],
          "name": "stdout"
        }
      ]
    },
    {
      "cell_type": "markdown",
      "metadata": {
        "id": "5uzdOFQ5awM1",
        "colab_type": "text"
      },
      "source": [
        "# Prediction\n",
        "\n",
        "For prediction, we need to prepare the input text the same way as we did for training - tokenize, adding the special `[CLS]` and `[SEP]` token at begin and end of the token sequence, and pad to match the model input shape."
      ]
    },
    {
      "cell_type": "code",
      "metadata": {
        "id": "aL92lAocGmT4",
        "colab_type": "code",
        "colab": {
          "base_uri": "https://localhost:8080/",
          "height": 462
        },
        "outputId": "c201dba2-db3b-45da-9212-11096c0661bb"
      },
      "source": [
        "model = create_model(data.max_seq_len)\n",
        "model.load_weights('/content/drive/My Drive/Data Mining-Jangan Jangan Bagus/bert_model/sentiment_vayu_2.h5')"
      ],
      "execution_count": 39,
      "outputs": [
        {
          "output_type": "stream",
          "text": [
            "Some weights of the model checkpoint at distilbert-base-multilingual-cased were not used when initializing TFDistilBertModel: ['vocab_layer_norm', 'activation_13', 'vocab_transform', 'vocab_projector']\n",
            "- This IS expected if you are initializing TFDistilBertModel from the checkpoint of a model trained on another task or with another architecture (e.g. initializing a BertForSequenceClassification model from a BertForPretraining model).\n",
            "- This IS NOT expected if you are initializing TFDistilBertModel from the checkpoint of a model that you expect to be exactly identical (initializing a BertForSequenceClassification model from a BertForSequenceClassification model).\n",
            "All the weights of TFDistilBertModel were initialized from the model checkpoint at distilbert-base-multilingual-cased.\n",
            "If your task is similar to the task the model of the checkpoint was trained on, you can already use TFDistilBertModel for predictions without further training.\n"
          ],
          "name": "stderr"
        },
        {
          "output_type": "stream",
          "text": [
            "Model: \"functional_5\"\n",
            "_________________________________________________________________\n",
            "Layer (type)                 Output Shape              Param #   \n",
            "=================================================================\n",
            "input_3 (InputLayer)         [(None, 128)]             0         \n",
            "_________________________________________________________________\n",
            "tf_distil_bert_model_2 (TFDi ((None, 128, 768),)       134734080 \n",
            "_________________________________________________________________\n",
            "tf_op_layer_strided_slice_2  [(None, 768)]             0         \n",
            "_________________________________________________________________\n",
            "dense_4 (Dense)              (None, 768)               590592    \n",
            "_________________________________________________________________\n",
            "dropout_59 (Dropout)         (None, 768)               0         \n",
            "_________________________________________________________________\n",
            "dense_5 (Dense)              (None, 2)                 1538      \n",
            "=================================================================\n",
            "Total params: 135,326,210\n",
            "Trainable params: 135,326,210\n",
            "Non-trainable params: 0\n",
            "_________________________________________________________________\n"
          ],
          "name": "stdout"
        }
      ]
    },
    {
      "cell_type": "code",
      "metadata": {
        "id": "dAEjQNqlO5ZO",
        "colab_type": "code",
        "colab": {
          "base_uri": "https://localhost:8080/",
          "height": 119
        },
        "outputId": "9d4c513d-8629-4c91-f78d-317366b29643"
      },
      "source": [
        "%%time\n",
        "\n",
        "_, train_acc = model.evaluate(data.train_x, data.train_y)\n",
        "_, test_acc = model.evaluate(data.test_x, data.test_y)\n",
        "\n",
        "print(\"train acc\", train_acc)\n",
        "print(\" test acc\", test_acc)"
      ],
      "execution_count": 40,
      "outputs": [
        {
          "output_type": "stream",
          "text": [
            "137/137 [==============================] - 11s 84ms/step - loss: 0.4324 - acc: 0.8775\n",
            "35/35 [==============================] - 3s 81ms/step - loss: 0.4258 - acc: 0.8869\n",
            "train acc 0.8774811625480652\n",
            " test acc 0.8868613243103027\n",
            "CPU times: user 7.14 s, sys: 1.55 s, total: 8.69 s\n",
            "Wall time: 16.1 s\n"
          ],
          "name": "stdout"
        }
      ]
    },
    {
      "cell_type": "code",
      "metadata": {
        "id": "40Q-zNjOWgL5",
        "colab_type": "code",
        "colab": {}
      },
      "source": [
        "from keras import backend as K\n",
        "\n",
        "def recall_m(y_true, y_pred):\n",
        "    true_positives = K.sum(K.round(K.clip(y_true * y_pred, 0, 1)))\n",
        "    possible_positives = K.sum(K.round(K.clip(y_true, 0, 1)))\n",
        "    recall = true_positives / (possible_positives + K.epsilon())\n",
        "    return recall\n",
        "\n",
        "def precision_m(y_true, y_pred):\n",
        "    true_positives = K.sum(K.round(K.clip(y_true * y_pred, 0, 1)))\n",
        "    predicted_positives = K.sum(K.round(K.clip(y_pred, 0, 1)))\n",
        "    precision = true_positives / (predicted_positives + K.epsilon())\n",
        "    return precision\n",
        "\n",
        "def f1_m(y_true, y_pred):\n",
        "    precision = precision_m(y_true, y_pred)\n",
        "    recall = recall_m(y_true, y_pred)\n",
        "    return 2*((precision*recall)/(precision+recall+K.epsilon()))\n",
        "\n",
        "# # compile the model\n",
        "# model.compile(optimizer='adam', loss='binary_crossentropy', metrics=['acc',f1_m,precision_m, recall_m])\n",
        "# model.compile(tf.keras.optimizers.Adam(lr=6e-6), loss=keras.losses.SparseCategoricalCrossentropy(from_logits=True), metrics=[keras.metrics.SparseCategoricalAccuracy(name=\"acc\")])\n",
        "model.compile(tf.keras.optimizers.Adam(lr=6e-6), loss=keras.losses.SparseCategoricalCrossentropy(from_logits=True), metrics=['acc',f1_m,precision_m, recall_m])\n",
        "\n",
        "# # fit the model\n",
        "# history = model.fit(Xtrain, ytrain, validation_split=0.3, epochs=10, verbose=0)\n",
        "\n",
        "# evaluate the model\n",
        "loss, accuracy, f1_score, precision, recall = model.evaluate(data.test_x, data.test_y, verbose=0)"
      ],
      "execution_count": 41,
      "outputs": []
    },
    {
      "cell_type": "code",
      "metadata": {
        "id": "wl0Dw74CXVMB",
        "colab_type": "code",
        "colab": {
          "base_uri": "https://localhost:8080/",
          "height": 34
        },
        "outputId": "64d06073-b044-44ab-c8cf-4be00e74d953"
      },
      "source": [
        "loss"
      ],
      "execution_count": 23,
      "outputs": [
        {
          "output_type": "execute_result",
          "data": {
            "text/plain": [
              "0.4257740080356598"
            ]
          },
          "metadata": {
            "tags": []
          },
          "execution_count": 23
        }
      ]
    },
    {
      "cell_type": "code",
      "metadata": {
        "id": "NZH4ld8OXWf2",
        "colab_type": "code",
        "colab": {
          "base_uri": "https://localhost:8080/",
          "height": 34
        },
        "outputId": "5c124faf-9700-4de5-afd8-93edcda3f5eb"
      },
      "source": [
        "accuracy"
      ],
      "execution_count": 24,
      "outputs": [
        {
          "output_type": "execute_result",
          "data": {
            "text/plain": [
              "0.8868613243103027"
            ]
          },
          "metadata": {
            "tags": []
          },
          "execution_count": 24
        }
      ]
    },
    {
      "cell_type": "code",
      "metadata": {
        "id": "RzSW28ieXYNH",
        "colab_type": "code",
        "colab": {
          "base_uri": "https://localhost:8080/",
          "height": 34
        },
        "outputId": "bc732f94-8713-418f-a212-693702fb2ed2"
      },
      "source": [
        "f1_score"
      ],
      "execution_count": 25,
      "outputs": [
        {
          "output_type": "execute_result",
          "data": {
            "text/plain": [
              "0.6127579808235168"
            ]
          },
          "metadata": {
            "tags": []
          },
          "execution_count": 25
        }
      ]
    },
    {
      "cell_type": "code",
      "metadata": {
        "id": "eS8QA6BpXaYn",
        "colab_type": "code",
        "colab": {
          "base_uri": "https://localhost:8080/",
          "height": 34
        },
        "outputId": "64ff4268-3a54-4e4b-b058-219615402968"
      },
      "source": [
        "precision"
      ],
      "execution_count": 26,
      "outputs": [
        {
          "output_type": "execute_result",
          "data": {
            "text/plain": [
              "0.44732141494750977"
            ]
          },
          "metadata": {
            "tags": []
          },
          "execution_count": 26
        }
      ]
    },
    {
      "cell_type": "code",
      "metadata": {
        "id": "hHDFgZWsXb5e",
        "colab_type": "code",
        "colab": {
          "base_uri": "https://localhost:8080/",
          "height": 34
        },
        "outputId": "52bf9d67-8fb4-4f20-e64a-732a5c768406"
      },
      "source": [
        "recall"
      ],
      "execution_count": 27,
      "outputs": [
        {
          "output_type": "execute_result",
          "data": {
            "text/plain": [
              "1.0"
            ]
          },
          "metadata": {
            "tags": []
          },
          "execution_count": 27
        }
      ]
    },
    {
      "cell_type": "markdown",
      "metadata": {
        "id": "RZ2ZtyKHSW0c",
        "colab_type": "text"
      },
      "source": [
        "###Dari sini"
      ]
    },
    {
      "cell_type": "code",
      "metadata": {
        "id": "7tOD4qiJWVy-",
        "colab_type": "code",
        "colab": {}
      },
      "source": [
        "from matplotlib.pyplot import show\n",
        "import matplotlib.pyplot as plt\n",
        "import seaborn as sns"
      ],
      "execution_count": 42,
      "outputs": []
    },
    {
      "cell_type": "code",
      "metadata": {
        "id": "v8L9ZLaNwvLc",
        "colab_type": "code",
        "colab": {}
      },
      "source": [
        "def predict_sentiment(model, pred_sentences,title):\n",
        "  tokenizer = DistilBertTokenizer.from_pretrained('distilbert-base-multilingual-cased')\n",
        "  pred_tokens    = map(tokenizer.tokenize, pred_sentences)\n",
        "  pred_tokens    = map(lambda tok: [\"[CLS]\"] + tok + [\"[SEP]\"], pred_tokens)\n",
        "  pred_token_ids = list(map(tokenizer.convert_tokens_to_ids, pred_tokens))\n",
        "\n",
        "  pred_token_ids = map(lambda tids: tids +[0]*(data.max_seq_len-len(tids)),pred_token_ids)\n",
        "  pred_token_ids = np.array(list(pred_token_ids))\n",
        "\n",
        "  print('pred_token_ids', pred_token_ids.shape)\n",
        "\n",
        "  res = model.predict(pred_token_ids).argmax(axis=-1)\n",
        "\n",
        "  id = 0\n",
        "  df_result = pd.DataFrame(columns=['tweet','sentimen'])\n",
        "  for text, sentiment in zip(pred_sentences, res):\n",
        "    df_result.loc[id,'tweet'] = text\n",
        "    df_result.loc[id,'sentimen'] = [\"negative\",\"positive\"][sentiment]\n",
        "    id += 1\n",
        "\n",
        "  sns.set(style=\"darkgrid\")\n",
        "  total = float(len(df_result)) \n",
        "  ax = sns.countplot(x=\"sentimen\", data=df_result)\n",
        "  for p in ax.patches:\n",
        "      height = p.get_height()\n",
        "      ax.text(p.get_x()+p.get_width()/2.,\n",
        "              height + 3,\n",
        "              '{:1.2f}%'.format(height/total*100),\n",
        "              ha=\"center\")\n",
        "  plt.title(title) \n",
        "  show()\n",
        "\n",
        "  return df_result"
      ],
      "execution_count": 51,
      "outputs": []
    },
    {
      "cell_type": "code",
      "metadata": {
        "id": "P9HfAgNcwc89",
        "colab_type": "code",
        "colab": {
          "base_uri": "https://localhost:8080/",
          "height": 318
        },
        "outputId": "69302f60-3933-4221-847d-a8f0cec86048"
      },
      "source": [
        "df_rapid = pd.read_csv(\"/content/drive/My Drive/Data Mining-Jangan Jangan Bagus/dataset_rapid_clean.csv\")\n",
        "list_rapid = df_rapid['tweet'].tolist()\n",
        "df_rapid_res = predict_sentiment(model, list_rapid, 'Rapid test')"
      ],
      "execution_count": 52,
      "outputs": [
        {
          "output_type": "stream",
          "text": [
            "pred_token_ids (879, 128)\n"
          ],
          "name": "stdout"
        },
        {
          "output_type": "display_data",
          "data": {
            "image/png": "[encoded data removed]",
            "text/plain": [
              "<Figure size 432x288 with 1 Axes>"
            ]
          },
          "metadata": {
            "tags": []
          }
        }
      ]
    },
    {
      "cell_type": "code",
      "metadata": {
        "id": "Ofjnoc2rgaky",
        "colab_type": "code",
        "colab": {
          "base_uri": "https://localhost:8080/",
          "height": 359
        },
        "outputId": "246771b2-c1e1-41f2-dc64-4e522f920511"
      },
      "source": [
        "df_rapid_res[df_rapid_res['sentimen'] == 'positive'][:10]"
      ],
      "execution_count": 55,
      "outputs": [
        {
          "output_type": "execute_result",
          "data": {
            "text/html": [
              "<div>\n",
              "<style scoped>\n",
              "    .dataframe tbody tr th:only-of-type {\n",
              "        vertical-align: middle;\n",
              "    }\n",
              "\n",
              "    .dataframe tbody tr th {\n",
              "        vertical-align: top;\n",
              "    }\n",
              "\n",
              "    .dataframe thead th {\n",
              "        text-align: right;\n",
              "    }\n",
              "</style>\n",
              "<table border=\"1\" class=\"dataframe\">\n",
              "  <thead>\n",
              "    <tr style=\"text-align: right;\">\n",
              "      <th></th>\n",
              "      <th>tweet</th>\n",
              "      <th>sentimen</th>\n",
              "    </tr>\n",
              "  </thead>\n",
              "  <tbody>\n",
              "    <tr>\n",
              "      <th>0</th>\n",
              "      <td>viral beredar kabar soal syarat rapid test seb...</td>\n",
              "      <td>positive</td>\n",
              "    </tr>\n",
              "    <tr>\n",
              "      <th>1</th>\n",
              "      <td>lenovo legion x now is your chance to rise abo...</td>\n",
              "      <td>positive</td>\n",
              "    </tr>\n",
              "    <tr>\n",
              "      <th>2</th>\n",
              "      <td>malam kai mau nanya saya selasa sep mau ke jng...</td>\n",
              "      <td>positive</td>\n",
              "    </tr>\n",
              "    <tr>\n",
              "      <th>5</th>\n",
              "      <td>saat ini masih diperlukan surat keterangan neg...</td>\n",
              "      <td>positive</td>\n",
              "    </tr>\n",
              "    <tr>\n",
              "      <th>10</th>\n",
              "      <td>minggu pagi sept saya ada tiket ke bandung arg...</td>\n",
              "      <td>positive</td>\n",
              "    </tr>\n",
              "    <tr>\n",
              "      <th>11</th>\n",
              "      <td>selamat sore mengenai syarat dan ketentuan keb...</td>\n",
              "      <td>positive</td>\n",
              "    </tr>\n",
              "    <tr>\n",
              "      <th>13</th>\n",
              "      <td>tiap hari ketemu banyak orng udah kali test ra...</td>\n",
              "      <td>positive</td>\n",
              "    </tr>\n",
              "    <tr>\n",
              "      <th>15</th>\n",
              "      <td>ada salah satu universitas di solo yang mau ny...</td>\n",
              "      <td>positive</td>\n",
              "    </tr>\n",
              "    <tr>\n",
              "      <th>20</th>\n",
              "      <td>h bp presiden yth bgmna jika biaya swab disubs...</td>\n",
              "      <td>positive</td>\n",
              "    </tr>\n",
              "    <tr>\n",
              "      <th>22</th>\n",
              "      <td>unlocktheopen with and make more of that energ...</td>\n",
              "      <td>positive</td>\n",
              "    </tr>\n",
              "  </tbody>\n",
              "</table>\n",
              "</div>"
            ],
            "text/plain": [
              "                                                tweet  sentimen\n",
              "0   viral beredar kabar soal syarat rapid test seb...  positive\n",
              "1   lenovo legion x now is your chance to rise abo...  positive\n",
              "2   malam kai mau nanya saya selasa sep mau ke jng...  positive\n",
              "5   saat ini masih diperlukan surat keterangan neg...  positive\n",
              "10  minggu pagi sept saya ada tiket ke bandung arg...  positive\n",
              "11  selamat sore mengenai syarat dan ketentuan keb...  positive\n",
              "13  tiap hari ketemu banyak orng udah kali test ra...  positive\n",
              "15  ada salah satu universitas di solo yang mau ny...  positive\n",
              "20  h bp presiden yth bgmna jika biaya swab disubs...  positive\n",
              "22  unlocktheopen with and make more of that energ...  positive"
            ]
          },
          "metadata": {
            "tags": []
          },
          "execution_count": 55
        }
      ]
    },
    {
      "cell_type": "code",
      "metadata": {
        "id": "tjkKO1salxfK",
        "colab_type": "code",
        "colab": {
          "base_uri": "https://localhost:8080/",
          "height": 318
        },
        "outputId": "4a988598-7d04-4053-ead4-a689f75eb10c"
      },
      "source": [
        "df_kuliah = pd.read_csv(\"/content/drive/My Drive/Data Mining-Jangan Jangan Bagus/dataset_kuliah_clean.csv\")\n",
        "list_kuliah = df_kuliah['tweet'].tolist()\n",
        "predict_sentiment(model, list_kuliah, 'Kuliah Daring')"
      ],
      "execution_count": 45,
      "outputs": [
        {
          "output_type": "stream",
          "text": [
            "pred_token_ids (819, 128)\n"
          ],
          "name": "stdout"
        },
        {
          "output_type": "display_data",
          "data": {
            "image/png": "[encoded data removed]",
            "text/plain": [
              "<Figure size 432x288 with 1 Axes>"
            ]
          },
          "metadata": {
            "tags": []
          }
        }
      ]
    },
    {
      "cell_type": "code",
      "metadata": {
        "id": "c1DryEVTyL_m",
        "colab_type": "code",
        "colab": {
          "base_uri": "https://localhost:8080/",
          "height": 318
        },
        "outputId": "4e46c3e1-2603-4c61-9617-3d87a7926de4"
      },
      "source": [
        "df_transport = pd.read_csv(\"/content/drive/My Drive/Data Mining-Jangan Jangan Bagus/dataset_transportasi_clean.csv\")\n",
        "list_transport = df_transport['tweet'].tolist()\n",
        "predict_sentiment(model, list_transport, 'Transportasi Umum')"
      ],
      "execution_count": 46,
      "outputs": [
        {
          "output_type": "stream",
          "text": [
            "pred_token_ids (785, 128)\n"
          ],
          "name": "stdout"
        },
        {
          "output_type": "display_data",
          "data": {
            "image/png": "[encoded data removed]",
            "text/plain": [
              "<Figure size 432x288 with 1 Axes>"
            ]
          },
          "metadata": {
            "tags": []
          }
        }
      ]
    },
    {
      "cell_type": "code",
      "metadata": {
        "id": "ueAoaEfRyhES",
        "colab_type": "code",
        "colab": {
          "base_uri": "https://localhost:8080/",
          "height": 318
        },
        "outputId": "86cb6b9d-20ad-47c5-b31e-a4d27b327dbf"
      },
      "source": [
        "df_jarak = pd.read_csv(\"/content/drive/My Drive/Data Mining-Jangan Jangan Bagus/dataset_jarak_clean.csv\")\n",
        "list_jarak = df_jarak['tweet'].tolist()\n",
        "predict_sentiment(model, list_jarak, 'Jaga jarak')"
      ],
      "execution_count": 47,
      "outputs": [
        {
          "output_type": "stream",
          "text": [
            "pred_token_ids (576, 128)\n"
          ],
          "name": "stdout"
        },
        {
          "output_type": "display_data",
          "data": {
            "image/png": "[encoded data removed]",
            "text/plain": [
              "<Figure size 432x288 with 1 Axes>"
            ]
          },
          "metadata": {
            "tags": []
          }
        }
      ]
    },
    {
      "cell_type": "code",
      "metadata": {
        "id": "TJsX_b6WyxuD",
        "colab_type": "code",
        "colab": {
          "base_uri": "https://localhost:8080/",
          "height": 318
        },
        "outputId": "2dbecd01-6cb6-42ce-ac2d-745d0d2cfd43"
      },
      "source": [
        "df_hiburan = pd.read_csv(\"/content/drive/My Drive/Data Mining-Jangan Jangan Bagus/dataset_hiburan_clean.csv\")\n",
        "list_hiburan = df_jarak['tweet'].tolist()\n",
        "predict_sentiment(model, list_jarak, 'Pembukaan tempat hiburan')"
      ],
      "execution_count": 48,
      "outputs": [
        {
          "output_type": "stream",
          "text": [
            "pred_token_ids (576, 128)\n"
          ],
          "name": "stdout"
        },
        {
          "output_type": "display_data",
          "data": {
            "image/png": "[encoded data removed]",
            "text/plain": [
              "<Figure size 432x288 with 1 Axes>"
            ]
          },
          "metadata": {
            "tags": []
          }
        }
      ]
    },
    {
      "cell_type": "code",
      "metadata": {
        "id": "L2ja_GjZVOUH",
        "colab_type": "code",
        "colab": {}
      },
      "source": [
        ""
      ],
      "execution_count": 48,
      "outputs": []
    }
  ]
}