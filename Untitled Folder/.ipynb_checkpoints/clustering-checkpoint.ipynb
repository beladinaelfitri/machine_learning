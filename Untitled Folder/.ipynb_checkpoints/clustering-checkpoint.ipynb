{
 "cells": [
  {
   "cell_type": "code",
   "execution_count": 854,
   "metadata": {},
   "outputs": [],
   "source": [
    "#import library used\n",
    "\n",
    "import numpy as np\n",
    "import pandas as pd\n",
    "import copy\n",
    "from sklearn.model_selection import train_test_split\n",
    "from sklearn.preprocessing import MinMaxScaler\n",
    "import matplotlib.pyplot as plt\n",
    "import seaborn as sns"
   ]
  },
  {
   "cell_type": "code",
   "execution_count": 855,
   "metadata": {},
   "outputs": [],
   "source": [
    "df = pd.read_csv('used_cars.csv')"
   ]
  },
  {
   "cell_type": "markdown",
   "metadata": {},
   "source": [
    "### Data Exploration"
   ]
  },
  {
   "cell_type": "code",
   "execution_count": 856,
   "metadata": {},
   "outputs": [
    {
     "data": {
      "text/html": [
       "<div>\n",
       "<style scoped>\n",
       "    .dataframe tbody tr th:only-of-type {\n",
       "        vertical-align: middle;\n",
       "    }\n",
       "\n",
       "    .dataframe tbody tr th {\n",
       "        vertical-align: top;\n",
       "    }\n",
       "\n",
       "    .dataframe thead th {\n",
       "        text-align: right;\n",
       "    }\n",
       "</style>\n",
       "<table border=\"1\" class=\"dataframe\">\n",
       "  <thead>\n",
       "    <tr style=\"text-align: right;\">\n",
       "      <th></th>\n",
       "      <th>Unnamed: 0</th>\n",
       "      <th>id</th>\n",
       "      <th>url</th>\n",
       "      <th>region</th>\n",
       "      <th>region_url</th>\n",
       "      <th>price</th>\n",
       "      <th>year</th>\n",
       "      <th>manufacturer</th>\n",
       "      <th>model</th>\n",
       "      <th>condition</th>\n",
       "      <th>...</th>\n",
       "      <th>drive</th>\n",
       "      <th>size</th>\n",
       "      <th>type</th>\n",
       "      <th>paint_color</th>\n",
       "      <th>image_url</th>\n",
       "      <th>description</th>\n",
       "      <th>county</th>\n",
       "      <th>state</th>\n",
       "      <th>lat</th>\n",
       "      <th>long</th>\n",
       "    </tr>\n",
       "  </thead>\n",
       "  <tbody>\n",
       "    <tr>\n",
       "      <th>0</th>\n",
       "      <td>0</td>\n",
       "      <td>7034441763</td>\n",
       "      <td>https://saltlakecity.craigslist.org/cto/d/salt...</td>\n",
       "      <td>salt lake city</td>\n",
       "      <td>https://saltlakecity.craigslist.org</td>\n",
       "      <td>17899</td>\n",
       "      <td>2012.0</td>\n",
       "      <td>volkswagen</td>\n",
       "      <td>golf r</td>\n",
       "      <td>excellent</td>\n",
       "      <td>...</td>\n",
       "      <td>4wd</td>\n",
       "      <td>compact</td>\n",
       "      <td>hatchback</td>\n",
       "      <td>black</td>\n",
       "      <td>https://images.craigslist.org/00G0G_fTLDWM5Xyv...</td>\n",
       "      <td>PRICE REDUCED!   -Garage kept -Low Miles (63K)...</td>\n",
       "      <td>NaN</td>\n",
       "      <td>ut</td>\n",
       "      <td>40.7372</td>\n",
       "      <td>-111.858</td>\n",
       "    </tr>\n",
       "    <tr>\n",
       "      <th>1</th>\n",
       "      <td>1</td>\n",
       "      <td>7034440610</td>\n",
       "      <td>https://saltlakecity.craigslist.org/ctd/d/sand...</td>\n",
       "      <td>salt lake city</td>\n",
       "      <td>https://saltlakecity.craigslist.org</td>\n",
       "      <td>0</td>\n",
       "      <td>2016.0</td>\n",
       "      <td>ford</td>\n",
       "      <td>f-150</td>\n",
       "      <td>excellent</td>\n",
       "      <td>...</td>\n",
       "      <td>4wd</td>\n",
       "      <td>NaN</td>\n",
       "      <td>NaN</td>\n",
       "      <td>NaN</td>\n",
       "      <td>https://images.craigslist.org/00v0v_7Cu0buIofU...</td>\n",
       "      <td>Drive it home today. Call (Or Text) us now !!C...</td>\n",
       "      <td>NaN</td>\n",
       "      <td>ut</td>\n",
       "      <td>40.5881</td>\n",
       "      <td>-111.884</td>\n",
       "    </tr>\n",
       "    <tr>\n",
       "      <th>2</th>\n",
       "      <td>2</td>\n",
       "      <td>7034440588</td>\n",
       "      <td>https://saltlakecity.craigslist.org/ctd/d/sand...</td>\n",
       "      <td>salt lake city</td>\n",
       "      <td>https://saltlakecity.craigslist.org</td>\n",
       "      <td>46463</td>\n",
       "      <td>2015.0</td>\n",
       "      <td>gmc</td>\n",
       "      <td>sierra 1500</td>\n",
       "      <td>excellent</td>\n",
       "      <td>...</td>\n",
       "      <td>4wd</td>\n",
       "      <td>NaN</td>\n",
       "      <td>NaN</td>\n",
       "      <td>white</td>\n",
       "      <td>https://images.craigslist.org/01515_lPvJ9bfbdY...</td>\n",
       "      <td>Drive it home today. Call (Or Text) us now !!C...</td>\n",
       "      <td>NaN</td>\n",
       "      <td>ut</td>\n",
       "      <td>40.5881</td>\n",
       "      <td>-111.884</td>\n",
       "    </tr>\n",
       "    <tr>\n",
       "      <th>3</th>\n",
       "      <td>3</td>\n",
       "      <td>7034440546</td>\n",
       "      <td>https://saltlakecity.craigslist.org/ctd/d/sand...</td>\n",
       "      <td>salt lake city</td>\n",
       "      <td>https://saltlakecity.craigslist.org</td>\n",
       "      <td>0</td>\n",
       "      <td>2016.0</td>\n",
       "      <td>ford</td>\n",
       "      <td>f-150</td>\n",
       "      <td>excellent</td>\n",
       "      <td>...</td>\n",
       "      <td>4wd</td>\n",
       "      <td>NaN</td>\n",
       "      <td>NaN</td>\n",
       "      <td>NaN</td>\n",
       "      <td>https://images.craigslist.org/00T0T_6Rjfp3NS4O...</td>\n",
       "      <td>Drive it home today. Call (Or Text) us now !!C...</td>\n",
       "      <td>NaN</td>\n",
       "      <td>ut</td>\n",
       "      <td>40.5881</td>\n",
       "      <td>-111.884</td>\n",
       "    </tr>\n",
       "    <tr>\n",
       "      <th>4</th>\n",
       "      <td>4</td>\n",
       "      <td>7034406932</td>\n",
       "      <td>https://saltlakecity.craigslist.org/ctd/d/evan...</td>\n",
       "      <td>salt lake city</td>\n",
       "      <td>https://saltlakecity.craigslist.org</td>\n",
       "      <td>49999</td>\n",
       "      <td>2018.0</td>\n",
       "      <td>ford</td>\n",
       "      <td>f-450</td>\n",
       "      <td>NaN</td>\n",
       "      <td>...</td>\n",
       "      <td>4wd</td>\n",
       "      <td>NaN</td>\n",
       "      <td>pickup</td>\n",
       "      <td>white</td>\n",
       "      <td>https://images.craigslist.org/00W0W_8yIUwRBXXd...</td>\n",
       "      <td>2018 Ford F-350 F350 F 350 SD Lariat Crew Cab ...</td>\n",
       "      <td>NaN</td>\n",
       "      <td>ut</td>\n",
       "      <td>40.3744</td>\n",
       "      <td>-104.694</td>\n",
       "    </tr>\n",
       "  </tbody>\n",
       "</table>\n",
       "<p>5 rows × 26 columns</p>\n",
       "</div>"
      ],
      "text/plain": [
       "   Unnamed: 0          id                                                url  \\\n",
       "0           0  7034441763  https://saltlakecity.craigslist.org/cto/d/salt...   \n",
       "1           1  7034440610  https://saltlakecity.craigslist.org/ctd/d/sand...   \n",
       "2           2  7034440588  https://saltlakecity.craigslist.org/ctd/d/sand...   \n",
       "3           3  7034440546  https://saltlakecity.craigslist.org/ctd/d/sand...   \n",
       "4           4  7034406932  https://saltlakecity.craigslist.org/ctd/d/evan...   \n",
       "\n",
       "           region                           region_url  price    year  \\\n",
       "0  salt lake city  https://saltlakecity.craigslist.org  17899  2012.0   \n",
       "1  salt lake city  https://saltlakecity.craigslist.org      0  2016.0   \n",
       "2  salt lake city  https://saltlakecity.craigslist.org  46463  2015.0   \n",
       "3  salt lake city  https://saltlakecity.craigslist.org      0  2016.0   \n",
       "4  salt lake city  https://saltlakecity.craigslist.org  49999  2018.0   \n",
       "\n",
       "  manufacturer        model  condition   ...    drive     size       type  \\\n",
       "0   volkswagen       golf r  excellent   ...      4wd  compact  hatchback   \n",
       "1         ford        f-150  excellent   ...      4wd      NaN        NaN   \n",
       "2          gmc  sierra 1500  excellent   ...      4wd      NaN        NaN   \n",
       "3         ford        f-150  excellent   ...      4wd      NaN        NaN   \n",
       "4         ford        f-450        NaN   ...      4wd      NaN     pickup   \n",
       "\n",
       "  paint_color                                          image_url  \\\n",
       "0       black  https://images.craigslist.org/00G0G_fTLDWM5Xyv...   \n",
       "1         NaN  https://images.craigslist.org/00v0v_7Cu0buIofU...   \n",
       "2       white  https://images.craigslist.org/01515_lPvJ9bfbdY...   \n",
       "3         NaN  https://images.craigslist.org/00T0T_6Rjfp3NS4O...   \n",
       "4       white  https://images.craigslist.org/00W0W_8yIUwRBXXd...   \n",
       "\n",
       "                                         description county state      lat  \\\n",
       "0  PRICE REDUCED!   -Garage kept -Low Miles (63K)...    NaN    ut  40.7372   \n",
       "1  Drive it home today. Call (Or Text) us now !!C...    NaN    ut  40.5881   \n",
       "2  Drive it home today. Call (Or Text) us now !!C...    NaN    ut  40.5881   \n",
       "3  Drive it home today. Call (Or Text) us now !!C...    NaN    ut  40.5881   \n",
       "4  2018 Ford F-350 F350 F 350 SD Lariat Crew Cab ...    NaN    ut  40.3744   \n",
       "\n",
       "      long  \n",
       "0 -111.858  \n",
       "1 -111.884  \n",
       "2 -111.884  \n",
       "3 -111.884  \n",
       "4 -104.694  \n",
       "\n",
       "[5 rows x 26 columns]"
      ]
     },
     "execution_count": 856,
     "metadata": {},
     "output_type": "execute_result"
    }
   ],
   "source": [
    "df.head()"
   ]
  },
  {
   "cell_type": "code",
   "execution_count": 857,
   "metadata": {},
   "outputs": [
    {
     "data": {
      "text/plain": [
       "(20001, 26)"
      ]
     },
     "execution_count": 857,
     "metadata": {},
     "output_type": "execute_result"
    }
   ],
   "source": [
    "#number of records and column\n",
    "df.shape"
   ]
  },
  {
   "cell_type": "code",
   "execution_count": 858,
   "metadata": {},
   "outputs": [
    {
     "data": {
      "text/html": [
       "<div>\n",
       "<style scoped>\n",
       "    .dataframe tbody tr th:only-of-type {\n",
       "        vertical-align: middle;\n",
       "    }\n",
       "\n",
       "    .dataframe tbody tr th {\n",
       "        vertical-align: top;\n",
       "    }\n",
       "\n",
       "    .dataframe thead th {\n",
       "        text-align: right;\n",
       "    }\n",
       "</style>\n",
       "<table border=\"1\" class=\"dataframe\">\n",
       "  <thead>\n",
       "    <tr style=\"text-align: right;\">\n",
       "      <th></th>\n",
       "      <th>Unnamed: 0</th>\n",
       "      <th>id</th>\n",
       "      <th>price</th>\n",
       "      <th>year</th>\n",
       "      <th>odometer</th>\n",
       "      <th>county</th>\n",
       "      <th>lat</th>\n",
       "      <th>long</th>\n",
       "    </tr>\n",
       "  </thead>\n",
       "  <tbody>\n",
       "    <tr>\n",
       "      <th>count</th>\n",
       "      <td>20001.000000</td>\n",
       "      <td>2.000100e+04</td>\n",
       "      <td>2.000100e+04</td>\n",
       "      <td>19989.000000</td>\n",
       "      <td>1.761200e+04</td>\n",
       "      <td>0.0</td>\n",
       "      <td>18970.000000</td>\n",
       "      <td>18970.000000</td>\n",
       "    </tr>\n",
       "    <tr>\n",
       "      <th>mean</th>\n",
       "      <td>10000.000000</td>\n",
       "      <td>7.043199e+09</td>\n",
       "      <td>7.664058e+04</td>\n",
       "      <td>2009.830657</td>\n",
       "      <td>9.916435e+04</td>\n",
       "      <td>NaN</td>\n",
       "      <td>40.394737</td>\n",
       "      <td>-86.300395</td>\n",
       "    </tr>\n",
       "    <tr>\n",
       "      <th>std</th>\n",
       "      <td>5773.935703</td>\n",
       "      <td>4.668820e+06</td>\n",
       "      <td>8.335762e+06</td>\n",
       "      <td>7.913613</td>\n",
       "      <td>7.963487e+04</td>\n",
       "      <td>NaN</td>\n",
       "      <td>4.440290</td>\n",
       "      <td>18.219242</td>\n",
       "    </tr>\n",
       "    <tr>\n",
       "      <th>min</th>\n",
       "      <td>0.000000</td>\n",
       "      <td>7.032597e+09</td>\n",
       "      <td>0.000000e+00</td>\n",
       "      <td>1917.000000</td>\n",
       "      <td>0.000000e+00</td>\n",
       "      <td>NaN</td>\n",
       "      <td>-51.812200</td>\n",
       "      <td>-155.901000</td>\n",
       "    </tr>\n",
       "    <tr>\n",
       "      <th>25%</th>\n",
       "      <td>5000.000000</td>\n",
       "      <td>7.040114e+09</td>\n",
       "      <td>3.970000e+03</td>\n",
       "      <td>2007.000000</td>\n",
       "      <td>5.013300e+04</td>\n",
       "      <td>NaN</td>\n",
       "      <td>37.273700</td>\n",
       "      <td>-80.166800</td>\n",
       "    </tr>\n",
       "    <tr>\n",
       "      <th>50%</th>\n",
       "      <td>10000.000000</td>\n",
       "      <td>7.043866e+09</td>\n",
       "      <td>8.795000e+03</td>\n",
       "      <td>2011.000000</td>\n",
       "      <td>9.389900e+04</td>\n",
       "      <td>NaN</td>\n",
       "      <td>38.258600</td>\n",
       "      <td>-77.514200</td>\n",
       "    </tr>\n",
       "    <tr>\n",
       "      <th>75%</th>\n",
       "      <td>15000.000000</td>\n",
       "      <td>7.047065e+09</td>\n",
       "      <td>1.749500e+04</td>\n",
       "      <td>2015.000000</td>\n",
       "      <td>1.339090e+05</td>\n",
       "      <td>NaN</td>\n",
       "      <td>44.439500</td>\n",
       "      <td>-76.238400</td>\n",
       "    </tr>\n",
       "    <tr>\n",
       "      <th>max</th>\n",
       "      <td>20000.000000</td>\n",
       "      <td>7.050101e+09</td>\n",
       "      <td>1.172420e+09</td>\n",
       "      <td>2020.000000</td>\n",
       "      <td>2.500005e+06</td>\n",
       "      <td>NaN</td>\n",
       "      <td>59.746600</td>\n",
       "      <td>9.095700</td>\n",
       "    </tr>\n",
       "  </tbody>\n",
       "</table>\n",
       "</div>"
      ],
      "text/plain": [
       "         Unnamed: 0            id         price          year      odometer  \\\n",
       "count  20001.000000  2.000100e+04  2.000100e+04  19989.000000  1.761200e+04   \n",
       "mean   10000.000000  7.043199e+09  7.664058e+04   2009.830657  9.916435e+04   \n",
       "std     5773.935703  4.668820e+06  8.335762e+06      7.913613  7.963487e+04   \n",
       "min        0.000000  7.032597e+09  0.000000e+00   1917.000000  0.000000e+00   \n",
       "25%     5000.000000  7.040114e+09  3.970000e+03   2007.000000  5.013300e+04   \n",
       "50%    10000.000000  7.043866e+09  8.795000e+03   2011.000000  9.389900e+04   \n",
       "75%    15000.000000  7.047065e+09  1.749500e+04   2015.000000  1.339090e+05   \n",
       "max    20000.000000  7.050101e+09  1.172420e+09   2020.000000  2.500005e+06   \n",
       "\n",
       "       county           lat          long  \n",
       "count     0.0  18970.000000  18970.000000  \n",
       "mean      NaN     40.394737    -86.300395  \n",
       "std       NaN      4.440290     18.219242  \n",
       "min       NaN    -51.812200   -155.901000  \n",
       "25%       NaN     37.273700    -80.166800  \n",
       "50%       NaN     38.258600    -77.514200  \n",
       "75%       NaN     44.439500    -76.238400  \n",
       "max       NaN     59.746600      9.095700  "
      ]
     },
     "execution_count": 858,
     "metadata": {},
     "output_type": "execute_result"
    }
   ],
   "source": [
    "df.describe()"
   ]
  },
  {
   "cell_type": "code",
   "execution_count": 859,
   "metadata": {},
   "outputs": [
    {
     "data": {
      "text/plain": [
       "Unnamed: 0        int64\n",
       "id                int64\n",
       "url              object\n",
       "region           object\n",
       "region_url       object\n",
       "price             int64\n",
       "year            float64\n",
       "manufacturer     object\n",
       "model            object\n",
       "condition        object\n",
       "cylinders        object\n",
       "fuel             object\n",
       "odometer        float64\n",
       "title_status     object\n",
       "transmission     object\n",
       "vin              object\n",
       "drive            object\n",
       "size             object\n",
       "type             object\n",
       "paint_color      object\n",
       "image_url        object\n",
       "description      object\n",
       "county          float64\n",
       "state            object\n",
       "lat             float64\n",
       "long            float64\n",
       "dtype: object"
      ]
     },
     "execution_count": 859,
     "metadata": {},
     "output_type": "execute_result"
    }
   ],
   "source": [
    "#datatype for each column\n",
    "df.dtypes"
   ]
  },
  {
   "cell_type": "code",
   "execution_count": 860,
   "metadata": {},
   "outputs": [
    {
     "data": {
      "text/plain": [
       "Index(['Unnamed: 0', 'id', 'price', 'year', 'odometer', 'county', 'lat',\n",
       "       'long'],\n",
       "      dtype='object')"
      ]
     },
     "execution_count": 860,
     "metadata": {},
     "output_type": "execute_result"
    }
   ],
   "source": [
    "df._get_numeric_data().columns"
   ]
  },
  {
   "cell_type": "code",
   "execution_count": 861,
   "metadata": {},
   "outputs": [
    {
     "data": {
      "text/plain": [
       "<matplotlib.axes._subplots.AxesSubplot at 0x2d541668>"
      ]
     },
     "execution_count": 861,
     "metadata": {},
     "output_type": "execute_result"
    },
    {
     "data": {
      "image/png": "[encoded data removed]",
      "text/plain": [
       "<Figure size 864x648 with 2 Axes>"
      ]
     },
     "metadata": {},
     "output_type": "display_data"
    }
   ],
   "source": [
    "#correlation matrix\n",
    "\n",
    "corrmat = df.corr()\n",
    "f, ax = plt.subplots(figsize=(12, 9))\n",
    "sns.heatmap(corrmat, annot=True, square=True)"
   ]
  },
  {
   "cell_type": "code",
   "execution_count": 862,
   "metadata": {},
   "outputs": [
    {
     "data": {
      "text/html": [
       "<div>\n",
       "<style scoped>\n",
       "    .dataframe tbody tr th:only-of-type {\n",
       "        vertical-align: middle;\n",
       "    }\n",
       "\n",
       "    .dataframe tbody tr th {\n",
       "        vertical-align: top;\n",
       "    }\n",
       "\n",
       "    .dataframe thead th {\n",
       "        text-align: right;\n",
       "    }\n",
       "</style>\n",
       "<table border=\"1\" class=\"dataframe\">\n",
       "  <thead>\n",
       "    <tr style=\"text-align: right;\">\n",
       "      <th></th>\n",
       "      <th>Total</th>\n",
       "      <th>Percent</th>\n",
       "    </tr>\n",
       "  </thead>\n",
       "  <tbody>\n",
       "    <tr>\n",
       "      <th>county</th>\n",
       "      <td>20001</td>\n",
       "      <td>1.000000</td>\n",
       "    </tr>\n",
       "    <tr>\n",
       "      <th>size</th>\n",
       "      <td>13115</td>\n",
       "      <td>0.655717</td>\n",
       "    </tr>\n",
       "    <tr>\n",
       "      <th>condition</th>\n",
       "      <td>9152</td>\n",
       "      <td>0.457577</td>\n",
       "    </tr>\n",
       "    <tr>\n",
       "      <th>cylinders</th>\n",
       "      <td>7085</td>\n",
       "      <td>0.354232</td>\n",
       "    </tr>\n",
       "    <tr>\n",
       "      <th>vin</th>\n",
       "      <td>6645</td>\n",
       "      <td>0.332233</td>\n",
       "    </tr>\n",
       "    <tr>\n",
       "      <th>paint_color</th>\n",
       "      <td>5514</td>\n",
       "      <td>0.275686</td>\n",
       "    </tr>\n",
       "    <tr>\n",
       "      <th>drive</th>\n",
       "      <td>4642</td>\n",
       "      <td>0.232088</td>\n",
       "    </tr>\n",
       "    <tr>\n",
       "      <th>type</th>\n",
       "      <td>3659</td>\n",
       "      <td>0.182941</td>\n",
       "    </tr>\n",
       "    <tr>\n",
       "      <th>odometer</th>\n",
       "      <td>2389</td>\n",
       "      <td>0.119444</td>\n",
       "    </tr>\n",
       "    <tr>\n",
       "      <th>lat</th>\n",
       "      <td>1031</td>\n",
       "      <td>0.051547</td>\n",
       "    </tr>\n",
       "    <tr>\n",
       "      <th>long</th>\n",
       "      <td>1031</td>\n",
       "      <td>0.051547</td>\n",
       "    </tr>\n",
       "    <tr>\n",
       "      <th>manufacturer</th>\n",
       "      <td>705</td>\n",
       "      <td>0.035248</td>\n",
       "    </tr>\n",
       "    <tr>\n",
       "      <th>model</th>\n",
       "      <td>265</td>\n",
       "      <td>0.013249</td>\n",
       "    </tr>\n",
       "    <tr>\n",
       "      <th>transmission</th>\n",
       "      <td>190</td>\n",
       "      <td>0.009500</td>\n",
       "    </tr>\n",
       "    <tr>\n",
       "      <th>title_status</th>\n",
       "      <td>110</td>\n",
       "      <td>0.005500</td>\n",
       "    </tr>\n",
       "    <tr>\n",
       "      <th>fuel</th>\n",
       "      <td>73</td>\n",
       "      <td>0.003650</td>\n",
       "    </tr>\n",
       "    <tr>\n",
       "      <th>year</th>\n",
       "      <td>12</td>\n",
       "      <td>0.000600</td>\n",
       "    </tr>\n",
       "    <tr>\n",
       "      <th>image_url</th>\n",
       "      <td>0</td>\n",
       "      <td>0.000000</td>\n",
       "    </tr>\n",
       "    <tr>\n",
       "      <th>description</th>\n",
       "      <td>0</td>\n",
       "      <td>0.000000</td>\n",
       "    </tr>\n",
       "    <tr>\n",
       "      <th>state</th>\n",
       "      <td>0</td>\n",
       "      <td>0.000000</td>\n",
       "    </tr>\n",
       "    <tr>\n",
       "      <th>price</th>\n",
       "      <td>0</td>\n",
       "      <td>0.000000</td>\n",
       "    </tr>\n",
       "    <tr>\n",
       "      <th>region_url</th>\n",
       "      <td>0</td>\n",
       "      <td>0.000000</td>\n",
       "    </tr>\n",
       "    <tr>\n",
       "      <th>region</th>\n",
       "      <td>0</td>\n",
       "      <td>0.000000</td>\n",
       "    </tr>\n",
       "    <tr>\n",
       "      <th>url</th>\n",
       "      <td>0</td>\n",
       "      <td>0.000000</td>\n",
       "    </tr>\n",
       "    <tr>\n",
       "      <th>id</th>\n",
       "      <td>0</td>\n",
       "      <td>0.000000</td>\n",
       "    </tr>\n",
       "    <tr>\n",
       "      <th>Unnamed: 0</th>\n",
       "      <td>0</td>\n",
       "      <td>0.000000</td>\n",
       "    </tr>\n",
       "  </tbody>\n",
       "</table>\n",
       "</div>"
      ],
      "text/plain": [
       "              Total   Percent\n",
       "county        20001  1.000000\n",
       "size          13115  0.655717\n",
       "condition      9152  0.457577\n",
       "cylinders      7085  0.354232\n",
       "vin            6645  0.332233\n",
       "paint_color    5514  0.275686\n",
       "drive          4642  0.232088\n",
       "type           3659  0.182941\n",
       "odometer       2389  0.119444\n",
       "lat            1031  0.051547\n",
       "long           1031  0.051547\n",
       "manufacturer    705  0.035248\n",
       "model           265  0.013249\n",
       "transmission    190  0.009500\n",
       "title_status    110  0.005500\n",
       "fuel             73  0.003650\n",
       "year             12  0.000600\n",
       "image_url         0  0.000000\n",
       "description       0  0.000000\n",
       "state             0  0.000000\n",
       "price             0  0.000000\n",
       "region_url        0  0.000000\n",
       "region            0  0.000000\n",
       "url               0  0.000000\n",
       "id                0  0.000000\n",
       "Unnamed: 0        0  0.000000"
      ]
     },
     "execution_count": 862,
     "metadata": {},
     "output_type": "execute_result"
    }
   ],
   "source": [
    "#check missing value\n",
    "\n",
    "total = df.isnull().sum().sort_values(ascending=False)\n",
    "percent = (df.isnull().sum()/df.isnull().count()).sort_values(ascending=False)\n",
    "missing_data = pd.concat([total, percent], axis=1, keys=['Total', 'Percent'])\n",
    "missing_data"
   ]
  },
  {
   "cell_type": "code",
   "execution_count": 863,
   "metadata": {},
   "outputs": [
    {
     "data": {
      "text/plain": [
       "<Figure size 4320x4320 with 0 Axes>"
      ]
     },
     "metadata": {},
     "output_type": "display_data"
    },
    {
     "data": {
      "image/png": "[encoded data removed]",
      "text/plain": [
       "<Figure size 432x288 with 5 Axes>"
      ]
     },
     "metadata": {},
     "output_type": "display_data"
    }
   ],
   "source": [
    "#check outliers using boxplot\n",
    "\n",
    "plt.figure(figsize=(60, 60))\n",
    "f, axes = plt.subplots(1, 5)\n",
    "sns.boxplot(y=df[\"price\"], ax=axes[0])\n",
    "sns.boxplot(y=df[\"odometer\"], ax=axes[1])\n",
    "sns.boxplot(y=df[\"year\"], ax=axes[2])\n",
    "sns.boxplot(y=df[\"lat\"], ax=axes[3])\n",
    "sns.boxplot(y=df[\"long\"], ax=axes[4])\n",
    "plt.subplots_adjust(wspace=1)"
   ]
  },
  {
   "cell_type": "markdown",
   "metadata": {},
   "source": [
    "#### Shows the number of occurrences of some category"
   ]
  },
  {
   "cell_type": "code",
   "execution_count": 864,
   "metadata": {},
   "outputs": [
    {
     "data": {
      "text/plain": [
       "<matplotlib.axes._subplots.AxesSubplot at 0x23acdbe0>"
      ]
     },
     "execution_count": 864,
     "metadata": {},
     "output_type": "execute_result"
    },
    {
     "data": {
      "image/png": "[encoded data removed]",
      "text/plain": [
       "<Figure size 432x288 with 1 Axes>"
      ]
     },
     "metadata": {},
     "output_type": "display_data"
    }
   ],
   "source": [
    "sns.countplot(x = 'condition', data = df)"
   ]
  },
  {
   "cell_type": "code",
   "execution_count": 865,
   "metadata": {},
   "outputs": [
    {
     "data": {
      "text/plain": [
       "<matplotlib.axes._subplots.AxesSubplot at 0x29f13f60>"
      ]
     },
     "execution_count": 865,
     "metadata": {},
     "output_type": "execute_result"
    },
    {
     "data": {
      "image/png": "[encoded data removed]",
      "text/plain": [
       "<Figure size 432x288 with 1 Axes>"
      ]
     },
     "metadata": {},
     "output_type": "display_data"
    }
   ],
   "source": [
    "sns.countplot(x = 'fuel', data = df)"
   ]
  },
  {
   "cell_type": "code",
   "execution_count": 866,
   "metadata": {},
   "outputs": [
    {
     "data": {
      "text/plain": [
       "<matplotlib.axes._subplots.AxesSubplot at 0x2a1623c8>"
      ]
     },
     "execution_count": 866,
     "metadata": {},
     "output_type": "execute_result"
    },
    {
     "data": {
      "image/png": "[encoded data removed]",
      "text/plain": [
       "<Figure size 432x288 with 1 Axes>"
      ]
     },
     "metadata": {},
     "output_type": "display_data"
    }
   ],
   "source": [
    "sns.countplot(x = 'cylinders', data = df)"
   ]
  },
  {
   "cell_type": "code",
   "execution_count": 867,
   "metadata": {},
   "outputs": [
    {
     "data": {
      "text/plain": [
       "<matplotlib.axes._subplots.AxesSubplot at 0x2a1c3da0>"
      ]
     },
     "execution_count": 867,
     "metadata": {},
     "output_type": "execute_result"
    },
    {
     "data": {
      "image/png": "[encoded data removed]",
      "text/plain": [
       "<Figure size 432x288 with 1 Axes>"
      ]
     },
     "metadata": {},
     "output_type": "display_data"
    }
   ],
   "source": [
    "sns.countplot(x = 'type', data = df)"
   ]
  },
  {
   "cell_type": "code",
   "execution_count": 868,
   "metadata": {},
   "outputs": [
    {
     "data": {
      "text/plain": [
       "<matplotlib.axes._subplots.AxesSubplot at 0x2a234470>"
      ]
     },
     "execution_count": 868,
     "metadata": {},
     "output_type": "execute_result"
    },
    {
     "data": {
      "image/png": "[encoded data removed]",
      "text/plain": [
       "<Figure size 432x288 with 1 Axes>"
      ]
     },
     "metadata": {},
     "output_type": "display_data"
    }
   ],
   "source": [
    "sns.countplot(x = 'title_status', data = df)"
   ]
  },
  {
   "cell_type": "code",
   "execution_count": 869,
   "metadata": {},
   "outputs": [
    {
     "data": {
      "text/plain": [
       "<matplotlib.axes._subplots.AxesSubplot at 0x2a1d8f60>"
      ]
     },
     "execution_count": 869,
     "metadata": {},
     "output_type": "execute_result"
    },
    {
     "data": {
      "image/png": "[encoded data removed]",
      "text/plain": [
       "<Figure size 432x288 with 1 Axes>"
      ]
     },
     "metadata": {},
     "output_type": "display_data"
    }
   ],
   "source": [
    "sns.countplot(x = 'transmission', data = df)"
   ]
  },
  {
   "cell_type": "code",
   "execution_count": 870,
   "metadata": {},
   "outputs": [
    {
     "data": {
      "text/plain": [
       "<matplotlib.axes._subplots.AxesSubplot at 0x2a2a9dd8>"
      ]
     },
     "execution_count": 870,
     "metadata": {},
     "output_type": "execute_result"
    },
    {
     "data": {
      "image/png": "[encoded data removed]",
      "text/plain": [
       "<Figure size 432x288 with 1 Axes>"
      ]
     },
     "metadata": {},
     "output_type": "display_data"
    }
   ],
   "source": [
    "sns.countplot(x = 'drive', data = df)"
   ]
  },
  {
   "cell_type": "code",
   "execution_count": 871,
   "metadata": {},
   "outputs": [
    {
     "data": {
      "text/plain": [
       "<matplotlib.axes._subplots.AxesSubplot at 0x2a36ec88>"
      ]
     },
     "execution_count": 871,
     "metadata": {},
     "output_type": "execute_result"
    },
    {
     "data": {
      "image/png": "[encoded data removed]",
      "text/plain": [
       "<Figure size 432x288 with 1 Axes>"
      ]
     },
     "metadata": {},
     "output_type": "display_data"
    }
   ],
   "source": [
    "sns.countplot(x = 'size', data = df)"
   ]
  },
  {
   "cell_type": "code",
   "execution_count": 872,
   "metadata": {},
   "outputs": [
    {
     "data": {
      "text/plain": [
       "<matplotlib.axes._subplots.AxesSubplot at 0x2a3aa6a0>"
      ]
     },
     "execution_count": 872,
     "metadata": {},
     "output_type": "execute_result"
    },
    {
     "data": {
      "image/png": "[encoded data removed]",
      "text/plain": [
       "<Figure size 432x288 with 1 Axes>"
      ]
     },
     "metadata": {},
     "output_type": "display_data"
    }
   ],
   "source": [
    "sns.countplot(x = 'state', data = df)"
   ]
  },
  {
   "cell_type": "code",
   "execution_count": 873,
   "metadata": {},
   "outputs": [
    {
     "data": {
      "text/plain": [
       "<matplotlib.axes._subplots.AxesSubplot at 0x2a420dd8>"
      ]
     },
     "execution_count": 873,
     "metadata": {},
     "output_type": "execute_result"
    },
    {
     "data": {
      "image/png": "[encoded data removed]",
      "text/plain": [
       "<Figure size 432x288 with 1 Axes>"
      ]
     },
     "metadata": {},
     "output_type": "display_data"
    }
   ],
   "source": [
    "sns.countplot(x = 'region', data = df)"
   ]
  },
  {
   "cell_type": "code",
   "execution_count": 874,
   "metadata": {},
   "outputs": [
    {
     "data": {
      "text/plain": [
       "<matplotlib.axes._subplots.AxesSubplot at 0x2a454940>"
      ]
     },
     "execution_count": 874,
     "metadata": {},
     "output_type": "execute_result"
    },
    {
     "data": {
      "image/png": "[encoded data removed]",
      "text/plain": [
       "<Figure size 432x288 with 1 Axes>"
      ]
     },
     "metadata": {},
     "output_type": "display_data"
    }
   ],
   "source": [
    "sns.countplot(x = 'paint_color', data = df)"
   ]
  },
  {
   "cell_type": "markdown",
   "metadata": {},
   "source": [
    "#### Check data distribution"
   ]
  },
  {
   "cell_type": "code",
   "execution_count": 875,
   "metadata": {},
   "outputs": [
    {
     "name": "stderr",
     "output_type": "stream",
     "text": [
      "C:\\ProgramData\\Anaconda3\\lib\\site-packages\\matplotlib\\axes\\_axes.py:6462: UserWarning: The 'normed' kwarg is deprecated, and has been replaced by the 'density' kwarg.\n",
      "  warnings.warn(\"The 'normed' kwarg is deprecated, and has been \"\n"
     ]
    },
    {
     "data": {
      "image/png": "[encoded data removed]",
      "text/plain": [
       "<Figure size 432x288 with 1 Axes>"
      ]
     },
     "metadata": {},
     "output_type": "display_data"
    }
   ],
   "source": [
    "sns.distplot(df[df['year'].notnull()]['year'], kde=False, bins=10);"
   ]
  },
  {
   "cell_type": "code",
   "execution_count": 876,
   "metadata": {},
   "outputs": [
    {
     "name": "stderr",
     "output_type": "stream",
     "text": [
      "C:\\ProgramData\\Anaconda3\\lib\\site-packages\\matplotlib\\axes\\_axes.py:6462: UserWarning: The 'normed' kwarg is deprecated, and has been replaced by the 'density' kwarg.\n",
      "  warnings.warn(\"The 'normed' kwarg is deprecated, and has been \"\n"
     ]
    },
    {
     "data": {
      "image/png": "[encoded data removed]",
      "text/plain": [
       "<Figure size 432x288 with 1 Axes>"
      ]
     },
     "metadata": {},
     "output_type": "display_data"
    }
   ],
   "source": [
    "sns.distplot(df[df['odometer'].notnull()]['odometer'], kde=False, bins=10);"
   ]
  },
  {
   "cell_type": "code",
   "execution_count": 877,
   "metadata": {},
   "outputs": [
    {
     "name": "stderr",
     "output_type": "stream",
     "text": [
      "C:\\ProgramData\\Anaconda3\\lib\\site-packages\\matplotlib\\axes\\_axes.py:6462: UserWarning: The 'normed' kwarg is deprecated, and has been replaced by the 'density' kwarg.\n",
      "  warnings.warn(\"The 'normed' kwarg is deprecated, and has been \"\n"
     ]
    },
    {
     "data": {
      "image/png": "[encoded data removed]",
      "text/plain": [
       "<Figure size 432x288 with 1 Axes>"
      ]
     },
     "metadata": {},
     "output_type": "display_data"
    }
   ],
   "source": [
    "sns.distplot(df[df['price'].notnull()]['price'], kde=False, bins=10);"
   ]
  },
  {
   "cell_type": "code",
   "execution_count": 878,
   "metadata": {},
   "outputs": [
    {
     "data": {
      "text/plain": [
       "<Figure size 7200x7200 with 0 Axes>"
      ]
     },
     "metadata": {},
     "output_type": "display_data"
    },
    {
     "data": {
      "image/png": "[encoded data removed]",
      "text/plain": [
       "<Figure size 360x360 with 6 Axes>"
      ]
     },
     "metadata": {},
     "output_type": "display_data"
    }
   ],
   "source": [
    "#correlation between odometer and price\n",
    "\n",
    "plt.figure(figsize=(100, 100))\n",
    "df_nona= df[df['odometer'].notnull()]\n",
    "g = sns.pairplot(df_nona[['price', 'odometer']] )"
   ]
  },
  {
   "cell_type": "code",
   "execution_count": 879,
   "metadata": {},
   "outputs": [
    {
     "data": {
      "text/plain": [
       "<Figure size 7200x7200 with 0 Axes>"
      ]
     },
     "metadata": {},
     "output_type": "display_data"
    },
    {
     "data": {
      "image/png": "[encoded data removed]",
      "text/plain": [
       "<Figure size 360x360 with 6 Axes>"
      ]
     },
     "metadata": {},
     "output_type": "display_data"
    }
   ],
   "source": [
    "#correlation between price and year\n",
    "\n",
    "plt.figure(figsize=(100, 100))\n",
    "df_nona= df[df['year'].notnull()]\n",
    "g = sns.pairplot(df_nona[['price', 'year']] )"
   ]
  },
  {
   "cell_type": "markdown",
   "metadata": {},
   "source": [
    "### Data Preparation"
   ]
  },
  {
   "cell_type": "code",
   "execution_count": 880,
   "metadata": {},
   "outputs": [],
   "source": [
    "df = pd.read_csv('used_cars.csv')"
   ]
  },
  {
   "cell_type": "code",
   "execution_count": 881,
   "metadata": {},
   "outputs": [],
   "source": [
    "#county doesn't have any values and we don't need unnamed column\n",
    "df = df.drop(columns = ['Unnamed: 0','county'])"
   ]
  },
  {
   "cell_type": "code",
   "execution_count": 882,
   "metadata": {},
   "outputs": [
    {
     "data": {
      "text/plain": [
       "Index(['id', 'url', 'region', 'region_url', 'price', 'year', 'manufacturer',\n",
       "       'model', 'condition', 'cylinders', 'fuel', 'odometer', 'title_status',\n",
       "       'transmission', 'vin', 'drive', 'size', 'type', 'paint_color',\n",
       "       'image_url', 'description', 'state', 'lat', 'long'],\n",
       "      dtype='object')"
      ]
     },
     "execution_count": 882,
     "metadata": {},
     "output_type": "execute_result"
    }
   ],
   "source": [
    "df.columns"
   ]
  },
  {
   "cell_type": "markdown",
   "metadata": {},
   "source": [
    "#### Dealing with Missing Value"
   ]
  },
  {
   "cell_type": "code",
   "execution_count": 883,
   "metadata": {},
   "outputs": [],
   "source": [
    "# cdf['cylinders']=cdf['cylinders'].str.replace('cylinders','')"
   ]
  },
  {
   "cell_type": "code",
   "execution_count": 884,
   "metadata": {},
   "outputs": [],
   "source": [
    "#Max fill function for manufacturer\n",
    "# df['model'].fillna(df['model'].value_counts().idxmax(), inplace=True)"
   ]
  },
  {
   "cell_type": "code",
   "execution_count": 885,
   "metadata": {},
   "outputs": [],
   "source": [
    "df = df.replace(0, np.NaN)\n",
    "\n",
    "# fill missing values with mean column values\n",
    "df['odometer'].fillna(df['odometer'].mean(), inplace=True)\n",
    "df['price'].fillna(df['price'].mean(), inplace=True)\n",
    "df['year'].fillna(df['year'].mean(), inplace=True)\n",
    "df['lat'].fillna(df['lat'].mean(), inplace=True)\n",
    "df['long'].fillna(df['long'].mean(), inplace=True)"
   ]
  },
  {
   "cell_type": "code",
   "execution_count": 886,
   "metadata": {},
   "outputs": [],
   "source": [
    "#fill missing values with 'other'\n",
    "\n",
    "df['cylinders'].fillna('other', inplace=True)"
   ]
  },
  {
   "cell_type": "code",
   "execution_count": 887,
   "metadata": {
    "scrolled": true
   },
   "outputs": [
    {
     "data": {
      "text/plain": [
       "0"
      ]
     },
     "execution_count": 887,
     "metadata": {},
     "output_type": "execute_result"
    }
   ],
   "source": [
    "df['cylinders'].isnull().sum()"
   ]
  },
  {
   "cell_type": "code",
   "execution_count": 888,
   "metadata": {},
   "outputs": [],
   "source": [
    "#fill missing values with 'other'\n",
    "\n",
    "df['fuel'].fillna('other', inplace=True)"
   ]
  },
  {
   "cell_type": "code",
   "execution_count": 889,
   "metadata": {},
   "outputs": [
    {
     "data": {
      "text/plain": [
       "0"
      ]
     },
     "execution_count": 889,
     "metadata": {},
     "output_type": "execute_result"
    }
   ],
   "source": [
    "df['fuel'].isnull().sum()"
   ]
  },
  {
   "cell_type": "code",
   "execution_count": 890,
   "metadata": {},
   "outputs": [],
   "source": [
    "#Max fill function for title_status\n",
    "# df['title_status'].fillna(df['title_status'].value_counts().idxmax(), inplace=True)"
   ]
  },
  {
   "cell_type": "code",
   "execution_count": 891,
   "metadata": {},
   "outputs": [
    {
     "data": {
      "text/plain": [
       "110"
      ]
     },
     "execution_count": 891,
     "metadata": {},
     "output_type": "execute_result"
    }
   ],
   "source": [
    "df['title_status'].isnull().sum()"
   ]
  },
  {
   "cell_type": "code",
   "execution_count": 892,
   "metadata": {},
   "outputs": [],
   "source": [
    "#fill missing values with 'other'\n",
    "\n",
    "df['transmission'].fillna('other', inplace=True)"
   ]
  },
  {
   "cell_type": "code",
   "execution_count": 893,
   "metadata": {},
   "outputs": [
    {
     "data": {
      "text/plain": [
       "0"
      ]
     },
     "execution_count": 893,
     "metadata": {},
     "output_type": "execute_result"
    }
   ],
   "source": [
    "df['transmission'].isnull().sum()"
   ]
  },
  {
   "cell_type": "code",
   "execution_count": 894,
   "metadata": {},
   "outputs": [],
   "source": [
    "#fill missing values with 'other'\n",
    "\n",
    "df['drive'].fillna('other', inplace=True)"
   ]
  },
  {
   "cell_type": "code",
   "execution_count": 895,
   "metadata": {},
   "outputs": [
    {
     "data": {
      "text/plain": [
       "0"
      ]
     },
     "execution_count": 895,
     "metadata": {},
     "output_type": "execute_result"
    }
   ],
   "source": [
    "df['drive'].isnull().sum()"
   ]
  },
  {
   "cell_type": "code",
   "execution_count": 896,
   "metadata": {},
   "outputs": [],
   "source": [
    "#fill missing values with 'other'\n",
    "\n",
    "df['type'].fillna('other', inplace=True)"
   ]
  },
  {
   "cell_type": "code",
   "execution_count": 897,
   "metadata": {},
   "outputs": [
    {
     "data": {
      "text/plain": [
       "0"
      ]
     },
     "execution_count": 897,
     "metadata": {},
     "output_type": "execute_result"
    }
   ],
   "source": [
    "df['type'].isnull().sum()"
   ]
  },
  {
   "cell_type": "code",
   "execution_count": 898,
   "metadata": {},
   "outputs": [],
   "source": [
    "df = df.drop(columns = ['vin', 'paint_color','size','id','url','region_url','image_url','description'])"
   ]
  },
  {
   "cell_type": "code",
   "execution_count": 899,
   "metadata": {},
   "outputs": [],
   "source": [
    "df.dropna(inplace=True)"
   ]
  },
  {
   "cell_type": "markdown",
   "metadata": {},
   "source": [
    "##### Dealing with Outliers"
   ]
  },
  {
   "cell_type": "code",
   "execution_count": 900,
   "metadata": {},
   "outputs": [],
   "source": [
    "# from scipy import stats\n",
    "\n",
    "# z = np.abs(stats.zscore(df[['odometer','price']]))\n",
    "# df= df[(z < 3).all(axis=1)]"
   ]
  },
  {
   "cell_type": "code",
   "execution_count": null,
   "metadata": {},
   "outputs": [
    {
     "data": {
      "text/plain": [
       "(10312, 16)"
      ]
     },
     "execution_count": 901,
     "metadata": {},
     "output_type": "execute_result"
    }
   ],
   "source": [
    "df.shape"
   ]
  },
  {
   "cell_type": "markdown",
   "metadata": {},
   "source": [
    "### Feature Engineering"
   ]
  },
  {
   "cell_type": "code",
   "execution_count": null,
   "metadata": {},
   "outputs": [],
   "source": [
    "#binning for cylinders to reduce imbalance data\n",
    "\n",
    "cylinders_conditions = [\n",
    "    df['cylinders'].str.contains('6 cylinders'),\n",
    "    df['cylinders'].str.contains('4 cylinders'),\n",
    "    df['cylinders'].str.contains('8 cylinders')]\n",
    "choices = ['medium', 'small', 'large']\n",
    "df['cylinders'] = np.select(cylinders_conditions, choices, default='other')"
   ]
  },
  {
   "cell_type": "code",
   "execution_count": null,
   "metadata": {},
   "outputs": [],
   "source": [
    "#binning for fuel to reduce imbalance data\n",
    "\n",
    "fuel_conditions = [\n",
    "    df['fuel'].str.contains('gas'),\n",
    "    df['fuel'].str.contains('diesel')]\n",
    "fuel_choices = ['gas', 'diesel']\n",
    "df['fuel'] = np.select(fuel_conditions, fuel_choices, default='other')"
   ]
  },
  {
   "cell_type": "code",
   "execution_count": null,
   "metadata": {},
   "outputs": [],
   "source": [
    "#binning for condition to reduce imbalance data\n",
    "\n",
    "conditions = [\n",
    "    df['condition'].str.contains('excellent'),\n",
    "    df['condition'].str.contains('good'),\n",
    "    df['condition'].str.contains('like new'),\n",
    "    df['condition'].str.contains('fair'),\n",
    "    df['condition'].str.contains('salvage'),\n",
    "    df['condition'].str.contains('new')]\n",
    "choices = ['excellent', 'good', 'new', 'fair', 'fair', 'new']\n",
    "df['condition'] = np.select(conditions, choices, default='other')"
   ]
  },
  {
   "cell_type": "code",
   "execution_count": null,
   "metadata": {},
   "outputs": [],
   "source": [
    "#binning for condition to reduce imbalance data\n",
    "\n",
    "status_conditions = [\n",
    "    df['title_status'].str.contains('clean'),\n",
    "    df['title_status'].str.contains('rebuilt')]\n",
    "choices = ['excellent', 'good']\n",
    "df['title_status'] = np.select(status_conditions, choices, default='fair')"
   ]
  },
  {
   "cell_type": "code",
   "execution_count": null,
   "metadata": {},
   "outputs": [],
   "source": [
    "# df = df[['condition', 'cylinders', 'drive', 'odometer', 'fuel', 'year', 'state', 'price']]"
   ]
  },
  {
   "cell_type": "code",
   "execution_count": null,
   "metadata": {},
   "outputs": [],
   "source": [
    "from sklearn.preprocessing import LabelEncoder\n",
    "\n",
    "labelencoder = LabelEncoder()\n",
    "df['cylinders'] = labelencoder.fit_transform(df['cylinders'])\n",
    "labelencoder = LabelEncoder()\n",
    "df['title_status'] = labelencoder.fit_transform(df['title_status'])\n",
    "labelencoder = LabelEncoder()\n",
    "df['manufacturer'] = labelencoder.fit_transform(df['manufacturer'])\n",
    "labelencoder = LabelEncoder()\n",
    "df['model'] = labelencoder.fit_transform(df['model'])\n",
    "labelencoder = LabelEncoder()\n",
    "df['region'] = labelencoder.fit_transform(df['region'])"
   ]
  },
  {
   "cell_type": "code",
   "execution_count": null,
   "metadata": {},
   "outputs": [],
   "source": [
    "enc = pd.get_dummies(df[['drive', 'fuel', 'state', 'transmission', 'type']])\n",
    "df = df.join(enc)\n",
    "df.head()"
   ]
  },
  {
   "cell_type": "code",
   "execution_count": null,
   "metadata": {},
   "outputs": [],
   "source": [
    "sc = MinMaxScaler()\n",
    "df[['price', 'year', 'odometer', 'cylinders', 'title_status', 'manufacturer', 'model', 'region', 'lat', 'long']] = sc.fit_transform(df[['price', 'year', 'odometer', 'cylinders', 'title_status', 'manufacturer', 'model','region', 'lat', 'long']])\n",
    "df.head()"
   ]
  },
  {
   "cell_type": "code",
   "execution_count": null,
   "metadata": {},
   "outputs": [],
   "source": [
    "df.columns"
   ]
  },
  {
   "cell_type": "markdown",
   "metadata": {},
   "source": [
    "### Clustering"
   ]
  },
  {
   "cell_type": "code",
   "execution_count": null,
   "metadata": {},
   "outputs": [],
   "source": [
    "# df = pd.read_csv('used_cars.csv')\n",
    "# df = df.replace(0, np.NaN)\n",
    "\n",
    "# # fill missing values with mean column values\n",
    "# df['odometer'].fillna(df['odometer'].mean(), inplace=True)\n",
    "# df['price'].fillna(df['price'].mean(), inplace=True)\n",
    "\n",
    "# # from scipy import stats\n",
    "\n",
    "# # z = np.abs(stats.zscore(df[['odometer','price']]))\n",
    "# # df= df[(z < 3).all(axis=1)]\n",
    "\n",
    "# df = df.drop(columns = ['Unnamed: 0','county'])\n",
    "# df.dropna(inplace=True)"
   ]
  },
  {
   "cell_type": "code",
   "execution_count": null,
   "metadata": {},
   "outputs": [],
   "source": [
    "X = df[['lat', 'long']]\n",
    "X['cluster'] = 0\n",
    "X.head()"
   ]
  },
  {
   "cell_type": "code",
   "execution_count": null,
   "metadata": {},
   "outputs": [],
   "source": [
    "scaler = MinMaxScaler()\n",
    "X = scaler.fit_transform(X)\n",
    "X = X.tolist()\n",
    "X"
   ]
  },
  {
   "cell_type": "code",
   "execution_count": null,
   "metadata": {},
   "outputs": [],
   "source": [
    "#calculate euclidian distance\n",
    "def euclidian(u, v):\n",
    "    return sum((p-q)**2 for p, q in zip(u, v))**0.5"
   ]
  },
  {
   "cell_type": "code",
   "execution_count": null,
   "metadata": {},
   "outputs": [],
   "source": [
    "# flag = 0\n",
    "# #perform k-means algorithm until all centroid point has same value\n",
    "# while (True):\n",
    "#     cluster = []\n",
    "#     flag += 1\n",
    "    \n",
    "#     for i in range(len(X)):\n",
    "#         euclid = []\n",
    "#         #calculate euclidian distance\n",
    "#         for l in range(0, k):\n",
    "#             euclid.append(euclidian(X[i][:n_feat],centroids[l]))\n",
    "# #         euclid.append(euclidian(X[i][:2],centroids[0]))\n",
    "# #         euclid.append(euclidian(X[i][:2],centroids[1]))\n",
    "# #         euclid.append(euclidian(X[i][:2],centroids[2]))\n",
    "# #         euclid.append(euclidian(X[i][:2],centroids[3]))\n",
    "# #         euclid.append(euclidian(X[i][:2],centroids[4]))\n",
    "#         #select cluster from minimum euclidean\n",
    "#         idx = np.argmin(euclid)\n",
    "#         cluster.append(idx+1)\n",
    "#         #add cluster and euclidian distance to X\n",
    "#         X[i][2] = idx+1\n",
    "# #         X[i][3] = euclid[idx]\n",
    "        \n",
    "#     #clustering the centroids\n",
    "#     group = {}\n",
    "#     for j in set(cluster):\n",
    "#         group[j] = [i for i in range(len(cluster)) if cluster[i] == j]\n",
    "\n",
    "#     #store centroid information of each cluster\n",
    "#     dataX = {}\n",
    "#     for j in range(1,k+1):\n",
    "#         dataX[j] = [X[group[j][i]][:n_feat] for i in range(len(group[j]))]\n",
    "\n",
    "#     #assign new centroids to each cluster\n",
    "#     new_centroids = []\n",
    "#     for l in range(1,k+1):\n",
    "#         new_centroids.append(np.mean(dataX[l], axis=0).tolist())\n",
    "# #     new_centroids.append(np.mean(dataX[1], axis=0).tolist())\n",
    "# #     new_centroids.append(np.mean(dataX[2], axis=0).tolist())\n",
    "# #     new_centroids.append(np.mean(dataX[3], axis=0).tolist())\n",
    "# #     new_centroids.append(np.mean(dataX[4], axis=0).tolist())\n",
    "# #     new_centroids.append(np.mean(dataX[5], axis=0).tolist())\n",
    "    \n",
    "#     if (centroids == new_centroids):\n",
    "#         break\n",
    "    \n",
    "#     centroids = copy.copy(new_centroids)"
   ]
  },
  {
   "cell_type": "code",
   "execution_count": null,
   "metadata": {},
   "outputs": [],
   "source": [
    "def kmeans(n_neighbour, n_feat, centroids):\n",
    "    #perform k-means algorithm until all centroid point has same value\n",
    "    while (True):\n",
    "        cluster = []\n",
    "\n",
    "        for i in range(len(X)):\n",
    "            euclid = []\n",
    "            #calculate euclidian distance\n",
    "            for l in range(0, n_neighbour):\n",
    "                euclid.append(euclidian(X[i][:n_feat],centroids[l]))\n",
    "            #select cluster from minimum euclidean\n",
    "            idx = np.argmin(euclid)\n",
    "            cluster.append(idx+1)\n",
    "            #add cluster to X\n",
    "            X[i][n_feat] = idx+1\n",
    "\n",
    "        #clustering the centroids\n",
    "        group = {}\n",
    "        for j in set(cluster):\n",
    "            group[j] = [i for i in range(len(cluster)) if cluster[i] == j]\n",
    "    \n",
    "        #store centroid information of each cluster\n",
    "        dataX = {}\n",
    "        for j in range(1,n_neighbour+1):\n",
    "            dataX[j] = [X[group[j][i]][:n_feat] for i in range(len(group[j]))]\n",
    "        \n",
    "        #assign new centroids to each cluster\n",
    "        new_centroids = []\n",
    "        for l in range(1,n_neighbour+1):\n",
    "            new_centroids.append(np.mean(dataX[l], axis=0).tolist())\n",
    "        \n",
    "        if (centroids == new_centroids):\n",
    "            return centroids\n",
    "#             break\n",
    "        \n",
    "        centroids = copy.copy(new_centroids)"
   ]
  },
  {
   "cell_type": "code",
   "execution_count": null,
   "metadata": {},
   "outputs": [],
   "source": [
    "k = 4\n",
    "n_feat = 2\n",
    "centroids = []\n",
    "for i in range(k):\n",
    "    rand = np.random.randint(0, len(X)-1)\n",
    "    centroids.append(X[rand][:n_feat])\n",
    "centroids"
   ]
  },
  {
   "cell_type": "code",
   "execution_count": null,
   "metadata": {},
   "outputs": [],
   "source": [
    "centroids = kmeans(k, n_feat, centroids)"
   ]
  },
  {
   "cell_type": "code",
   "execution_count": null,
   "metadata": {},
   "outputs": [],
   "source": [
    "X = np.array(X)\n",
    "xy = pd.DataFrame(data=X)\n",
    "output = plt.scatter(X[:,0], X[:,1], s = 100, c = xy[2], marker = 'o', alpha = 1, )\n",
    "centers = np.array(centroids)\n",
    "plt.scatter(centers[:,0], centers[:,1], c='red', s=200, alpha=1 , marker='o');\n",
    "plt.title('Hasil Klustering K-Means')\n",
    "plt.colorbar (output)\n",
    "plt.show()"
   ]
  },
  {
   "cell_type": "code",
   "execution_count": null,
   "metadata": {},
   "outputs": [],
   "source": [
    "from sklearn.metrics import silhouette_score\n",
    "from sklearn.cluster import KMeans\n",
    "\n",
    "score = silhouette_score(xy.iloc[:,[0,1]], xy[2])\n",
    "score"
   ]
  },
  {
   "cell_type": "code",
   "execution_count": null,
   "metadata": {},
   "outputs": [],
   "source": [
    "# sil = []\n",
    "# kmax = 7\n",
    "\n",
    "# # dissimilarity would not be defined for a single cluster, thus, minimum number of clusters should be 2\n",
    "# for k in range(2, kmax+1):\n",
    "#     n_feat = 2\n",
    "#     centroids = []\n",
    "#     for i in range(k):\n",
    "#         rand = np.random.randint(0, len(X)-1)\n",
    "#         centroids.append(X[rand][:n_feat])\n",
    "#     km = kmeans(k, n_feat, centroids)\n",
    "#     xy = pd.DataFrame(data=X)\n",
    "#     sc = silhouette_score(xy.iloc[:,[0,1]], xy[2])\n",
    "#     print(k)\n",
    "#     print(sc)\n",
    "#     sil.append(sc)"
   ]
  },
  {
   "cell_type": "code",
   "execution_count": null,
   "metadata": {},
   "outputs": [],
   "source": [
    "sil"
   ]
  },
  {
   "cell_type": "code",
   "execution_count": null,
   "metadata": {},
   "outputs": [],
   "source": [
    "K = range(2,kmax+1)\n",
    "plt.plot(K, sil, 'bx-') \n",
    "plt.xlabel('Values of K') \n",
    "plt.ylabel('Silhoutte score') \n",
    "plt.title('Silhoutte score for each K') \n",
    "plt.show() "
   ]
  },
  {
   "cell_type": "code",
   "execution_count": null,
   "metadata": {},
   "outputs": [],
   "source": []
  }
 ],
 "metadata": {
  "kernelspec": {
   "display_name": "Python 3",
   "language": "python",
   "name": "python3"
  },
  "language_info": {
   "codemirror_mode": {
    "name": "ipython",
    "version": 3
   },
   "file_extension": ".py",
   "mimetype": "text/x-python",
   "name": "python",
   "nbconvert_exporter": "python",
   "pygments_lexer": "ipython3",
   "version": "3.6.4"
  }
 },
 "nbformat": 4,
 "nbformat_minor": 2
}
